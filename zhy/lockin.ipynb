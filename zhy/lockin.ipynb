{
 "cells": [
  {
   "cell_type": "code",
   "execution_count": 1,
   "metadata": {},
   "outputs": [
    {
     "name": "stdout",
     "output_type": "stream",
     "text": [
      "d:\\Git-Project\\odmactor\\zhy\n"
     ]
    }
   ],
   "source": [
    "from pymeasure import instruments, adapters\n",
    "import pyvisa as visa\n",
    "from lockin import LockInAmplifier, Lister\n",
    "\n",
    "# ============================\n",
    "import asyncio\n",
    "import numpy as np\n",
    "from ipywidgets import Button\n",
    "import matplotlib.pyplot as plt\n",
    "import plotly.graph_objs as go\n"
   ]
  },
  {
   "cell_type": "code",
   "execution_count": null,
   "metadata": {},
   "outputs": [],
   "source": []
  },
  {
   "cell_type": "code",
   "execution_count": 6,
   "metadata": {},
   "outputs": [
    {
     "name": "stdout",
     "output_type": "stream",
     "text": [
      "Lock-in Amplifier is found on GPIB0::23::INSTR: Stanford_Research_Systems,SR830,s/n35577,ver1.03\n"
     ]
    }
   ],
   "source": [
    "\n",
    "%timeit\n",
    "N = 1000\n",
    "lockin = LockInAmplifier(N)"
   ]
  },
  {
   "cell_type": "code",
   "execution_count": 8,
   "metadata": {},
   "outputs": [],
   "source": [
    "%timeit\n",
    "a = [lockin.magnitude for _ in range(1000)]"
   ]
  },
  {
   "cell_type": "code",
   "execution_count": 5,
   "metadata": {},
   "outputs": [
    {
     "data": {
      "application/vnd.jupyter.widget-view+json": {
       "model_id": "fa296850a5f74dd3b42ae76d69a5971b",
       "version_major": 2,
       "version_minor": 0
      },
      "text/plain": [
       "FigureWidget({\n",
       "    'data': [{'type': 'scatter',\n",
       "              'uid': '340eb5d1-eca2-4d0d-a457-6681dd597959',\n",
       " …"
      ]
     },
     "metadata": {},
     "output_type": "display_data"
    },
    {
     "data": {
      "application/vnd.jupyter.widget-view+json": {
       "model_id": "552fd9ea22974a50904860cfd79efb54",
       "version_major": 2,
       "version_minor": 0
      },
      "text/plain": [
       "Button(description='stop', style=ButtonStyle())"
      ]
     },
     "metadata": {},
     "output_type": "display_data"
    }
   ],
   "source": [
    "\n",
    "# create a figure widget and a plot\n",
    "fig_trace = go.FigureWidget()\n",
    "# fig_trace.add_scatter(x=trace.getIndex(), y=trace.getData()[0])\n",
    "fig_trace.add_scatter(x=list(range(N)), y=lockin.get_data_with_time())\n",
    "l = Lister(N)\n",
    "# fig_trace.add_scatter(x=list(range(N)), y=l.new())\n",
    "\n",
    "\n",
    "async def update_trace():\n",
    "    \"\"\"Update the plot every 0.1 s\"\"\"\n",
    "    while True:\n",
    "        # fig_trace.data[0].y = trace.getData()[0]\n",
    "        fig_trace.data[0].y = lockin.get_data_with_time()\n",
    "        # fig_trace.data[0].y = l.new()\n",
    "        \n",
    "\n",
    "        await asyncio.sleep(0.1)\n",
    "\n",
    "\n",
    "# If this cell is re-excecuted and there was a previous task, stop it first to avoid a dead daemon\n",
    "try:\n",
    "    task_trace.cancel()\n",
    "except:\n",
    "    pass\n",
    "\n",
    "loop = asyncio.get_event_loop()\n",
    "task_trace = loop.create_task(update_trace())\n",
    "# loop.run_until_complete(update_trace())\n",
    "\n",
    "# # create a stop button\n",
    "button_trace_stop = Button(description='stop')\n",
    "button_trace_stop.on_click(lambda a: task_trace.cancel())\n",
    "\n",
    "display(fig_trace, button_trace_stop)\n"
   ]
  },
  {
   "cell_type": "code",
   "execution_count": 27,
   "metadata": {},
   "outputs": [
    {
     "data": {
      "text/plain": [
       "[<matplotlib.lines.Line2D at 0x25046875070>]"
      ]
     },
     "execution_count": 27,
     "metadata": {},
     "output_type": "execute_result"
    },
    {
     "data": {
      "image/png": "[encoded data removed]",
      "text/plain": [
       "<Figure size 432x288 with 1 Axes>"
      ]
     },
     "metadata": {
      "needs_background": "light"
     },
     "output_type": "display_data"
    }
   ],
   "source": [
    "plt.plot(lockin.get_data_with_time())"
   ]
  },
  {
   "cell_type": "code",
   "execution_count": 1,
   "metadata": {},
   "outputs": [],
   "source": [
    "from pymeasure import instruments\n",
    "lockin = instruments.srs.SR830('GPIB0::23::INSTR')"
   ]
  },
  {
   "cell_type": "code",
   "execution_count": 15,
   "metadata": {},
   "outputs": [
    {
     "data": {
      "text/plain": [
       "9.49954e-08"
      ]
     },
     "execution_count": 15,
     "metadata": {},
     "output_type": "execute_result"
    }
   ],
   "source": [
    "lockin.magnitude"
   ]
  },
  {
   "cell_type": "code",
   "execution_count": 55,
   "metadata": {},
   "outputs": [],
   "source": [
    "d = lockin.get_buffer(end=100)\n",
    "lockin.clear"
   ]
  },
  {
   "cell_type": "code",
   "execution_count": 16,
   "metadata": {},
   "outputs": [
    {
     "data": {
      "text/plain": [
       "3.3967380319999994e-07"
      ]
     },
     "execution_count": 16,
     "metadata": {},
     "output_type": "execute_result"
    }
   ],
   "source": [
    "np.mean(lockin.get_data_with_time())"
   ]
  },
  {
   "cell_type": "code",
   "execution_count": 59,
   "metadata": {},
   "outputs": [
    {
     "data": {
      "text/plain": [
       "array([ 9.6858003e-08,  8.1956841e-08,  1.0989652e-07, -8.5682132e-08,\n",
       "       -2.6077214e-07, -8.1956841e-08,  1.1734710e-07,  2.0489188e-07,\n",
       "        9.1270067e-08, -6.5193035e-08], dtype=float32)"
      ]
     },
     "execution_count": 59,
     "metadata": {},
     "output_type": "execute_result"
    }
   ],
   "source": [
    "lockin.get_buffer(end=10)"
   ]
  },
  {
   "cell_type": "code",
   "execution_count": 59,
   "metadata": {},
   "outputs": [],
   "source": [
    "d.shape\n",
    "import matplotlib.pyplot as plt"
   ]
  },
  {
   "cell_type": "code",
   "execution_count": 63,
   "metadata": {},
   "outputs": [
    {
     "data": {
      "image/png": "[encoded data removed]",
      "text/plain": [
       "<Figure size 432x288 with 1 Axes>"
      ]
     },
     "metadata": {
      "needs_background": "light"
     },
     "output_type": "display_data"
    },
    {
     "ename": "KeyboardInterrupt",
     "evalue": "",
     "output_type": "error",
     "traceback": [
      "\u001b[1;31m---------------------------------------------------------------------------\u001b[0m",
      "\u001b[1;31mKeyboardInterrupt\u001b[0m                         Traceback (most recent call last)",
      "\u001b[1;32m~\\AppData\\Local\\Temp/ipykernel_2308/849096489.py\u001b[0m in \u001b[0;36m<module>\u001b[1;34m\u001b[0m\n\u001b[0;32m      8\u001b[0m \u001b[1;33m\u001b[0m\u001b[0m\n\u001b[0;32m      9\u001b[0m     \u001b[1;31m# ax.set_ylim(np.min(y), np.max(y))\u001b[0m\u001b[1;33m\u001b[0m\u001b[1;33m\u001b[0m\u001b[1;33m\u001b[0m\u001b[0m\n\u001b[1;32m---> 10\u001b[1;33m     \u001b[0mplt\u001b[0m\u001b[1;33m.\u001b[0m\u001b[0mpause\u001b[0m\u001b[1;33m(\u001b[0m\u001b[1;36m0.1\u001b[0m\u001b[1;33m)\u001b[0m\u001b[1;33m\u001b[0m\u001b[1;33m\u001b[0m\u001b[0m\n\u001b[0m",
      "\u001b[1;32m~\\miniconda3\\lib\\site-packages\\matplotlib\\pyplot.py\u001b[0m in \u001b[0;36mpause\u001b[1;34m(interval)\u001b[0m\n\u001b[0;32m    558\u001b[0m         \u001b[0mcanvas\u001b[0m\u001b[1;33m.\u001b[0m\u001b[0mstart_event_loop\u001b[0m\u001b[1;33m(\u001b[0m\u001b[0minterval\u001b[0m\u001b[1;33m)\u001b[0m\u001b[1;33m\u001b[0m\u001b[1;33m\u001b[0m\u001b[0m\n\u001b[0;32m    559\u001b[0m     \u001b[1;32melse\u001b[0m\u001b[1;33m:\u001b[0m\u001b[1;33m\u001b[0m\u001b[1;33m\u001b[0m\u001b[0m\n\u001b[1;32m--> 560\u001b[1;33m         \u001b[0mtime\u001b[0m\u001b[1;33m.\u001b[0m\u001b[0msleep\u001b[0m\u001b[1;33m(\u001b[0m\u001b[0minterval\u001b[0m\u001b[1;33m)\u001b[0m\u001b[1;33m\u001b[0m\u001b[1;33m\u001b[0m\u001b[0m\n\u001b[0m\u001b[0;32m    561\u001b[0m \u001b[1;33m\u001b[0m\u001b[0m\n\u001b[0;32m    562\u001b[0m \u001b[1;33m\u001b[0m\u001b[0m\n",
      "\u001b[1;31mKeyboardInterrupt\u001b[0m: "
     ]
    }
   ],
   "source": [
    "fig, ax = plt.subplots()\n",
    "# The time vector is fixed. No need to read it on every iteration.\n",
    "N = 100\n",
    "line, = ax.plot(lockin.get_buffer(end=N))\n",
    "\n",
    "\n",
    "\n",
    "while True:\n",
    "\n",
    "    plt.pause(0.1)\n",
    "\n",
    "while True:\n",
    "    line.set_ydata(lockin.get_buffer(end=N))\n",
    "\n",
    "    # ax.set_ylim(np.min(y), np.max(y))\n",
    "    plt.pause(0.1)\n"
   ]
  },
  {
   "cell_type": "code",
   "execution_count": 1,
   "metadata": {},
   "outputs": [],
   "source": [
    "import TimeTagger as tt"
   ]
  },
  {
   "cell_type": "code",
   "execution_count": 28,
   "metadata": {},
   "outputs": [],
   "source": [
    "tagger = tt.createTimeTagger()\n",
    "tagger.setTestSignal(7, True)\n",
    "\n",
    "conf = {\n",
    "    'binwidth': 100000000,\n",
    "    'n_values':100,\n",
    "    'channels':[7]\n",
    "}\n",
    "# counter = tt.Counter(tagger, channels=[7], n_values=100, binwidth=1000)\n",
    "counter = tt.Counter(tagger, **conf)\n"
   ]
  },
  {
   "cell_type": "code",
   "execution_count": 29,
   "metadata": {},
   "outputs": [
    {
     "name": "stdout",
     "output_type": "stream",
     "text": [
      "[[86 85 85 85 86 85 85 85 86 85 85 85 86 85 85 86 85 85 85 85 86 85 85 86\n",
      "  85 85 85 86 85 85 85 86 85 85 85 86 85 85 85 86 85 85 85 86 85 85 85 86\n",
      "  85 85 85 86 85 85 85 86 85 85 85 85 86 85 85 85 86 85 85 85 86 85 85 85\n",
      "  86 85 85 85 86 85 85 85 86 85 85 85 86 85 85 85 86 85 85 85 86 85 85 85\n",
      "  85 86 85 85]]\n"
     ]
    }
   ],
   "source": [
    "tagger.setTestSignal([7], True)\n",
    "\n",
    "counter.start()\n",
    "print(counter.getData())\n"
   ]
  },
  {
   "cell_type": "code",
   "execution_count": 31,
   "metadata": {},
   "outputs": [
    {
     "data": {
      "text/plain": [
       "('1740000JG0',)"
      ]
     },
     "execution_count": 31,
     "metadata": {},
     "output_type": "execute_result"
    }
   ],
   "source": [
    "tt.freeTimeTagger(tagger)\n",
    "tt.scanTimeTagger()"
   ]
  },
  {
   "cell_type": "code",
   "execution_count": 69,
   "metadata": {},
   "outputs": [],
   "source": [
    "import numpy as np\n",
    "for i in range(3):\n",
    "    np.savetxt('{}.txt'.format(i), lockin.get_data_with_time())"
   ]
  },
  {
   "cell_type": "code",
   "execution_count": 9,
   "metadata": {},
   "outputs": [],
   "source": [
    "import pyvisa"
   ]
  },
  {
   "cell_type": "code",
   "execution_count": 10,
   "metadata": {},
   "outputs": [
    {
     "data": {
      "text/plain": [
       "('USB0::0x0AAD::0x0054::104174::INSTR', 'ASRL3::INSTR', 'GPIB0::23::INSTR')"
      ]
     },
     "execution_count": 10,
     "metadata": {},
     "output_type": "execute_result"
    }
   ],
   "source": [
    "rm=pyvisa.ResourceManager()\n",
    "rm.list_resources()"
   ]
  },
  {
   "cell_type": "code",
   "execution_count": 1,
   "metadata": {},
   "outputs": [],
   "source": [
    "import nidaqmx\n",
    "\n",
    "# -0.07476920729381246\n",
    "# >>> with nidaqmx.Task() as task:\n",
    "# ...     task.ai_channels.add_ai_voltage_chan(\"Dev1/ai0\")\n",
    "# ...     task.read(number_of_samples_per_channel=2)\n",
    "# ...\n",
    "# [0.26001373311970705, 0.37796597238117036]\n",
    "# >>> from nidaqmx.constants import LineGrouping\n",
    "# >>> with nidaqmx.Task() as task:\n",
    "# ...     task.di_channels.add_di_chan(\n",
    "# ...         \"cDAQ2Mod4/port0/line0:1\", line_grouping=LineGrouping.CHAN_PER_LINE)\n",
    "# ...     task.read(number_of_samples_per_channel=2)\n",
    "# ...\n",
    "# [[False, True], [True, True]]"
   ]
  },
  {
   "cell_type": "code",
   "execution_count": 6,
   "metadata": {},
   "outputs": [],
   "source": [
    "with nidaqmx.Task() as task:\n",
    "    task.ai_channels.add_ai_voltage_chan(\"Dev1/ai0\")\n",
    "    \n",
    "    task.read(number_of_samples_per_channel=100)\n"
   ]
  },
  {
   "cell_type": "code",
   "execution_count": 4,
   "metadata": {},
   "outputs": [
    {
     "ename": "DaqError",
     "evalue": "Task specified is invalid or does not exist.\nStatus Code: -200088",
     "output_type": "error",
     "traceback": [
      "\u001b[1;31m---------------------------------------------------------------------------\u001b[0m",
      "\u001b[1;31mDaqError\u001b[0m                                  Traceback (most recent call last)",
      "\u001b[1;32m~\\AppData\\Local\\Temp/ipykernel_26708/1643006748.py\u001b[0m in \u001b[0;36m<module>\u001b[1;34m\u001b[0m\n\u001b[1;32m----> 1\u001b[1;33m \u001b[0mtask\u001b[0m\u001b[1;33m.\u001b[0m\u001b[0mread\u001b[0m\u001b[1;33m(\u001b[0m\u001b[1;33m)\u001b[0m\u001b[1;33m\u001b[0m\u001b[1;33m\u001b[0m\u001b[0m\n\u001b[0m",
      "\u001b[1;32m~\\AppData\\Roaming\\Python\\Python38\\site-packages\\nidaqmx\\task.py\u001b[0m in \u001b[0;36mread\u001b[1;34m(self, number_of_samples_per_channel, timeout)\u001b[0m\n\u001b[0;32m    598\u001b[0m             \u001b[1;33m<\u001b[0m\u001b[0mtype\u001b[0m \u001b[1;34m'float'\u001b[0m\u001b[1;33m>\u001b[0m\u001b[1;33m\u001b[0m\u001b[1;33m\u001b[0m\u001b[0m\n\u001b[0;32m    599\u001b[0m         \"\"\"\n\u001b[1;32m--> 600\u001b[1;33m         \u001b[0mchannels_to_read\u001b[0m \u001b[1;33m=\u001b[0m \u001b[0mself\u001b[0m\u001b[1;33m.\u001b[0m\u001b[0min_stream\u001b[0m\u001b[1;33m.\u001b[0m\u001b[0mchannels_to_read\u001b[0m\u001b[1;33m\u001b[0m\u001b[1;33m\u001b[0m\u001b[0m\n\u001b[0m\u001b[0;32m    601\u001b[0m         \u001b[0mnumber_of_channels\u001b[0m \u001b[1;33m=\u001b[0m \u001b[0mlen\u001b[0m\u001b[1;33m(\u001b[0m\u001b[0mchannels_to_read\u001b[0m\u001b[1;33m.\u001b[0m\u001b[0mchannel_names\u001b[0m\u001b[1;33m)\u001b[0m\u001b[1;33m\u001b[0m\u001b[1;33m\u001b[0m\u001b[0m\n\u001b[0;32m    602\u001b[0m         \u001b[0mread_chan_type\u001b[0m \u001b[1;33m=\u001b[0m \u001b[0mchannels_to_read\u001b[0m\u001b[1;33m.\u001b[0m\u001b[0mchan_type\u001b[0m\u001b[1;33m\u001b[0m\u001b[1;33m\u001b[0m\u001b[0m\n",
      "\u001b[1;32m~\\AppData\\Roaming\\Python\\Python38\\site-packages\\nidaqmx\\_task_modules\\in_stream.py\u001b[0m in \u001b[0;36mchannels_to_read\u001b[1;34m(self)\u001b[0m\n\u001b[0;32m    218\u001b[0m                 \u001b[1;32mbreak\u001b[0m\u001b[1;33m\u001b[0m\u001b[1;33m\u001b[0m\u001b[0m\n\u001b[0;32m    219\u001b[0m \u001b[1;33m\u001b[0m\u001b[0m\n\u001b[1;32m--> 220\u001b[1;33m         \u001b[0mcheck_for_error\u001b[0m\u001b[1;33m(\u001b[0m\u001b[0msize_or_code\u001b[0m\u001b[1;33m)\u001b[0m\u001b[1;33m\u001b[0m\u001b[1;33m\u001b[0m\u001b[0m\n\u001b[0m\u001b[0;32m    221\u001b[0m \u001b[1;33m\u001b[0m\u001b[0m\n\u001b[0;32m    222\u001b[0m         \u001b[1;32mreturn\u001b[0m \u001b[0mChannel\u001b[0m\u001b[1;33m.\u001b[0m\u001b[0m_factory\u001b[0m\u001b[1;33m(\u001b[0m\u001b[0mself\u001b[0m\u001b[1;33m.\u001b[0m\u001b[0m_handle\u001b[0m\u001b[1;33m,\u001b[0m \u001b[0mval\u001b[0m\u001b[1;33m.\u001b[0m\u001b[0mvalue\u001b[0m\u001b[1;33m.\u001b[0m\u001b[0mdecode\u001b[0m\u001b[1;33m(\u001b[0m\u001b[1;34m'ascii'\u001b[0m\u001b[1;33m)\u001b[0m\u001b[1;33m)\u001b[0m\u001b[1;33m\u001b[0m\u001b[1;33m\u001b[0m\u001b[0m\n",
      "\u001b[1;32m~\\AppData\\Roaming\\Python\\Python38\\site-packages\\nidaqmx\\errors.py\u001b[0m in \u001b[0;36mcheck_for_error\u001b[1;34m(error_code)\u001b[0m\n\u001b[0;32m    120\u001b[0m         \u001b[0mcfunc\u001b[0m\u001b[1;33m(\u001b[0m\u001b[0merror_buffer\u001b[0m\u001b[1;33m,\u001b[0m \u001b[1;36m2048\u001b[0m\u001b[1;33m)\u001b[0m\u001b[1;33m\u001b[0m\u001b[1;33m\u001b[0m\u001b[0m\n\u001b[0;32m    121\u001b[0m \u001b[1;33m\u001b[0m\u001b[0m\n\u001b[1;32m--> 122\u001b[1;33m         \u001b[1;32mraise\u001b[0m \u001b[0mDaqError\u001b[0m\u001b[1;33m(\u001b[0m\u001b[0merror_buffer\u001b[0m\u001b[1;33m.\u001b[0m\u001b[0mvalue\u001b[0m\u001b[1;33m.\u001b[0m\u001b[0mdecode\u001b[0m\u001b[1;33m(\u001b[0m\u001b[1;34m\"utf-8\"\u001b[0m\u001b[1;33m)\u001b[0m\u001b[1;33m,\u001b[0m \u001b[0merror_code\u001b[0m\u001b[1;33m)\u001b[0m\u001b[1;33m\u001b[0m\u001b[1;33m\u001b[0m\u001b[0m\n\u001b[0m\u001b[0;32m    123\u001b[0m \u001b[1;33m\u001b[0m\u001b[0m\n\u001b[0;32m    124\u001b[0m     \u001b[1;32melif\u001b[0m \u001b[0merror_code\u001b[0m \u001b[1;33m>\u001b[0m \u001b[1;36m0\u001b[0m\u001b[1;33m:\u001b[0m\u001b[1;33m\u001b[0m\u001b[1;33m\u001b[0m\u001b[0m\n",
      "\u001b[1;31mDaqError\u001b[0m: Task specified is invalid or does not exist.\nStatus Code: -200088"
     ]
    }
   ],
   "source": [
    "task.read()"
   ]
  }
 ],
 "metadata": {
  "interpreter": {
   "hash": "b859f89508e0e7baac2153d2bcae838f58eb7c128018a648607b0fa9bcefae9c"
  },
  "kernelspec": {
   "display_name": "Python 3.8.12 ('base')",
   "language": "python",
   "name": "python3"
  },
  "language_info": {
   "codemirror_mode": {
    "name": "ipython",
    "version": 3
   },
   "file_extension": ".py",
   "mimetype": "text/x-python",
   "name": "python",
   "nbconvert_exporter": "python",
   "pygments_lexer": "ipython3",
   "version": "3.8.12"
  },
  "orig_nbformat": 4
 },
 "nbformat": 4,
 "nbformat_minor": 2
}
