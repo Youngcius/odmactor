{
 "cells": [
  {
   "cell_type": "code",
   "execution_count": 1,
   "metadata": {
    "collapsed": true
   },
   "outputs": [],
   "source": [
    "import matplotlib.pyplot as plt\n",
    "from odmactor.scheduler import CWScheduler, PulseScheduler\n",
    "import scipy.constants as C\n",
    "import numpy as np\n",
    "import time\n",
    "from odmactor.instrument import *"
   ]
  },
  {
   "cell_type": "code",
   "execution_count": 2,
   "outputs": [
    {
     "name": "stdout",
     "output_type": "stream",
     "text": [
      "1 1 1\n",
      "Laser initialized\n",
      "--- USE ASGDLL_x64.dll ---\n",
      "<odmactor.instrument.asg.ASG object at 0x000001BB975E0100> <class 'odmactor.instrument.asg.ASG'>\n",
      "=========\n",
      "RsInstrument session 'USB0::0x0AAD::0x0054::104174::INSTR' <class 'odmactor.instrument.microwave.Microwave'>\n",
      "<class 'odmactor.instrument.microwave.Microwave'>\n",
      "Lock-in Amplifier is found on GPIB0::23::INSTR: Stanford_Research_Systems,SR830,s/n35577,ver1.03\n",
      "<odmactor.instrument.lockin.LockInAmplifier object at 0x000001BB97630820>\n"
     ]
    }
   ],
   "source": [
    "scheduler = CWScheduler(with_lockin=True, mw_ttl=1,with_ref=True)\n",
    "\n"
   ],
   "metadata": {
    "collapsed": false,
    "pycharm": {
     "name": "#%%\n"
    }
   }
  },
  {
   "cell_type": "code",
   "execution_count": null,
   "outputs": [],
   "source": [],
   "metadata": {
    "collapsed": false,
    "pycharm": {
     "name": "#%%\n"
    }
   }
  }
 ],
 "metadata": {
  "kernelspec": {
   "display_name": "Python 3",
   "language": "python",
   "name": "python3"
  },
  "language_info": {
   "codemirror_mode": {
    "name": "ipython",
    "version": 2
   },
   "file_extension": ".py",
   "mimetype": "text/x-python",
   "name": "python",
   "nbconvert_exporter": "python",
   "pygments_lexer": "ipython2",
   "version": "2.7.6"
  }
 },
 "nbformat": 4,
 "nbformat_minor": 0
}