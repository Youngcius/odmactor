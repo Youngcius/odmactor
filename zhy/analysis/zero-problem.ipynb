{
 "cells": [
  {
   "cell_type": "code",
   "execution_count": 1,
   "metadata": {},
   "outputs": [],
   "source": [
    "import json\n",
    "import numpy as np\n",
    "import matplotlib.pyplot as plt"
   ]
  },
  {
   "cell_type": "markdown",
   "metadata": {},
   "source": [
    "### CW zeros"
   ]
  },
  {
   "cell_type": "code",
   "execution_count": 31,
   "metadata": {},
   "outputs": [],
   "source": [
    "with open('data-zero/CW-counts-2.json', 'r') as f:\n",
    "    cw_counts = json.load(f)"
   ]
  },
  {
   "cell_type": "code",
   "execution_count": 32,
   "metadata": {},
   "outputs": [],
   "source": [
    "sig = cw_counts['counts']\n",
    "ref = cw_counts['counts_ref']\n",
    "sig_data = cw_counts['origin_data']\n",
    "ref_data = cw_counts['origin_data_ref']\n",
    "freqs = cw_counts['freqs']\n",
    "N = len(sig_data[0])"
   ]
  },
  {
   "cell_type": "code",
   "execution_count": 33,
   "metadata": {},
   "outputs": [
    {
     "data": {
      "text/plain": [
       "[<matplotlib.lines.Line2D at 0x1a74c8342b0>]"
      ]
     },
     "execution_count": 33,
     "metadata": {},
     "output_type": "execute_result"
    },
    {
     "data": {
      "image/png": "[encoded data removed]",
      "text/plain": [
       "<Figure size 432x288 with 1 Axes>"
      ]
     },
     "metadata": {
      "needs_background": "light"
     },
     "output_type": "display_data"
    }
   ],
   "source": [
    "plt.plot(freqs, sig)\n",
    "plt.plot(freqs, ref)\n"
   ]
  },
  {
   "cell_type": "code",
   "execution_count": 34,
   "metadata": {},
   "outputs": [],
   "source": [
    "zeros_sig = N - np.array(list(map(np.count_nonzero, sig_data)))\n",
    "zeros_ref = N - np.array(list(map(np.count_nonzero, ref_data)))\n"
   ]
  },
  {
   "cell_type": "code",
   "execution_count": 35,
   "metadata": {},
   "outputs": [
    {
     "data": {
      "text/plain": [
       "array([0, 0, 0, 0, 0, 0, 0, 0, 0, 0, 0, 0, 0, 0, 0, 0, 0, 0, 0, 0, 0, 0,\n",
       "       0, 0, 0, 0])"
      ]
     },
     "execution_count": 35,
     "metadata": {},
     "output_type": "execute_result"
    }
   ],
   "source": [
    "zeros_ref"
   ]
  },
  {
   "cell_type": "code",
   "execution_count": 38,
   "metadata": {},
   "outputs": [
    {
     "data": {
      "text/plain": [
       "(array([9.000e+00, 1.050e+02, 1.022e+03, 4.327e+03, 8.567e+03, 7.352e+03,\n",
       "        2.958e+03, 5.970e+02, 6.100e+01, 2.000e+00]),\n",
       " array([338. , 355.1, 372.2, 389.3, 406.4, 423.5, 440.6, 457.7, 474.8,\n",
       "        491.9, 509. ]),\n",
       " <BarContainer object of 10 artists>)"
      ]
     },
     "execution_count": 38,
     "metadata": {},
     "output_type": "execute_result"
    },
    {
     "data": {
      "image/png": "[encoded data removed]",
      "text/plain": [
       "<Figure size 432x288 with 1 Axes>"
      ]
     },
     "metadata": {
      "needs_background": "light"
     },
     "output_type": "display_data"
    }
   ],
   "source": [
    "plt.hist(sig_data[0])\n",
    "plt.hist(sig_data[3])\n"
   ]
  },
  {
   "cell_type": "code",
   "execution_count": 36,
   "metadata": {},
   "outputs": [
    {
     "data": {
      "text/plain": [
       "array([0, 0, 0, 0, 0, 0, 0, 0, 0, 0, 0, 0, 0, 0, 0, 0, 0, 0, 0, 0, 0, 0,\n",
       "       0, 0, 0, 0])"
      ]
     },
     "execution_count": 36,
     "metadata": {},
     "output_type": "execute_result"
    }
   ],
   "source": [
    "zeros_sig"
   ]
  },
  {
   "cell_type": "code",
   "execution_count": 21,
   "metadata": {},
   "outputs": [
    {
     "data": {
      "text/plain": [
       "25000"
      ]
     },
     "execution_count": 21,
     "metadata": {},
     "output_type": "execute_result"
    }
   ],
   "source": [
    "N"
   ]
  },
  {
   "cell_type": "markdown",
   "metadata": {},
   "source": [
    "### Pulse zeros"
   ]
  },
  {
   "cell_type": "code",
   "execution_count": 25,
   "metadata": {},
   "outputs": [],
   "source": [
    "with open('data-zero/Pulse-counts.json', 'r') as f:\n",
    "    pulse_counts = json.load(f)\n",
    "\n",
    "sig = pulse_counts['counts']\n",
    "ref = pulse_counts['counts_ref']\n",
    "sig_data = pulse_counts['origin_data']\n",
    "ref_data = pulse_counts['origin_data_ref']\n",
    "freqs = pulse_counts['freqs']\n",
    "N = len(sig_data[0])\n",
    "zeros_sig = N - np.array(list(map(np.count_nonzero, sig_data)))\n",
    "zeros_ref = N - np.array(list(map(np.count_nonzero, ref_data)))\n"
   ]
  },
  {
   "cell_type": "code",
   "execution_count": 26,
   "metadata": {},
   "outputs": [
    {
     "data": {
      "text/plain": [
       "array([   0, 5509, 4380, 6406, 4189, 6376, 4124, 6131, 6639, 4122, 4142,\n",
       "       4147, 4043, 3861, 4115, 6115, 6518, 6317, 4238, 3922, 4052, 6615,\n",
       "       4277, 4204, 4104, 4138, 4065, 4102, 6466, 3835, 3930, 3948, 3929,\n",
       "       4077, 4142, 6505, 6362, 4015, 3928, 6336, 6172, 3994, 4117, 6575,\n",
       "       4212, 6564])"
      ]
     },
     "execution_count": 26,
     "metadata": {},
     "output_type": "execute_result"
    }
   ],
   "source": [
    "zeros_sig"
   ]
  },
  {
   "cell_type": "code",
   "execution_count": 27,
   "metadata": {},
   "outputs": [
    {
     "data": {
      "text/plain": [
       "array([4008, 4192, 6512, 6165, 3984, 4040, 4111, 4098, 6659, 4038, 6711,\n",
       "       3994, 6398, 6266, 6577, 4217, 4053, 4122, 6635, 6487, 4026, 3961,\n",
       "       4150, 6619, 6296, 6343, 6566, 4047, 3740, 6426, 3821, 6230, 6417,\n",
       "       6379, 4116, 4037, 6294, 6576, 4034, 6488, 6709, 6385, 4091, 6673,\n",
       "       6565, 4012])"
      ]
     },
     "execution_count": 27,
     "metadata": {},
     "output_type": "execute_result"
    }
   ],
   "source": [
    "zeros_ref"
   ]
  },
  {
   "cell_type": "code",
   "execution_count": 28,
   "metadata": {},
   "outputs": [
    {
     "data": {
      "text/plain": [
       "250000"
      ]
     },
     "execution_count": 28,
     "metadata": {},
     "output_type": "execute_result"
    }
   ],
   "source": [
    "N"
   ]
  },
  {
   "cell_type": "code",
   "execution_count": 30,
   "metadata": {},
   "outputs": [
    {
     "data": {
      "text/plain": [
       "0.032"
      ]
     },
     "execution_count": 30,
     "metadata": {},
     "output_type": "execute_result"
    }
   ],
   "source": [
    "800 / 25000 "
   ]
  }
 ],
 "metadata": {
  "interpreter": {
   "hash": "37479b081fc6d58ddc5dfdcbab6df20db8b455d07a911c11d1bee8d2129afa79"
  },
  "kernelspec": {
   "display_name": "Python 3.8.12 ('base')",
   "language": "python",
   "name": "python3"
  },
  "language_info": {
   "codemirror_mode": {
    "name": "ipython",
    "version": 3
   },
   "file_extension": ".py",
   "mimetype": "text/x-python",
   "name": "python",
   "nbconvert_exporter": "python",
   "pygments_lexer": "ipython3",
   "version": "3.8.12"
  },
  "orig_nbformat": 4
 },
 "nbformat": 4,
 "nbformat_minor": 2
}
