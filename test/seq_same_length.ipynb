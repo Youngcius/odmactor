{
 "cells": [
  {
   "cell_type": "code",
   "execution_count": 1,
   "outputs": [
    {
     "name": "stdout",
     "output_type": "stream",
     "text": [
      "--- USE ASGDLL_x64.dll ---\n",
      "1 1 1 1\n",
      "[[3000.0, 3000, 900, 0], [0, 4000.0, 1000, 1900], [0, 0], [10000000, 10000000], [0, 6000.0, 700, 200], [0, 0], [0, 0], [10000000, 10000000]]\n",
      "[[3000.0, 3000, 900, 0], [0, 4000.0, 1000, 1900], [0, 0], [0, 0], [0, 6000.0, 700, 200], [0, 0], [0, 0], [0, 0]]\n",
      "[[3000.0, 3000, 900, 0], [0, 4000.0, 1000, 1900], [0, 0], [1000, 0], [0, 6000.0, 700, 200], [0, 0], [0, 0], [1000, 0]]\n"
     ]
    }
   ],
   "source": [
    "import time\n",
    "\n",
    "seq = [\n",
    "    [3000.0, 3000, 900, 0],\n",
    "    [0, 4000.0, 1000, 1900],\n",
    "    [0, 0],\n",
    "    [10000000, 10000000],\n",
    "    [0, 6000.0, 700, 200],\n",
    "    [0, 0],\n",
    "    [0, 0],\n",
    "    [10000000, 10000000]\n",
    "]\n",
    "\n",
    "seq1 = [\n",
    "    [3000.0, 3000, 900, 0],\n",
    "    [0, 4000.0, 1000, 1900],\n",
    "    [0, 0],\n",
    "    [1000, 0],\n",
    "    [0, 6000.0, 700, 200],\n",
    "    [0, 0],\n",
    "    [0, 0],\n",
    "    [1000, 0]\n",
    "]\n",
    "\n",
    "seq0 = [\n",
    "    [3000.0, 3000, 900, 0],\n",
    "    [0, 4000.0, 1000, 1900],\n",
    "    [0, 0],\n",
    "    [0, 0],\n",
    "    [0, 6000.0, 700, 200],\n",
    "    [0, 0],\n",
    "    [0, 0],\n",
    "    [0, 0]\n",
    "]\n",
    "\n",
    "from odmactor.instrument import ASG\n",
    "\n",
    "asg = ASG()\n",
    "print(asg.connect(), asg.load_data(seq), asg.load_data(seq0), asg.load_data(seq1))\n",
    "asg.load_data(\n",
    "    [\n",
    "        [1000, 1000],\n",
    "        [1000, 1000],\n",
    "        [1000, 1000],\n",
    "        [1000, 1000],\n",
    "        [1000, 1000],\n",
    "        [1000, 1000],\n",
    "        [1000, 1000],\n",
    "        [1000, 1000],\n",
    "\n",
    "    ]\n",
    ")\n",
    "\n",
    "print(asg.normalize_data(seq))\n",
    "print(asg.normalize_data(seq0))\n",
    "print(asg.normalize_data(seq1))\n",
    "\n"
   ],
   "metadata": {
    "collapsed": false,
    "pycharm": {
     "name": "#%%\n"
    }
   }
  },
  {
   "cell_type": "code",
   "execution_count": 11,
   "outputs": [
    {
     "data": {
      "text/plain": "1"
     },
     "execution_count": 11,
     "metadata": {},
     "output_type": "execute_result"
    }
   ],
   "source": [
    "seq[3], seq[-1] = [10000, 10000], [10000, 10000]\n",
    "asg.load_data(seq)\n",
    "asg.start()"
   ],
   "metadata": {
    "collapsed": false,
    "pycharm": {
     "name": "#%%\n"
    }
   }
  },
  {
   "cell_type": "code",
   "execution_count": 12,
   "outputs": [
    {
     "data": {
      "text/plain": "1"
     },
     "execution_count": 12,
     "metadata": {},
     "output_type": "execute_result"
    }
   ],
   "source": [
    "asg.close()"
   ],
   "metadata": {
    "collapsed": false,
    "pycharm": {
     "name": "#%%\n"
    }
   }
  },
  {
   "cell_type": "code",
   "execution_count": 5,
   "outputs": [
    {
     "data": {
      "text/plain": "1"
     },
     "execution_count": 5,
     "metadata": {},
     "output_type": "execute_result"
    }
   ],
   "source": [
    "asg.load_data(\n",
    "    [\n",
    "        [1000,0],\n",
    "        [1000,0],\n",
    "        [1000,0],\n",
    "        [1000,0],\n",
    "        [1000,0],\n",
    "        [1000,0],\n",
    "        [1000,0],\n",
    "        [1000,0],\n",
    "    ]\n",
    ")"
   ],
   "metadata": {
    "collapsed": false,
    "pycharm": {
     "name": "#%%\n"
    }
   }
  },
  {
   "cell_type": "code",
   "execution_count": 6,
   "outputs": [
    {
     "data": {
      "text/plain": "1"
     },
     "execution_count": 6,
     "metadata": {},
     "output_type": "execute_result"
    }
   ],
   "source": [
    "asg.start()"
   ],
   "metadata": {
    "collapsed": false,
    "pycharm": {
     "name": "#%%\n"
    }
   }
  }
 ],
 "metadata": {
  "kernelspec": {
   "display_name": "Python 3",
   "language": "python",
   "name": "python3"
  },
  "language_info": {
   "codemirror_mode": {
    "name": "ipython",
    "version": 2
   },
   "file_extension": ".py",
   "mimetype": "text/x-python",
   "name": "python",
   "nbconvert_exporter": "python",
   "pygments_lexer": "ipython2",
   "version": "2.7.6"
  }
 },
 "nbformat": 4,
 "nbformat_minor": 0
}