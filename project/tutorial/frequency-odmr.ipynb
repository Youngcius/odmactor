{
 "cells": [
  {
   "cell_type": "markdown",
   "metadata": {
    "collapsed": true
   },
   "source": [
    "# Frequency-domain ODMR measurement"
   ]
  },
  {
   "cell_type": "markdown",
   "metadata": {},
   "source": [
    "\n",
    "\n",
    "![frequency-shceduling](./figure/frequency-shceduling.jpg)\n"
   ]
  },
  {
   "cell_type": "markdown",
   "metadata": {},
   "source": [
    "Import necessary modules and functions firstly"
   ]
  },
  {
   "cell_type": "code",
   "execution_count": 1,
   "metadata": {},
   "outputs": [],
   "source": [
    "import matplotlib.pyplot as plt\n",
    "from odmactor.scheduler import CWScheduler, PulseScheduler\n",
    "import scipy.constants as C\n",
    "import numpy as np\n",
    "import time\n"
   ]
  },
  {
   "cell_type": "markdown",
   "metadata": {},
   "source": [
    "## CW ODMR"
   ]
  },
  {
   "cell_type": "markdown",
   "metadata": {},
   "source": [
    "**1. Set measurement parameters**\n",
    "- Time bin $t$ per readout operation, number of readout operation $N$ per frequency measurement point\n",
    "- MW power $p$, MW frequencies for scanning modes, i.e., `[freq_start, freq_end, freq_step]`, unit: \"Hz\"\n"
   ]
  },
  {
   "cell_type": "code",
   "execution_count": 3,
   "metadata": {},
   "outputs": [],
   "source": [
    "t_ns = 1e5\n",
    "N = int(1e5 / 4)\n",
    "\n",
    "freq_start = 2.86 * C.giga\n",
    "freq_end = 2.88 * C.giga\n",
    "freq_step = 2 * C.mega\n",
    "p = 20\n"
   ]
  },
  {
   "cell_type": "markdown",
   "metadata": {},
   "source": [
    "**2. Construct a Continous-wave Scheduler and run**\n"
   ]
  },
  {
   "cell_type": "code",
   "execution_count": 4,
   "metadata": {},
   "outputs": [
    {
     "name": "stdout",
     "output_type": "stream",
     "text": [
      "--- USE ASGDLL_x64.dll ---\n",
      "Current Tagger input channels: {'apd': 1, 'asg': 2}\n",
      "Begin to run CW ODMR Scheduler. Frequency: 2.860 - 2.880 GHz.\n",
      "t: 100000.00 ns, N: 25000, T: 0.00 s, n_freqs: 11\n",
      "Estimated total running time: 27.50 s\n",
      "MW on/off status: True\n",
      "scanning freq 2.860 GHz\n",
      "scanning freq 2.862 GHz\n",
      "scanning freq 2.864 GHz\n",
      "scanning freq 2.866 GHz\n",
      "scanning freq 2.868 GHz\n",
      "scanning freq 2.870 GHz\n",
      "scanning freq 2.872 GHz\n",
      "scanning freq 2.874 GHz\n",
      "scanning freq 2.876 GHz\n",
      "scanning freq 2.878 GHz\n",
      "scanning freq 2.880 GHz\n",
      "finished data acquisition\n",
      "Detailed data result has been saved into ../output/CW-counts-2022-02-07-a0bc2246-885a-11ec-bf4c-046c59258eff.json\n",
      "Stopped: Scheduling process has stopped\n",
      "Closed: All instrument resources has been released\n"
     ]
    }
   ],
   "source": [
    "scheduler = CWScheduler()\n",
    "scheduler.configure_mw_paras(p)\n",
    "scheduler.configure_odmr_seq(t_ns, N)\n",
    "scheduler.set_mw_freqs(freq_start, freq_end, freq_step)\n",
    "scheduler.configure_tagger_counting()\n",
    "\n",
    "scheduler.run_scanning(with_ref=True)\n",
    "scheduler.close()\n",
    "\n"
   ]
  },
  {
   "cell_type": "code",
   "execution_count": 52,
   "outputs": [],
   "source": [
    "from RsInstrument import RsInstrument\n",
    "\n",
    "scheduler.mw_instr = RsInstrument('USB0::0x0AAD::0x0054::104174::INSTR', True, True)\n",
    "scheduler.configure_mw_paras(power=10, freq=2.87 * 1e9)\n"
   ],
   "metadata": {
    "collapsed": false,
    "pycharm": {
     "name": "#%%\n"
    }
   }
  },
  {
   "cell_type": "code",
   "execution_count": 46,
   "outputs": [],
   "source": [
    "scheduler.mw_instr.write_bool('OUTPUT:STATE', True)"
   ],
   "metadata": {
    "collapsed": false,
    "pycharm": {
     "name": "#%%\n"
    }
   }
  },
  {
   "cell_type": "code",
   "execution_count": 53,
   "outputs": [],
   "source": [
    "# scheduler.mw_instr.write_bool('OUTPUT:STATE', False)\n",
    "scheduler.mw_instr.close()"
   ],
   "metadata": {
    "collapsed": false,
    "pycharm": {
     "name": "#%%\n"
    }
   }
  },
  {
   "cell_type": "code",
   "execution_count": 35,
   "outputs": [
    {
     "data": {
      "text/plain": "0.01"
     },
     "execution_count": 35,
     "metadata": {},
     "output_type": "execute_result"
    }
   ],
   "source": [
    "0.03 / 3\n"
   ],
   "metadata": {
    "collapsed": false,
    "pycharm": {
     "name": "#%%\n"
    }
   }
  },
  {
   "cell_type": "code",
   "execution_count": 1,
   "outputs": [
    {
     "ename": "NameError",
     "evalue": "name 'scheduler' is not defined",
     "output_type": "error",
     "traceback": [
      "\u001B[1;31m---------------------------------------------------------------------------\u001B[0m",
      "\u001B[1;31mNameError\u001B[0m                                 Traceback (most recent call last)",
      "\u001B[1;32m~\\AppData\\Local\\Temp/ipykernel_19388/3688752481.py\u001B[0m in \u001B[0;36m<module>\u001B[1;34m\u001B[0m\n\u001B[1;32m----> 1\u001B[1;33m \u001B[0mscheduler\u001B[0m\u001B[1;33m.\u001B[0m\u001B[0masg\u001B[0m\u001B[1;33m.\u001B[0m\u001B[0mstart\u001B[0m\u001B[1;33m(\u001B[0m\u001B[1;33m)\u001B[0m\u001B[1;33m\u001B[0m\u001B[1;33m\u001B[0m\u001B[0m\n\u001B[0m",
      "\u001B[1;31mNameError\u001B[0m: name 'scheduler' is not defined"
     ]
    }
   ],
   "source": [
    "scheduler.asg.start()"
   ],
   "metadata": {
    "collapsed": false,
    "pycharm": {
     "name": "#%%\n"
    }
   }
  },
  {
   "cell_type": "markdown",
   "source": [
    "\n",
    "\n",
    "**3. Calculate contrast and plot figures**"
   ],
   "metadata": {
    "collapsed": false
   }
  },
  {
   "cell_type": "code",
   "execution_count": 5,
   "metadata": {},
   "outputs": [],
   "source": [
    "## count & contrast\n",
    "res_on_off = scheduler.result  # [freqs, counts, counts_ref]\n",
    "contrast = [sig / ref for sig, ref in zip(res_on_off[1], res_on_off[2])]"
   ]
  },
  {
   "cell_type": "code",
   "execution_count": 6,
   "metadata": {},
   "outputs": [
    {
     "data": {
      "text/plain": "<Figure size 576x396 with 1 Axes>",
      "image/png": "[encoded data removed]"
     },
     "metadata": {},
     "output_type": "display_data"
    }
   ],
   "source": [
    "plt.style.use('seaborn')\n",
    "\n",
    "plt.plot(res_on_off[0][2:], res_on_off[1][2:], 'o-', label='MW on')\n",
    "plt.plot(res_on_off[0][2:], res_on_off[2][2:], 'o-', label='MW off')\n",
    "plt.legend()\n",
    "plt.title('Counts')\n",
    "plt.show()"
   ]
  },
  {
   "cell_type": "code",
   "execution_count": 7,
   "metadata": {},
   "outputs": [
    {
     "data": {
      "text/plain": "<Figure size 576x396 with 1 Axes>",
      "image/png": "[encoded data removed]"
     },
     "metadata": {},
     "output_type": "display_data"
    }
   ],
   "source": [
    "plt.plot(res_on_off[0][2:], contrast[2:], 'o-')\n",
    "plt.title('Contrast')\n",
    "plt.show()"
   ]
  },
  {
   "cell_type": "code",
   "execution_count": 16,
   "outputs": [
    {
     "data": {
      "text/plain": "2.86"
     },
     "execution_count": 16,
     "metadata": {},
     "output_type": "execute_result"
    }
   ],
   "source": [],
   "metadata": {
    "collapsed": false,
    "pycharm": {
     "name": "#%%\n"
    }
   }
  },
  {
   "cell_type": "markdown",
   "metadata": {},
   "source": [
    "**4. Save data result**"
   ]
  },
  {
   "cell_type": "code",
   "execution_count": 19,
   "metadata": {},
   "outputs": [],
   "source": [
    "\n",
    "np.savetxt('cw-counting--{}dBm.txt'.format(p), np.array(res_on_off))\n",
    "np.savetxt('cw-contrast--{}dBm.txt'.format(p), np.vstack([res_on_off[0], contrast]).T)\n"
   ]
  },
  {
   "cell_type": "markdown",
   "metadata": {},
   "source": [
    "## Pulse ODMR\n"
   ]
  },
  {
   "cell_type": "markdown",
   "metadata": {
    "collapsed": false,
    "pycharm": {
     "name": "#%% md\n"
    }
   },
   "source": [
    "**1. Set measurement parameters**\n",
    "- number of readout operation $N$ per frequency measurement point\n",
    "- MW power $p$, MW frequencies for scanning modes, i.e., `[freq_start, freq_end, freq_step]`, unit: \"Hz\"\n",
    "- laser initilization time $t_{init}$, MW operation time $t_{mw}$, singal readout pulse time $t_{sig}$\n",
    "- optional default parameters: reference signals readout time $t_{ref}$ ($t_{ref} = t_{sig}$ actually), some time interval parameters\n",
    "- Time bin $t$ per readout operation is then calculated by the sequences parameters"
   ]
  },
  {
   "cell_type": "code",
   "execution_count": 12,
   "metadata": {},
   "outputs": [],
   "source": [
    "freq_start = 2.855 * C.giga\n",
    "freq_end = 2.89 * C.giga\n",
    "freq_step = 1 * C.mega\n",
    "\n",
    "t_init = 5e3\n",
    "t_mw = 1e3\n",
    "\n",
    "inter_init_mw = 3000\n",
    "inter_mw_read = 1000\n",
    "\n",
    "inter_readout = 2000\n",
    "t_read_sig = 800\n",
    "t_read_ref = t_read_sig\n",
    "pre_read = 100\n",
    "\n",
    "N = int(1e6/4)\n",
    "\n",
    "p = 8\n"
   ]
  },
  {
   "cell_type": "markdown",
   "metadata": {
    "pycharm": {
     "name": "#%% md\n"
    }
   },
   "source": [
    "**2. Construct a Pulse ODMR Scheduler and run**"
   ]
  },
  {
   "cell_type": "code",
   "execution_count": 13,
   "metadata": {
    "collapsed": false,
    "pycharm": {
     "name": "#%%\n"
    }
   },
   "outputs": [
    {
     "name": "stdout",
     "output_type": "stream",
     "text": [
      "--- USE ASGDLL_x64.dll ---\n",
      "Current Tagger input channels: {'apd': 1, 'asg': 2}\n"
     ]
    }
   ],
   "source": [
    "scheduler = PulseScheduler(mw_ttl=0)\n",
    "scheduler.configure_mw_paras(power=p)\n",
    "\n",
    "# single-signal readout\n",
    "\n",
    "scheduler.configure_odmr_seq(t_init, t_mw, t_read_sig=t_read_sig, t_read_ref=t_read_ref, inter_init_mw=inter_init_mw,\n",
    "                             pre_read=pre_read, inter_mw_read=inter_mw_read, inter_readout=inter_readout, N=N)\n",
    "# or readout with reference signals\n",
    "# scheduler.configure_odmr_seq(t_init, t_mw, t_read_sig=400, t_read_ref=400,inter_init_mw=inter_init_mw, N=N)\n",
    "\n",
    "scheduler.set_mw_freqs(freq_start, freq_end, freq_step)\n",
    "scheduler.configure_tagger_counting(reader='cbm')\n",
    "\n",
    "\n"
   ]
  },
  {
   "cell_type": "code",
   "execution_count": 14,
   "outputs": [
    {
     "data": {
      "text/plain": "<Figure size 1008x432 with 1 Axes>",
      "image/png": "[encoded data removed]"
     },
     "metadata": {},
     "output_type": "display_data"
    }
   ],
   "source": [
    "# observe sequences\n",
    "fig = scheduler.sequences_figure\n"
   ],
   "metadata": {
    "collapsed": false,
    "pycharm": {
     "name": "#%%\n"
    }
   }
  },
  {
   "cell_type": "code",
   "execution_count": 15,
   "outputs": [
    {
     "name": "stdout",
     "output_type": "stream",
     "text": [
      "Begin to run Pulse ODMR Scheduler. Frequency: 2.855 - 2.890 GHz.\n",
      "t: 13900.00 ns, N: 250000, T: 3.48 s, n_freqs: 36\n",
      "Estimated total running time: 125.10 s\n",
      "MW on/off status: True\n",
      "scanning freq 2.855 GHz\n",
      "scanning freq 2.856 GHz\n",
      "scanning freq 2.857 GHz\n",
      "scanning freq 2.858 GHz\n",
      "scanning freq 2.859 GHz\n",
      "scanning freq 2.860 GHz\n",
      "scanning freq 2.861 GHz\n",
      "scanning freq 2.862 GHz\n",
      "scanning freq 2.863 GHz\n",
      "scanning freq 2.864 GHz\n",
      "scanning freq 2.865 GHz\n",
      "scanning freq 2.866 GHz\n",
      "scanning freq 2.867 GHz\n",
      "scanning freq 2.868 GHz\n",
      "scanning freq 2.869 GHz\n",
      "scanning freq 2.870 GHz\n",
      "scanning freq 2.871 GHz\n",
      "scanning freq 2.872 GHz\n",
      "scanning freq 2.873 GHz\n",
      "scanning freq 2.874 GHz\n",
      "scanning freq 2.875 GHz\n",
      "scanning freq 2.876 GHz\n",
      "scanning freq 2.877 GHz\n",
      "scanning freq 2.878 GHz\n",
      "scanning freq 2.879 GHz\n",
      "scanning freq 2.880 GHz\n",
      "scanning freq 2.881 GHz\n",
      "scanning freq 2.882 GHz\n",
      "scanning freq 2.883 GHz\n",
      "scanning freq 2.884 GHz\n",
      "scanning freq 2.885 GHz\n",
      "scanning freq 2.886 GHz\n",
      "scanning freq 2.887 GHz\n",
      "scanning freq 2.888 GHz\n",
      "scanning freq 2.889 GHz\n",
      "scanning freq 2.890 GHz\n",
      "finished data acquisition\n",
      "Detailed data result has been saved into ../output/Pulse-counts-with-ref-2022-02-08-f07b882c-8943-11ec-ad10-046c59258eff.json\n",
      "Stopped: Scheduling process has stopped\n",
      "Closed: All instrument resources has been released\n"
     ]
    }
   ],
   "source": [
    "scheduler.run_scanning()\n",
    "\n",
    "scheduler.close()\n"
   ],
   "metadata": {
    "collapsed": false,
    "pycharm": {
     "name": "#%%\n"
    }
   }
  },
  {
   "cell_type": "markdown",
   "metadata": {
    "pycharm": {
     "name": "#%% md\n"
    }
   },
   "source": [
    "**3. Calculate contrast and plot figures**"
   ]
  },
  {
   "cell_type": "code",
   "execution_count": 16,
   "metadata": {
    "collapsed": false,
    "pycharm": {
     "name": "#%%\n"
    }
   },
   "outputs": [],
   "source": [
    "## count & contrast\n",
    "counts_sig_ref = scheduler.result  # [freqs, counts, counts_ref]\n",
    "\n",
    "# contrast = [sig / ref for sig, ref in zip(counts_sig_ref[1], counts_sig_ref[2])]"
   ]
  },
  {
   "cell_type": "code",
   "execution_count": 30,
   "outputs": [
    {
     "data": {
      "text/plain": "[17.444737,\n 18.077798,\n 18.112902,\n 18.093504,\n 18.10385,\n 18.131295,\n 18.195892,\n 18.142112,\n 18.136856,\n 18.128738]"
     },
     "execution_count": 30,
     "metadata": {},
     "output_type": "execute_result"
    }
   ],
   "source": [
    "counts_sig_ref[1][:10]"
   ],
   "metadata": {
    "collapsed": false,
    "pycharm": {
     "name": "#%%\n"
    }
   }
  },
  {
   "cell_type": "code",
   "execution_count": 17,
   "metadata": {
    "collapsed": false,
    "pycharm": {
     "name": "#%%\n"
    }
   },
   "outputs": [
    {
     "data": {
      "text/plain": "<Figure size 576x396 with 1 Axes>",
      "image/png": "[encoded data removed]"
     },
     "metadata": {},
     "output_type": "display_data"
    }
   ],
   "source": [
    "plt.style.use('seaborn')\n",
    "plt.plot(counts_sig_ref[0], counts_sig_ref[1], 'o--', label='Signal')\n",
    "plt.plot(counts_sig_ref[0], counts_sig_ref[2], 'o-', label='Reference')\n",
    "plt.legend()\n",
    "plt.title('Counts')\n",
    "plt.show()\n",
    "\n",
    "\n"
   ]
  },
  {
   "cell_type": "code",
   "execution_count": 25,
   "outputs": [
    {
     "ename": "NameError",
     "evalue": "name 'contrast' is not defined",
     "output_type": "error",
     "traceback": [
      "\u001B[1;31m---------------------------------------------------------------------------\u001B[0m",
      "\u001B[1;31mNameError\u001B[0m                                 Traceback (most recent call last)",
      "\u001B[1;32m~\\AppData\\Local\\Temp/ipykernel_21952/884163359.py\u001B[0m in \u001B[0;36m<module>\u001B[1;34m\u001B[0m\n\u001B[1;32m----> 1\u001B[1;33m \u001B[0mplt\u001B[0m\u001B[1;33m.\u001B[0m\u001B[0mplot\u001B[0m\u001B[1;33m(\u001B[0m\u001B[0mcounts_sig_ref\u001B[0m\u001B[1;33m[\u001B[0m\u001B[1;36m0\u001B[0m\u001B[1;33m]\u001B[0m\u001B[1;33m,\u001B[0m \u001B[0mcontrast\u001B[0m\u001B[1;33m,\u001B[0m \u001B[1;34m'-'\u001B[0m\u001B[1;33m)\u001B[0m\u001B[1;33m\u001B[0m\u001B[1;33m\u001B[0m\u001B[0m\n\u001B[0m\u001B[0;32m      2\u001B[0m \u001B[0mplt\u001B[0m\u001B[1;33m.\u001B[0m\u001B[0mtitle\u001B[0m\u001B[1;33m(\u001B[0m\u001B[1;34m'Pulse ODMR Contrast'\u001B[0m\u001B[1;33m)\u001B[0m\u001B[1;33m\u001B[0m\u001B[1;33m\u001B[0m\u001B[0m\n\u001B[0;32m      3\u001B[0m \u001B[0mplt\u001B[0m\u001B[1;33m.\u001B[0m\u001B[0mshow\u001B[0m\u001B[1;33m(\u001B[0m\u001B[1;33m)\u001B[0m\u001B[1;33m\u001B[0m\u001B[1;33m\u001B[0m\u001B[0m\n\u001B[0;32m      4\u001B[0m \u001B[1;33m\u001B[0m\u001B[0m\n",
      "\u001B[1;31mNameError\u001B[0m: name 'contrast' is not defined"
     ]
    }
   ],
   "source": [
    "plt.plot(counts_sig_ref[0], contrast, '-')\n",
    "plt.title('Pulse ODMR Contrast')\n",
    "plt.show()"
   ],
   "metadata": {
    "collapsed": false,
    "pycharm": {
     "name": "#%%\n"
    }
   }
  },
  {
   "cell_type": "code",
   "execution_count": 2,
   "outputs": [
    {
     "name": "stdout",
     "output_type": "stream",
     "text": [
      "--- USE ASGDLL_x64.dll ---\n"
     ]
    }
   ],
   "source": [
    "from odmactor.utils.asg import ASG\n",
    "\n",
    "asg = ASG()\n"
   ],
   "metadata": {
    "collapsed": false,
    "pycharm": {
     "name": "#%%\n"
    }
   }
  },
  {
   "cell_type": "code",
   "execution_count": 5,
   "outputs": [
    {
     "data": {
      "text/plain": "True"
     },
     "execution_count": 5,
     "metadata": {},
     "output_type": "execute_result"
    }
   ],
   "source": [
    "asg.checkdata([[10, 10, 10, 0]], [4])\n"
   ],
   "metadata": {
    "collapsed": false,
    "pycharm": {
     "name": "#%%\n"
    }
   }
  },
  {
   "cell_type": "markdown",
   "source": [
    "---\n",
    "test_bi-pulse"
   ],
   "metadata": {
    "collapsed": false,
    "pycharm": {
     "name": "#%% md\n"
    }
   }
  },
  {
   "cell_type": "code",
   "execution_count": 5,
   "outputs": [
    {
     "name": "stdout",
     "output_type": "stream",
     "text": [
      "--- USE ASGDLL_x64.dll ---\n",
      "Current Tagger input channels: {'apd': 1, 'asg': 2}\n",
      "Begin to run Pulse ODMR Scheduler. Frequency: 2.860 - 2.880 GHz.\n",
      "t: 4300.00 ns, N: 4000000, T: 17.20 s, n_freqs: 11\n",
      "Estimated total running time: 189.20 s\n",
      "MW on/off status: True\n",
      "scanning freq 2.860 GHz\n",
      "scanning freq 2.862 GHz\n",
      "scanning freq 2.864 GHz\n",
      "scanning freq 2.866 GHz\n",
      "scanning freq 2.868 GHz\n",
      "scanning freq 2.870 GHz\n",
      "scanning freq 2.872 GHz\n",
      "scanning freq 2.874 GHz\n",
      "scanning freq 2.876 GHz\n",
      "scanning freq 2.878 GHz\n",
      "scanning freq 2.880 GHz\n",
      "finished data acquisition\n",
      "Detailed data result has been saved into ../output/Pulse-counts-with-ref-2022-02-08-cddc168c-893a-11ec-81b3-046c59258eff.json\n",
      "Stopped: Scheduling process has stopped\n"
     ]
    }
   ],
   "source": [
    "pre_read = 1e6\n",
    "t_read_sig = 500\n",
    "inter_readout = 200\n",
    "t_read_ref = t_read_sig\n",
    "inter_period = 100\n",
    "after_laser = 2e3\n",
    "N = int(1e6*2)\n",
    "\n",
    "freq_start = 2.86 * C.giga\n",
    "freq_end = 2.88 * C.giga\n",
    "freq_step = 2 * C.mega\n",
    "\n",
    "tagger_seq = [0, pre_read, t_read_sig, inter_readout, t_read_ref, inter_period + after_laser]\n",
    "t = sum(tagger_seq)\n",
    "laser_seq = [t - after_laser, after_laser]\n",
    "mw_seq = [t, 0]\n",
    "\n",
    "scheduler = PulseScheduler(mw_ttl=0)\n",
    "\n",
    "scheduler._conf_time_paras(t, N)\n",
    "scheduler.download_asg_sequences(laser_seq=laser_seq, mw_seq=mw_seq, tagger_seq=tagger_seq, N=N)\n",
    "\n",
    "scheduler.set_mw_freqs(freq_start, freq_end, freq_step)\n",
    "scheduler.two_pulse_readout = True\n",
    "scheduler.configure_tagger_counting(reader='cbm')\n",
    "\n",
    "scheduler.run_scanning(mw_control='off')\n",
    "\n",
    "\n"
   ],
   "metadata": {
    "collapsed": false,
    "pycharm": {
     "name": "#%%\n"
    }
   }
  },
  {
   "cell_type": "code",
   "execution_count": 6,
   "outputs": [],
   "source": [
    "res = scheduler.result"
   ],
   "metadata": {
    "collapsed": false,
    "pycharm": {
     "name": "#%%\n"
    }
   }
  },
  {
   "cell_type": "code",
   "execution_count": 7,
   "outputs": [
    {
     "data": {
      "text/plain": "<Figure size 576x396 with 1 Axes>",
      "image/png": "[encoded data removed]"
     },
     "metadata": {},
     "output_type": "display_data"
    }
   ],
   "source": [
    "plt.style.use('seaborn')\n",
    "plt.plot(res[0], res[1], 'o--', label='Signal')\n",
    "plt.plot(res[0], res[2], 'o-', label='Reference')\n",
    "plt.legend()\n",
    "plt.title('Counts')\n",
    "plt.show()\n",
    "\n"
   ],
   "metadata": {
    "collapsed": false,
    "pycharm": {
     "name": "#%%\n"
    }
   }
  },
  {
   "cell_type": "code",
   "execution_count": 21,
   "outputs": [
    {
     "data": {
      "text/plain": "<Figure size 1008x432 with 1 Axes>",
      "image/png": "[encoded data removed]"
     },
     "metadata": {},
     "output_type": "display_data"
    }
   ],
   "source": [
    "fig = scheduler.sequences_figure\n",
    "\n"
   ],
   "metadata": {
    "collapsed": false,
    "pycharm": {
     "name": "#%%\n"
    }
   }
  },
  {
   "cell_type": "code",
   "execution_count": 9,
   "outputs": [],
   "source": [
    "\n",
    "res_detail = scheduler.result_detail['origin_data']"
   ],
   "metadata": {
    "collapsed": false,
    "pycharm": {
     "name": "#%%\n"
    }
   }
  },
  {
   "cell_type": "code",
   "execution_count": 11,
   "outputs": [],
   "source": [
    "p3_sig = res_detail[3][::2]\n",
    "p3_ref = res_detail[3][1::2]"
   ],
   "metadata": {
    "collapsed": false,
    "pycharm": {
     "name": "#%%\n"
    }
   }
  },
  {
   "cell_type": "code",
   "execution_count": 12,
   "outputs": [
    {
     "data": {
      "text/plain": "(array([1.476379e+06, 1.144288e+06, 8.058370e+05, 3.895070e+05,\n        1.379980e+05, 3.701500e+04, 7.518000e+03, 1.256000e+03,\n        1.810000e+02, 2.100000e+01]),\n array([ 0. ,  1.1,  2.2,  3.3,  4.4,  5.5,  6.6,  7.7,  8.8,  9.9, 11. ]),\n <BarContainer object of 10 artists>)"
     },
     "execution_count": 12,
     "metadata": {},
     "output_type": "execute_result"
    },
    {
     "data": {
      "text/plain": "<Figure size 576x396 with 1 Axes>",
      "image/png": "[encoded data removed]"
     },
     "metadata": {},
     "output_type": "display_data"
    }
   ],
   "source": [
    "plt.hist(p3_sig[：1000])\n",
    "plt.hist(p3_ref)"
   ],
   "metadata": {
    "collapsed": false,
    "pycharm": {
     "name": "#%%\n"
    }
   }
  },
  {
   "cell_type": "code",
   "execution_count": null,
   "outputs": [],
   "source": [],
   "metadata": {
    "collapsed": false,
    "pycharm": {
     "name": "#%%\n"
    }
   }
  }
 ],
 "metadata": {
  "kernelspec": {
   "display_name": "Python 3",
   "language": "python",
   "name": "python3"
  },
  "language_info": {
   "codemirror_mode": {
    "name": "ipython",
    "version": 3
   },
   "file_extension": ".py",
   "mimetype": "text/x-python",
   "name": "python",
   "nbconvert_exporter": "python",
   "pygments_lexer": "ipython3",
   "version": "3.8.11"
  }
 },
 "nbformat": 4,
 "nbformat_minor": 0
}