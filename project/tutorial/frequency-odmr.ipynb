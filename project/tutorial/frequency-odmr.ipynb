{
 "cells": [
  {
   "cell_type": "markdown",
   "metadata": {
    "collapsed": true
   },
   "source": [
    "# Frequency-domain ODMR measurement"
   ]
  },
  {
   "cell_type": "markdown",
   "metadata": {},
   "source": [
    "\n",
    "\n",
    "![frequency-shceduling](./figure/frequency-shceduling.jpg)\n"
   ]
  },
  {
   "cell_type": "markdown",
   "metadata": {},
   "source": [
    "Import necessary modules and functions firstly"
   ]
  },
  {
   "cell_type": "code",
   "execution_count": 1,
   "metadata": {},
   "outputs": [],
   "source": [
    "import matplotlib.pyplot as plt\n",
    "from odmactor.scheduler import CWScheduler, PulseScheduler\n",
    "import scipy.constants as C\n",
    "import numpy as np\n",
    "import time\n"
   ]
  },
  {
   "cell_type": "markdown",
   "metadata": {},
   "source": [
    "## CW ODMR"
   ]
  },
  {
   "cell_type": "markdown",
   "metadata": {},
   "source": [
    "**1. Set measurement parameters**\n",
    "- Time bin $t$ per readout operation, number of readout operation $N$ per frequency measurement point\n",
    "- MW power $p$, MW frequencies for scanning modes, i.e., `[freq_start, freq_end, freq_step]`, unit: \"Hz\"\n"
   ]
  },
  {
   "cell_type": "code",
   "execution_count": 2,
   "metadata": {},
   "outputs": [],
   "source": [
    "t_ns = 1e5\n",
    "N = int(1e5 / 4)\n",
    "\n",
    "\n",
    "freq_start = 2.85 * C.giga\n",
    "freq_end = 2.9 * C.giga\n",
    "freq_step = 1 * C.mega\n",
    "p = 10\n"
   ]
  },
  {
   "cell_type": "markdown",
   "metadata": {},
   "source": [
    "**2. Construct a Continous-wave Scheduler and run**\n"
   ]
  },
  {
   "cell_type": "code",
   "execution_count": null,
   "metadata": {},
   "outputs": [],
   "source": [
    "scheduler = CWScheduler()\n",
    "scheduler.configure_mw_paras(p)\n",
    "scheduler.configure_odmr_seq(t_ns, N)\n",
    "scheduler.set_mw_freqs(freq_start, freq_end, freq_step)\n",
    "scheduler.configure_tagger_counting()\n",
    "\n",
    "scheduler.run_scanning(with_ref=True)\n",
    "scheduler.close()\n"
   ]
  },
  {
   "cell_type": "markdown",
   "metadata": {},
   "source": [
    "**3. Calculate contrast and plot figures**"
   ]
  },
  {
   "cell_type": "code",
   "execution_count": null,
   "metadata": {},
   "outputs": [],
   "source": [
    "## count & contrast\n",
    "res_on_off = scheduler.result  # [freqs, counts, counts_ref]\n",
    "contrast = [sig/ref for sig, ref in zip(res_on_off[1], res_on_off[2])]"
   ]
  },
  {
   "cell_type": "code",
   "execution_count": null,
   "metadata": {},
   "outputs": [],
   "source": [
    "plt.plot(res_on_off[0], res_on_off[1],'o-',label='MW on')\n",
    "plt.plot(res_on_off[0], res_on_off[2], 'o-', label='MW off')\n",
    "plt.legend()\n",
    "plt.title('Counts')\n",
    "plt.show()"
   ]
  },
  {
   "cell_type": "code",
   "execution_count": null,
   "metadata": {},
   "outputs": [],
   "source": [
    "plt.plot(res_on_off[0], contrast, 'o-')\n",
    "plt.title('Contrast')\n",
    "plt.show()"
   ]
  },
  {
   "cell_type": "markdown",
   "metadata": {},
   "source": [
    "**4. Save data result**"
   ]
  },
  {
   "cell_type": "code",
   "execution_count": null,
   "metadata": {},
   "outputs": [],
   "source": [
    "\n",
    "np.savetxt('cw-counting--{}dBm.txt'.format(p), np.array(res_on_off))\n",
    "np.savetxt('cw-contrast--{}dBm.txt'.format(p),np.vstack([res_on_off[0], contrast]).T)\n"
   ]
  },
  {
   "cell_type": "markdown",
   "metadata": {},
   "source": [
    "## Pulse ODMR\n"
   ]
  },
  {
   "cell_type": "markdown",
   "metadata": {
    "collapsed": false,
    "pycharm": {
     "name": "#%% md\n"
    }
   },
   "source": [
    "**1. Set measurement parameters**\n",
    "- number of readout operation $N$ per frequency measurement point\n",
    "- MW power $p$, MW frequencies for scanning modes, i.e., `[freq_start, freq_end, freq_step]`, unit: \"Hz\"\n",
    "- laser initilization time $t_{init}$, MW operation time $t_{mw}$, singal readout pulse time $t_{sig}$\n",
    "- optional default parameters: reference signals readout time $t_{ref}$ ($t_{ref} = t_{sig}$ actually), some time interval parameters\n",
    "- Time bin $t$ per readout operation is then calculated by the sequences parameters"
   ]
  },
  {
   "cell_type": "code",
   "execution_count": null,
   "metadata": {},
   "outputs": [],
   "source": [
    "freq_start = 2.85 * C.giga\n",
    "freq_end = 2.89 * C.giga\n",
    "freq_step = 2 * C.mega\n",
    "\n",
    "\n",
    "\n",
    "t_init = 5e3\n",
    "t_mw = 1e3\n",
    "inter_init_mw = 3e3\n",
    "\n",
    "N = int(1e6/2)\n",
    "\n",
    "p = 15"
   ]
  },
  {
   "cell_type": "markdown",
   "metadata": {
    "pycharm": {
     "name": "#%% md\n"
    }
   },
   "source": [
    "**2. Construct a Pulse ODMR Scheduler and run**"
   ]
  },
  {
   "cell_type": "code",
   "execution_count": null,
   "metadata": {
    "collapsed": false,
    "pycharm": {
     "name": "#%%\n"
    }
   },
   "outputs": [],
   "source": [
    "scheduler = PulseScheduler()\n",
    "scheduler.configure_mw_paras(power=p)\n",
    "\n",
    "# single-signal readout\n",
    "scheduler.configure_odmr_seq(t_init, t_mw, t_read_sig=400, inter_init_mw=inter_init_mw, N=N)\n",
    "# or readout with reference signals\n",
    "# scheduler.configure_odmr_seq(t_init, t_mw, t_read_sig=400, t_read_ref=400,inter_init_mw=inter_init_mw, N=N)\n",
    "\n",
    "scheduler.set_mw_freqs(freq_start, freq_end, freq_step)\n",
    "scheduler.configure_tagger_counting(reader='cbm')\n",
    "\n",
    "scheduler.run_scanning()\n",
    "\n",
    "scheduler.close()\n",
    "\n"
   ]
  },
  {
   "cell_type": "code",
   "execution_count": null,
   "metadata": {},
   "outputs": [],
   "source": [
    "# observe sequences\n",
    "fig = scheduler.sequences_figure"
   ]
  },
  {
   "cell_type": "markdown",
   "metadata": {
    "pycharm": {
     "name": "#%% md\n"
    }
   },
   "source": [
    "**3. Calculate contrast and plot figures**"
   ]
  },
  {
   "cell_type": "code",
   "execution_count": null,
   "metadata": {
    "collapsed": false,
    "pycharm": {
     "name": "#%%\n"
    }
   },
   "outputs": [],
   "source": [
    "## count & contrast\n",
    "counts_sig_ref = scheduler.result  # [freqs, counts, counts_ref]"
   ]
  },
  {
   "cell_type": "code",
   "execution_count": null,
   "metadata": {
    "collapsed": false,
    "pycharm": {
     "name": "#%%\n"
    }
   },
   "outputs": [],
   "source": [
    "plt.plot(counts_sig_ref[0], counts_sig_ref[1],'o-',label='Signal')\n",
    "plt.plot(counts_sig_ref[0], counts_sig_ref[2], 'o-', label='Reference')\n",
    "plt.legend()\n",
    "plt.title('Counts')\n",
    "plt.show()"
   ]
  },
  {
   "cell_type": "code",
   "execution_count": null,
   "metadata": {
    "collapsed": false,
    "pycharm": {
     "name": "#%%\n"
    }
   },
   "outputs": [],
   "source": [
    "contrast = [sig/ref for sig, ref in zip(counts_sig_ref[1], counts_sig_ref[2])]"
   ]
  },
  {
   "cell_type": "code",
   "execution_count": null,
   "metadata": {},
   "outputs": [],
   "source": [
    "plt.plot(counts_sig_ref[0], contrast, 'o-')\n",
    "plt.title('Pulse ODMR Contrast')\n",
    "plt.show()"
   ]
  }
 ],
 "metadata": {
  "kernelspec": {
   "display_name": "Python 3",
   "language": "python",
   "name": "python3"
  },
  "language_info": {
   "codemirror_mode": {
    "name": "ipython",
    "version": 3
   },
   "file_extension": ".py",
   "mimetype": "text/x-python",
   "name": "python",
   "nbconvert_exporter": "python",
   "pygments_lexer": "ipython3",
   "version": "3.8.11"
  }
 },
 "nbformat": 4,
 "nbformat_minor": 0
}
