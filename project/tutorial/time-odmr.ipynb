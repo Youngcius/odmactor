{
 "cells": [
  {
   "cell_type": "markdown",
   "metadata": {
    "collapsed": true
   },
   "source": [
    "# Time-domain ODMR measurement"
   ]
  },
  {
   "cell_type": "markdown",
   "metadata": {},
   "source": [
    "![frequency-shceduling](./figure/time-scheduling.jpg)\n"
   ]
  },
  {
   "cell_type": "markdown",
   "metadata": {},
   "source": [
    "Import necessary modules and functions firstly"
   ]
  },
  {
   "cell_type": "code",
   "execution_count": 1,
   "metadata": {},
   "outputs": [],
   "source": [
    "import matplotlib.pyplot as plt\n",
    "from odmactor.scheduler import RamseyScheduler, RabiScheduler, RelaxationScheduler\n",
    "from odmactor.utils.plotting import plot_ramsey, plot_rabi, plot_t1\n",
    "import scipy.constants as C\n",
    "import numpy as np\n"
   ]
  },
  {
   "cell_type": "markdown",
   "metadata": {},
   "source": [
    "## Ramsey detection"
   ]
  },
  {
   "cell_type": "markdown",
   "metadata": {},
   "source": [
    "**1. Set measurement parameters**\n",
    "- number of readout operation $N$ per frequency measurement point\n",
    "- delay time range for scanning modes, i.e., `[t_start, t_end, t_step]`, unit: \"ns\"\n",
    "- calibrated MW $\\pi$ pulse parameters, i.e., frequency (unit: Hz), power (unit: dBm) and time (unit: s)\n",
    "- laser initialization time $t_{init}$, signal readout pulse time $t_{sig}$, etc.\n",
    "- optional parameters: MW power $p$, if designed, the time of built-in MW $\\pi$ pulse will be regulated correspondingly\n",
    "- time bin $t$ per readout operation will be calculated dynamically when running the scheduler on scanning-time mode"
   ]
  },
  {
   "cell_type": "code",
   "execution_count": 12,
   "metadata": {},
   "outputs": [],
   "source": [
    "\n",
    "t_start = 100\n",
    "t_end = 4000\n",
    "t_step = 20\n",
    "\n",
    "pi_power = 10\n",
    "pi_freq = 2.871 * C.giga\n",
    "pi_time = 100 * C.nano\n",
    "\n",
    "t_init = 1e3\n",
    "inter_init_mw = 1e3\n",
    "t_read_sig = 400\n",
    "t_read_ref = t_read_sig\n",
    "\n",
    "N = int(1e6 / 4)"
   ]
  },
  {
   "cell_type": "markdown",
   "metadata": {},
   "source": [
    "**2. Construct a Ramsey Scheduler and run**\n",
    "\n",
    "Especially, the calibrated MW $\\pi$ pulse should be configured\n"
   ]
  },
  {
   "cell_type": "code",
   "execution_count": 13,
   "metadata": {},
   "outputs": [
    {
     "name": "stdout",
     "output_type": "stream",
     "text": [
      "--- USE ASGDLL_x64.dll ---\n",
      "Current Tagger input channels: {'apd': 'cbm', 'asg': 2}\n"
     ]
    },
    {
     "ename": "TypeError",
     "evalue": "unsupported operand type(s) for /: 'NoneType' and 'float'",
     "output_type": "error",
     "traceback": [
      "\u001B[1;31m---------------------------------------------------------------------------\u001B[0m",
      "\u001B[1;31mTypeError\u001B[0m                                 Traceback (most recent call last)",
      "\u001B[1;32m~\\AppData\\Local\\Temp/ipykernel_20112/2454226425.py\u001B[0m in \u001B[0;36m<module>\u001B[1;34m\u001B[0m\n\u001B[0;32m      3\u001B[0m \u001B[0mscheduler\u001B[0m\u001B[1;33m.\u001B[0m\u001B[0mconfigure_odmr_seq\u001B[0m\u001B[1;33m(\u001B[0m\u001B[0mt_init\u001B[0m\u001B[1;33m,\u001B[0m \u001B[0mt_read_sig\u001B[0m\u001B[1;33m,\u001B[0m \u001B[0mt_read_ref\u001B[0m\u001B[1;33m,\u001B[0m \u001B[0minter_init_mw\u001B[0m\u001B[1;33m,\u001B[0m \u001B[0mN\u001B[0m\u001B[1;33m=\u001B[0m\u001B[0mN\u001B[0m\u001B[1;33m)\u001B[0m\u001B[1;33m\u001B[0m\u001B[1;33m\u001B[0m\u001B[0m\n\u001B[0;32m      4\u001B[0m \u001B[0mscheduler\u001B[0m\u001B[1;33m.\u001B[0m\u001B[0mset_delay_times\u001B[0m\u001B[1;33m(\u001B[0m\u001B[0mt_start\u001B[0m\u001B[1;33m,\u001B[0m \u001B[0mt_end\u001B[0m\u001B[1;33m,\u001B[0m \u001B[0mt_step\u001B[0m\u001B[1;33m)\u001B[0m\u001B[1;33m\u001B[0m\u001B[1;33m\u001B[0m\u001B[0m\n\u001B[1;32m----> 5\u001B[1;33m \u001B[0mscheduler\u001B[0m\u001B[1;33m.\u001B[0m\u001B[0mconfigure_tagger_counting\u001B[0m\u001B[1;33m(\u001B[0m\u001B[1;34m'cbm'\u001B[0m\u001B[1;33m)\u001B[0m\u001B[1;33m\u001B[0m\u001B[1;33m\u001B[0m\u001B[0m\n\u001B[0m\u001B[0;32m      6\u001B[0m \u001B[1;33m\u001B[0m\u001B[0m\n\u001B[0;32m      7\u001B[0m \u001B[0mscheduler\u001B[0m\u001B[1;33m.\u001B[0m\u001B[0mrun_scanning\u001B[0m\u001B[1;33m(\u001B[0m\u001B[1;33m)\u001B[0m\u001B[1;33m\u001B[0m\u001B[1;33m\u001B[0m\u001B[0m\n",
      "\u001B[1;32mD:\\Git-Project\\odmactor\\odmactor\\scheduler\\base.py\u001B[0m in \u001B[0;36mconfigure_tagger_counting\u001B[1;34m(self, apd_channel, asg_channel, reader)\u001B[0m\n\u001B[0;32m    126\u001B[0m         \u001B[1;32mif\u001B[0m \u001B[0mreader\u001B[0m \u001B[1;33m==\u001B[0m \u001B[1;34m'counter'\u001B[0m\u001B[1;33m:\u001B[0m\u001B[1;33m\u001B[0m\u001B[1;33m\u001B[0m\u001B[0m\n\u001B[0;32m    127\u001B[0m             \u001B[1;31m# continuous counting\u001B[0m\u001B[1;33m\u001B[0m\u001B[1;33m\u001B[0m\u001B[1;33m\u001B[0m\u001B[0m\n\u001B[1;32m--> 128\u001B[1;33m             \u001B[0mt_ps\u001B[0m \u001B[1;33m=\u001B[0m \u001B[0mint\u001B[0m\u001B[1;33m(\u001B[0m\u001B[0mself\u001B[0m\u001B[1;33m.\u001B[0m\u001B[0m_asg_conf\u001B[0m\u001B[1;33m[\u001B[0m\u001B[1;34m't'\u001B[0m\u001B[1;33m]\u001B[0m \u001B[1;33m/\u001B[0m \u001B[0mC\u001B[0m\u001B[1;33m.\u001B[0m\u001B[0mpico\u001B[0m\u001B[1;33m)\u001B[0m\u001B[1;33m\u001B[0m\u001B[1;33m\u001B[0m\u001B[0m\n\u001B[0m\u001B[0;32m    129\u001B[0m             \u001B[0mself\u001B[0m\u001B[1;33m.\u001B[0m\u001B[0mcounter\u001B[0m \u001B[1;33m=\u001B[0m \u001B[0mtt\u001B[0m\u001B[1;33m.\u001B[0m\u001B[0mCounter\u001B[0m\u001B[1;33m(\u001B[0m\u001B[0mself\u001B[0m\u001B[1;33m.\u001B[0m\u001B[0mtagger\u001B[0m\u001B[1;33m,\u001B[0m \u001B[0mchannels\u001B[0m\u001B[1;33m=\u001B[0m\u001B[1;33m[\u001B[0m\u001B[0mself\u001B[0m\u001B[1;33m.\u001B[0m\u001B[0mtagger_input\u001B[0m\u001B[1;33m[\u001B[0m\u001B[1;34m'apd'\u001B[0m\u001B[1;33m]\u001B[0m\u001B[1;33m]\u001B[0m\u001B[1;33m,\u001B[0m \u001B[0mbinwidth\u001B[0m\u001B[1;33m=\u001B[0m\u001B[0mt_ps\u001B[0m\u001B[1;33m,\u001B[0m \u001B[0mn_values\u001B[0m\u001B[1;33m=\u001B[0m\u001B[0mN\u001B[0m\u001B[1;33m)\u001B[0m\u001B[1;33m\u001B[0m\u001B[1;33m\u001B[0m\u001B[0m\n\u001B[0;32m    130\u001B[0m         \u001B[1;32melif\u001B[0m \u001B[0mreader\u001B[0m \u001B[1;33m==\u001B[0m \u001B[1;34m'cbm'\u001B[0m\u001B[1;33m:\u001B[0m\u001B[1;33m\u001B[0m\u001B[1;33m\u001B[0m\u001B[0m\n",
      "\u001B[1;31mTypeError\u001B[0m: unsupported operand type(s) for /: 'NoneType' and 'float'"
     ]
    }
   ],
   "source": [
    "scheduler = RamseyScheduler()\n",
    "scheduler.pi_pulse['freq'], scheduler.pi_pulse['power'], scheduler.pi_pulse['time'] = pi_freq, pi_power, pi_time\n",
    "scheduler.configure_odmr_seq(t_init, t_read_sig, t_read_ref, inter_init_mw, N=N)\n",
    "scheduler.set_delay_times(t_start, t_end, t_step)\n",
    "scheduler.configure_tagger_counting('cbm')\n",
    "\n",
    "scheduler.run_scanning()\n",
    "scheduler.close()\n"
   ]
  },
  {
   "cell_type": "code",
   "execution_count": null,
   "metadata": {},
   "outputs": [],
   "source": [
    "# observe detection sequence\n",
    "fig = scheduler.sequences_figure"
   ]
  },
  {
   "cell_type": "markdown",
   "metadata": {},
   "source": [
    "**3. Calculate contrast and plot figures**"
   ]
  },
  {
   "cell_type": "code",
   "execution_count": null,
   "metadata": {},
   "outputs": [],
   "source": [
    "## count & contrast\n",
    "counts_sig_ref = scheduler.result  # [times, counts, counts_ref]\n",
    "contrast = [sig/ref for sig, ref in zip(counts_sig_ref[1], counts_sig_ref[2])]"
   ]
  },
  {
   "cell_type": "code",
   "execution_count": null,
   "metadata": {},
   "outputs": [],
   "source": [
    "plot_ramsey(counts_sig_ref[0], contrast)"
   ]
  },
  {
   "cell_type": "markdown",
   "metadata": {},
   "source": [
    "## Rabi oscillation"
   ]
  },
  {
   "cell_type": "markdown",
   "metadata": {
    "collapsed": false,
    "pycharm": {
     "name": "#%% md\n"
    }
   },
   "source": [
    "**1. Set measurement parameters**\n",
    "- number of readout operation $N$ per frequency measurement point\n",
    "- delay time range for scanning modes, i.e., `[t_start, t_end, t_step]`, unit: \"ns\"\n",
    "- laser initilization time $t_{init}$, singal readout pulse time $t_{sig}$, etc.\n",
    "- MW power $p$, MW frequency $f$\n",
    "- time bin $t$ per readout operation will be calculated dynamically when running the scheduler on scanning-time mode"
   ]
  },
  {
   "cell_type": "code",
   "execution_count": 12,
   "metadata": {},
   "outputs": [],
   "source": [
    "\n",
    "t_start = 20\n",
    "t_end = 2000\n",
    "t_step = 20\n",
    "\n",
    "t_init = 3e3\n",
    "inter_init_mw = 3000\n",
    "inter_mw_read = 100\n",
    "\n",
    "t_read_sig  = 800\n",
    "\n",
    "\n",
    "N = int(1e6/1.5)\n",
    "\n",
    "p = 10\n",
    "f = 2.852 * C.giga"
   ]
  },
  {
   "cell_type": "markdown",
   "metadata": {
    "pycharm": {
     "name": "#%% md\n"
    }
   },
   "source": [
    "**2. Construct a Rabi measurement Scheduler and run**"
   ]
  },
  {
   "cell_type": "code",
   "execution_count": 13,
   "metadata": {
    "collapsed": false,
    "pycharm": {
     "name": "#%%\n"
    }
   },
   "outputs": [
    {
     "name": "stdout",
     "output_type": "stream",
     "text": [
      "--- USE ASGDLL_x64.dll ---\n",
      "Current Tagger input channels: {'apd': 1, 'asg': 2}\n"
     ]
    }
   ],
   "source": [
    "scheduler = RabiScheduler(mw_ttl=0)\n",
    "scheduler.configure_mw_paras(power=p, freq=f)\n",
    "scheduler.configure_odmr_seq(t_init,  t_read_sig, inter_init_mw=inter_init_mw,inter_mw_read =inter_mw_read , N=N)\n",
    "scheduler.set_delay_times(t_start, t_end, t_step)\n",
    "scheduler.configure_tagger_counting(reader='cbm')\n",
    "\n",
    "\n",
    "\n",
    "# scheduler.asg_dwell\n"
   ]
  },
  {
   "cell_type": "code",
   "execution_count": null,
   "outputs": [
    {
     "name": "stdout",
     "output_type": "stream",
     "text": [
      "Begin to run Rabi Scheduler. Time intervals: 20.000 - 2000.000 ns.\n",
      "N: 666666, n_times: 100\n",
      "Estimated total running time: 67.33 s\n",
      "MW on/off status: True\n",
      "scanning freq 20.000 ns\n",
      "scanning freq 40.000 ns\n",
      "scanning freq 60.000 ns\n",
      "scanning freq 80.000 ns\n",
      "scanning freq 100.000 ns\n",
      "scanning freq 120.000 ns\n",
      "scanning freq 140.000 ns\n",
      "scanning freq 160.000 ns\n",
      "scanning freq 180.000 ns\n",
      "scanning freq 200.000 ns\n",
      "scanning freq 220.000 ns\n",
      "scanning freq 240.000 ns\n",
      "scanning freq 260.000 ns\n",
      "scanning freq 280.000 ns\n",
      "scanning freq 300.000 ns\n",
      "scanning freq 320.000 ns\n",
      "scanning freq 340.000 ns\n",
      "scanning freq 360.000 ns\n",
      "scanning freq 380.000 ns\n",
      "scanning freq 400.000 ns\n",
      "scanning freq 420.000 ns\n",
      "scanning freq 440.000 ns\n",
      "scanning freq 460.000 ns\n",
      "scanning freq 480.000 ns\n",
      "scanning freq 500.000 ns\n",
      "scanning freq 520.000 ns\n",
      "scanning freq 540.000 ns\n",
      "scanning freq 560.000 ns\n",
      "scanning freq 580.000 ns\n",
      "scanning freq 600.000 ns\n",
      "scanning freq 620.000 ns\n",
      "scanning freq 640.000 ns\n",
      "scanning freq 660.000 ns\n",
      "scanning freq 680.000 ns\n",
      "scanning freq 700.000 ns\n",
      "scanning freq 720.000 ns\n",
      "scanning freq 740.000 ns\n",
      "scanning freq 760.000 ns\n",
      "scanning freq 780.000 ns\n",
      "scanning freq 800.000 ns\n",
      "scanning freq 820.000 ns\n",
      "scanning freq 840.000 ns\n",
      "scanning freq 860.000 ns\n",
      "scanning freq 880.000 ns\n",
      "scanning freq 900.000 ns\n",
      "scanning freq 920.000 ns\n",
      "scanning freq 940.000 ns\n",
      "scanning freq 960.000 ns\n",
      "scanning freq 980.000 ns\n",
      "scanning freq 1000.000 ns\n",
      "scanning freq 1020.000 ns\n",
      "scanning freq 1040.000 ns\n",
      "scanning freq 1060.000 ns\n"
     ]
    }
   ],
   "source": [
    "scheduler.run_scanning()\n",
    "\n",
    "scheduler.close()\n",
    "\n"
   ],
   "metadata": {
    "collapsed": false,
    "pycharm": {
     "name": "#%%\n",
     "is_executing": true
    }
   }
  },
  {
   "cell_type": "code",
   "execution_count": 5,
   "outputs": [
    {
     "data": {
      "text/plain": "<Figure size 1008x432 with 1 Axes>",
      "image/png": "[encoded data removed]"
     },
     "metadata": {
      "needs_background": "light"
     },
     "output_type": "display_data"
    }
   ],
   "source": [
    "#fig = scheduler.sequences_figure\n"
   ],
   "metadata": {
    "collapsed": false,
    "pycharm": {
     "name": "#%%\n"
    }
   }
  },
  {
   "cell_type": "markdown",
   "metadata": {
    "pycharm": {
     "name": "#%% md\n"
    }
   },
   "source": [
    "**3. Calculate contrast and plot figures**"
   ]
  },
  {
   "cell_type": "code",
   "execution_count": 10,
   "metadata": {
    "collapsed": false,
    "pycharm": {
     "name": "#%%\n"
    }
   },
   "outputs": [],
   "source": [
    "## count & contrast\n",
    "counts_sig_ref = scheduler.result  # [times, counts, counts_ref]\n",
    "# contrast = [sig/ref for sig, ref in zip(counts_sig_ref[1], counts_sig_ref[2])]"
   ]
  },
  {
   "cell_type": "code",
   "execution_count": 11,
   "metadata": {
    "collapsed": false,
    "pycharm": {
     "name": "#%%\n"
    }
   },
   "outputs": [
    {
     "data": {
      "text/plain": "Text(0, 0.5, 'counts')"
     },
     "execution_count": 11,
     "metadata": {},
     "output_type": "execute_result"
    },
    {
     "data": {
      "text/plain": "<Figure size 576x396 with 1 Axes>",
      "image/png": "[encoded data removed]"
     },
     "metadata": {},
     "output_type": "display_data"
    }
   ],
   "source": [
    "# plot_rabi(counts_sig_ref[0], counts_sig_ref[1])\n",
    "plt.style.use('seaborn')\n",
    "\n",
    "plt.plot(counts_sig_ref[0][1:], counts_sig_ref[1][1:], 'o--')\n",
    "plt.title('Rabi Oscillation')\n",
    "plt.xlabel('MW time (ns)')\n",
    "plt.ylabel('counts')\n",
    "\n"
   ]
  },
  {
   "cell_type": "markdown",
   "metadata": {},
   "source": [
    "## T1 relaxometry"
   ]
  },
  {
   "cell_type": "markdown",
   "metadata": {},
   "source": [
    "**1. Set measurement parameters**\n",
    "- number of readout operation $N$ per frequency measurement point\n",
    "- delay time range for scanning modes, i.e., `[t_start, t_end, t_step]`, unit: \"ns\"\n",
    "- laser initialization time $t_{init}$, signal readout pulse time $t_{sig}$, etc.\n",
    "- calibrated MW $\\pi$ pulse parameters, i.e., frequency (unit: Hz), power (unit: dBm) and time (unit: s)\n",
    "- optional parameters: MW power $p$, if designed, the time of built-in MW $\\pi$ pulse will be regulated correspondingly\n",
    "- time bin $t$ per readout operation will be calculated dynamically when running the scheduler on scanning-time mode"
   ]
  },
  {
   "cell_type": "code",
   "execution_count": null,
   "metadata": {},
   "outputs": [],
   "source": [
    "\n",
    "t_start = int(1e4)\n",
    "t_end = int(1e6) \n",
    "t_step = int(2e3)\n",
    "\n",
    "pi_power = 10\n",
    "pi_freq = 2.871 * C.giga\n",
    "pi_time = 100 * C.nano\n",
    "\n",
    "t_init = 1e3\n",
    "inter_init_mw = 1e3\n",
    "t_read_sig = 400\n",
    "t_read_ref = t_read_sig\n",
    "\n",
    "N = int(1e6 / 4)"
   ]
  },
  {
   "cell_type": "markdown",
   "metadata": {},
   "source": [
    "**Construct a T1 measurement scheduler and run**"
   ]
  },
  {
   "cell_type": "code",
   "execution_count": 5,
   "metadata": {},
   "outputs": [
    {
     "name": "stdout",
     "output_type": "stream",
     "text": [
      "--- USE ASGDLL_x64.dll ---\n"
     ]
    },
    {
     "ename": "NameError",
     "evalue": "name 'pi_freq' is not defined",
     "output_type": "error",
     "traceback": [
      "\u001B[1;31m---------------------------------------------------------------------------\u001B[0m",
      "\u001B[1;31mNameError\u001B[0m                                 Traceback (most recent call last)",
      "\u001B[1;32m~\\AppData\\Local\\Temp/ipykernel_9860/2070140585.py\u001B[0m in \u001B[0;36m<module>\u001B[1;34m\u001B[0m\n\u001B[0;32m      1\u001B[0m \u001B[0mscheduler\u001B[0m \u001B[1;33m=\u001B[0m \u001B[0mRelaxationScheduler\u001B[0m\u001B[1;33m(\u001B[0m\u001B[1;33m)\u001B[0m\u001B[1;33m\u001B[0m\u001B[1;33m\u001B[0m\u001B[0m\n\u001B[1;32m----> 2\u001B[1;33m \u001B[0mscheduler\u001B[0m\u001B[1;33m.\u001B[0m\u001B[0mpi_pulse\u001B[0m\u001B[1;33m[\u001B[0m\u001B[1;34m'freq'\u001B[0m\u001B[1;33m]\u001B[0m\u001B[1;33m,\u001B[0m \u001B[0mscheduler\u001B[0m\u001B[1;33m.\u001B[0m\u001B[0mpi_pulse\u001B[0m\u001B[1;33m[\u001B[0m\u001B[1;34m'power'\u001B[0m\u001B[1;33m]\u001B[0m\u001B[1;33m,\u001B[0m \u001B[0mscheduler\u001B[0m\u001B[1;33m.\u001B[0m\u001B[0mpi_pulse\u001B[0m\u001B[1;33m[\u001B[0m\u001B[1;34m'time'\u001B[0m\u001B[1;33m]\u001B[0m \u001B[1;33m=\u001B[0m \u001B[0mpi_freq\u001B[0m\u001B[1;33m,\u001B[0m \u001B[0mpi_power\u001B[0m\u001B[1;33m,\u001B[0m \u001B[0mpi_time\u001B[0m\u001B[1;33m\u001B[0m\u001B[1;33m\u001B[0m\u001B[0m\n\u001B[0m\u001B[0;32m      3\u001B[0m \u001B[0mscheduler\u001B[0m\u001B[1;33m.\u001B[0m\u001B[0mconfigure_odmr_seq\u001B[0m\u001B[1;33m(\u001B[0m\u001B[0mt_init\u001B[0m\u001B[1;33m,\u001B[0m \u001B[0mt_read_sig\u001B[0m\u001B[1;33m,\u001B[0m \u001B[0mt_read_ref\u001B[0m\u001B[1;33m,\u001B[0m \u001B[0minter_init_mw\u001B[0m\u001B[1;33m,\u001B[0m \u001B[0mN\u001B[0m\u001B[1;33m=\u001B[0m\u001B[0mN\u001B[0m\u001B[1;33m)\u001B[0m\u001B[1;33m\u001B[0m\u001B[1;33m\u001B[0m\u001B[0m\n\u001B[0;32m      4\u001B[0m \u001B[0mscheduler\u001B[0m\u001B[1;33m.\u001B[0m\u001B[0mset_delay_times\u001B[0m\u001B[1;33m(\u001B[0m\u001B[0mt_start\u001B[0m\u001B[1;33m,\u001B[0m \u001B[0mt_end\u001B[0m\u001B[1;33m,\u001B[0m \u001B[0mt_step\u001B[0m\u001B[1;33m)\u001B[0m\u001B[1;33m\u001B[0m\u001B[1;33m\u001B[0m\u001B[0m\n\u001B[0;32m      5\u001B[0m \u001B[0mscheduler\u001B[0m\u001B[1;33m.\u001B[0m\u001B[0mconfigure_tagger_counting\u001B[0m\u001B[1;33m(\u001B[0m\u001B[1;34m'cbm'\u001B[0m\u001B[1;33m)\u001B[0m\u001B[1;33m\u001B[0m\u001B[1;33m\u001B[0m\u001B[0m\n",
      "\u001B[1;31mNameError\u001B[0m: name 'pi_freq' is not defined"
     ]
    }
   ],
   "source": [
    "scheduler = RelaxationScheduler()\n",
    "scheduler.pi_pulse['freq'], scheduler.pi_pulse['power'], scheduler.pi_pulse['time'] = pi_freq, pi_power, pi_time\n",
    "scheduler.configure_odmr_seq(t_init, t_read_sig, t_read_ref, inter_init_mw, N=N)\n",
    "scheduler.set_delay_times(t_start, t_end, t_step)\n",
    "scheduler.configure_tagger_counting('cbm')\n",
    "\n",
    "scheduler.run_scanning()\n",
    "scheduler.close()\n"
   ]
  },
  {
   "cell_type": "code",
   "execution_count": null,
   "metadata": {},
   "outputs": [],
   "source": [
    "# observe sequence figure\n",
    "fig = scheduler.sequences_figure"
   ]
  },
  {
   "cell_type": "markdown",
   "metadata": {},
   "source": [
    "**3. Calculate contrast and plot figures**"
   ]
  },
  {
   "cell_type": "code",
   "execution_count": null,
   "metadata": {},
   "outputs": [],
   "source": [
    "## count & contrast\n",
    "counts_sig_ref = scheduler.result  # [times, counts, counts_ref]\n",
    "contrast = [sig/ref for sig, ref in zip(counts_sig_ref[1], counts_sig_ref[2])]"
   ]
  },
  {
   "cell_type": "code",
   "execution_count": null,
   "metadata": {},
   "outputs": [],
   "source": [
    "plot_t1(counts_sig_ref[0], contrast)"
   ]
  },
  {
   "cell_type": "code",
   "execution_count": null,
   "metadata": {},
   "outputs": [],
   "source": []
  },
  {
   "cell_type": "code",
   "execution_count": null,
   "metadata": {},
   "outputs": [],
   "source": []
  }
 ],
 "metadata": {
  "kernelspec": {
   "display_name": "Python 3",
   "language": "python",
   "name": "python3"
  },
  "language_info": {
   "codemirror_mode": {
    "name": "ipython",
    "version": 3
   },
   "file_extension": ".py",
   "mimetype": "text/x-python",
   "name": "python",
   "nbconvert_exporter": "python",
   "pygments_lexer": "ipython3",
   "version": "3.8.11"
  }
 },
 "nbformat": 4,
 "nbformat_minor": 0
}