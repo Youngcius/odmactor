{
 "cells": [
  {
   "cell_type": "markdown",
   "metadata": {
    "collapsed": true
   },
   "source": [
    "# Time-domain ODMR measurement"
   ]
  },
  {
   "cell_type": "markdown",
   "metadata": {},
   "source": [
    "![frequency-shceduling](./figure/time-scheduling.jpg)\n"
   ]
  },
  {
   "cell_type": "markdown",
   "metadata": {},
   "source": [
    "Import necessary modules and functions firstly"
   ]
  },
  {
   "cell_type": "code",
   "execution_count": 1,
   "metadata": {},
   "outputs": [],
   "source": [
    "import matplotlib.pyplot as plt\n",
    "from odmactor.scheduler import RamseyScheduler, RabiScheduler, RelaxationScheduler\n",
    "from odmactor.utils.plotting import plot_ramsey, plot_rabi, plot_t1\n",
    "import scipy.constants as C\n",
    "import numpy as np\n"
   ]
  },
  {
   "cell_type": "markdown",
   "metadata": {},
   "source": [
    "## Ramsey detection"
   ]
  },
  {
   "cell_type": "markdown",
   "metadata": {},
   "source": [
    "**1. Set measurement parameters**\n",
    "- number of readout operation $N$ per frequency measurement point\n",
    "- delay time range for scanning modes, i.e., `[t_start, t_end, t_step]`, unit: \"ns\"\n",
    "- calibrated MW $\\pi$ pulse parameters, i.e., frequency (unit: Hz), power (unit: dBm) and time (unit: s)\n",
    "- laser initialization time $t_{init}$, signal readout pulse time $t_{sig}$, etc.\n",
    "- optional parameters: MW power $p$, if designed, the time of built-in MW $\\pi$ pulse will be regulated correspondingly\n",
    "- time bin $t$ per readout operation will be calculated dynamically when running the scheduler on scanning-time mode"
   ]
  },
  {
   "cell_type": "code",
   "execution_count": 2,
   "metadata": {},
   "outputs": [],
   "source": [
    "\n",
    "t_start = 40\n",
    "t_end = 3000\n",
    "t_step = 30\n",
    "\n",
    "pi_power = 12\n",
    "pi_freq = 2.852 * C.giga\n",
    "pi_time = 310 * C.nano\n",
    "\n",
    "t_init = 5e3\n",
    "inter_init_mw = 3e3\n",
    "inter_mw_read = 200\n",
    "pre_read = 50\n",
    "t_read_sig = 800\n",
    "# t_read_ref = t_read_sig\n",
    "\n",
    "N = int(1e6 / 4)"
   ]
  },
  {
   "cell_type": "markdown",
   "metadata": {},
   "source": [
    "**2. Construct a Ramsey Scheduler and run**\n",
    "\n",
    "Especially, the calibrated MW $\\pi$ pulse should be configured\n"
   ]
  },
  {
   "cell_type": "code",
   "execution_count": 3,
   "metadata": {},
   "outputs": [
    {
     "name": "stdout",
     "output_type": "stream",
     "text": [
      "--- USE ASGDLL_x64.dll ---\n",
      "Current Tagger input channels: {'apd': 1, 'asg': 2}\n"
     ]
    }
   ],
   "source": [
    "scheduler = RamseyScheduler(mw_ttl=0, with_ref=True, epoch_omit=5)\n",
    "scheduler.configure_mw_paras(power=pi_power, freq=pi_freq)\n",
    "scheduler.pi_pulse['freq'], scheduler.pi_pulse['power'], scheduler.pi_pulse['time'] = pi_freq, pi_power, pi_time\n",
    "scheduler.configure_odmr_seq(t_init, t_read_sig, inter_init_mw=inter_init_mw, inter_mw_read=inter_mw_read,\n",
    "                             pre_read=pre_read, N=N)\n",
    "scheduler.set_delay_times(t_start, t_end, t_step)\n",
    "scheduler.configure_tagger_counting(reader='cbm')"
   ]
  },
  {
   "cell_type": "code",
   "execution_count": 5,
   "outputs": [
    {
     "name": "stdout",
     "output_type": "stream",
     "text": [
      "Begin to run Ramsey Scheduler. Time intervals: 40.000 - 3010.000 ns.\n",
      "N: 250000, n_times: 100\n",
      "Estimated total running time: 38.13 s\n",
      "MW on/off status: True\n",
      "scanning freq 40.000 ns (trivial)\n",
      "scanning freq 40.000 ns (trivial)\n",
      "scanning freq 40.000 ns (trivial)\n",
      "scanning freq 40.000 ns (trivial)\n",
      "scanning freq 40.000 ns (trivial)\n",
      "scanning freq 40.000 ns\n",
      "scanning freq 70.000 ns\n",
      "scanning freq 100.000 ns\n",
      "scanning freq 130.000 ns\n",
      "scanning freq 160.000 ns\n",
      "scanning freq 190.000 ns\n",
      "scanning freq 220.000 ns\n",
      "scanning freq 250.000 ns\n",
      "scanning freq 280.000 ns\n",
      "scanning freq 310.000 ns\n",
      "scanning freq 340.000 ns\n",
      "scanning freq 370.000 ns\n",
      "scanning freq 400.000 ns\n",
      "scanning freq 430.000 ns\n",
      "scanning freq 460.000 ns\n",
      "scanning freq 490.000 ns\n",
      "scanning freq 520.000 ns\n",
      "scanning freq 550.000 ns\n",
      "scanning freq 580.000 ns\n",
      "scanning freq 610.000 ns\n",
      "scanning freq 640.000 ns\n",
      "scanning freq 670.000 ns\n",
      "scanning freq 700.000 ns\n",
      "scanning freq 730.000 ns\n",
      "scanning freq 760.000 ns\n",
      "scanning freq 790.000 ns\n",
      "scanning freq 820.000 ns\n",
      "scanning freq 850.000 ns\n",
      "scanning freq 880.000 ns\n",
      "scanning freq 910.000 ns\n",
      "scanning freq 940.000 ns\n",
      "scanning freq 970.000 ns\n",
      "scanning freq 1000.000 ns\n",
      "scanning freq 1030.000 ns\n",
      "scanning freq 1060.000 ns\n",
      "scanning freq 1090.000 ns\n",
      "scanning freq 1120.000 ns\n",
      "scanning freq 1150.000 ns\n",
      "scanning freq 1180.000 ns\n",
      "scanning freq 1210.000 ns\n",
      "scanning freq 1240.000 ns\n",
      "scanning freq 1270.000 ns\n",
      "scanning freq 1300.000 ns\n",
      "scanning freq 1330.000 ns\n",
      "scanning freq 1360.000 ns\n",
      "scanning freq 1390.000 ns\n",
      "scanning freq 1420.000 ns\n",
      "scanning freq 1450.000 ns\n",
      "scanning freq 1480.000 ns\n",
      "scanning freq 1510.000 ns\n",
      "scanning freq 1540.000 ns\n",
      "scanning freq 1570.000 ns\n",
      "scanning freq 1600.000 ns\n",
      "scanning freq 1630.000 ns\n",
      "scanning freq 1660.000 ns\n",
      "scanning freq 1690.000 ns\n",
      "scanning freq 1720.000 ns\n",
      "scanning freq 1750.000 ns\n",
      "scanning freq 1780.000 ns\n",
      "scanning freq 1810.000 ns\n",
      "scanning freq 1840.000 ns\n",
      "scanning freq 1870.000 ns\n",
      "scanning freq 1900.000 ns\n",
      "scanning freq 1930.000 ns\n",
      "scanning freq 1960.000 ns\n",
      "scanning freq 1990.000 ns\n",
      "scanning freq 2020.000 ns\n",
      "scanning freq 2050.000 ns\n",
      "scanning freq 2080.000 ns\n",
      "scanning freq 2110.000 ns\n",
      "scanning freq 2140.000 ns\n",
      "scanning freq 2170.000 ns\n",
      "scanning freq 2200.000 ns\n",
      "scanning freq 2230.000 ns\n",
      "scanning freq 2260.000 ns\n",
      "scanning freq 2290.000 ns\n",
      "scanning freq 2320.000 ns\n",
      "scanning freq 2350.000 ns\n",
      "scanning freq 2380.000 ns\n",
      "scanning freq 2410.000 ns\n",
      "scanning freq 2440.000 ns\n",
      "scanning freq 2470.000 ns\n",
      "scanning freq 2500.000 ns\n",
      "scanning freq 2530.000 ns\n",
      "scanning freq 2560.000 ns\n",
      "scanning freq 2590.000 ns\n",
      "scanning freq 2620.000 ns\n",
      "scanning freq 2650.000 ns\n",
      "scanning freq 2680.000 ns\n",
      "scanning freq 2710.000 ns\n",
      "scanning freq 2740.000 ns\n",
      "scanning freq 2770.000 ns\n",
      "scanning freq 2800.000 ns\n",
      "scanning freq 2830.000 ns\n",
      "scanning freq 2860.000 ns\n",
      "scanning freq 2890.000 ns\n",
      "scanning freq 2920.000 ns\n",
      "scanning freq 2950.000 ns\n",
      "scanning freq 2980.000 ns\n",
      "scanning freq 3010.000 ns\n",
      "finished data acquisition\n",
      "two pulses: False\n",
      "Detailed data result has been saved into ../output/Ramsey-counts-with-ref-2022-02-17-c70a5ec7-9056-11ec-956a-046c59258eff.json\n",
      "Stopped: Scheduling process has stopped\n",
      "Closed: All instrument resources has been released\n"
     ]
    }
   ],
   "source": [
    "scheduler.run_scanning()\n",
    "scheduler.close()"
   ],
   "metadata": {
    "collapsed": false,
    "pycharm": {
     "name": "#%%\n"
    }
   }
  },
  {
   "cell_type": "code",
   "execution_count": 4,
   "metadata": {},
   "outputs": [
    {
     "data": {
      "text/plain": "<Figure size 1008x432 with 1 Axes>",
      "image/png": "[encoded data removed]"
     },
     "metadata": {
      "needs_background": "light"
     },
     "output_type": "display_data"
    }
   ],
   "source": [
    "# observe detection sequence\n",
    "scheduler._gene_pseudo_detect_seq()\n",
    "fig = scheduler.sequences_figure"
   ]
  },
  {
   "cell_type": "markdown",
   "metadata": {},
   "source": [
    "**3. Calculate contrast and plot figures**"
   ]
  },
  {
   "cell_type": "code",
   "execution_count": 6,
   "metadata": {},
   "outputs": [],
   "source": [
    "## count & contrast\n",
    "counts_sig_ref = scheduler.result  # [times, counts, counts_ref]\n",
    "contrast = [sig / ref for sig, ref in zip(counts_sig_ref[1], counts_sig_ref[2])]\n"
   ]
  },
  {
   "cell_type": "code",
   "execution_count": 7,
   "metadata": {},
   "outputs": [
    {
     "data": {
      "text/plain": "Text(0, 0.5, 'Count')"
     },
     "execution_count": 7,
     "metadata": {},
     "output_type": "execute_result"
    },
    {
     "data": {
      "text/plain": "<Figure size 576x396 with 1 Axes>",
      "image/png": "[encoded data removed]"
     },
     "metadata": {},
     "output_type": "display_data"
    }
   ],
   "source": [
    "# plot_ramsey(counts_sig_ref[0], contrast)\n",
    "\n",
    "plt.style.use('seaborn')\n",
    "plt.plot(counts_sig_ref[0], counts_sig_ref[1], 'o-')\n",
    "plt.plot(counts_sig_ref[0], counts_sig_ref[2], 'o-')\n",
    "plt.title('Ramsey')\n",
    "plt.xlabel('Duration time (ns)')\n",
    "plt.ylabel('Count')\n"
   ]
  },
  {
   "cell_type": "code",
   "execution_count": 10,
   "outputs": [
    {
     "data": {
      "text/plain": "Text(0.5, 1.0, 'Ramsey')"
     },
     "execution_count": 10,
     "metadata": {},
     "output_type": "execute_result"
    },
    {
     "data": {
      "text/plain": "<Figure size 576x396 with 1 Axes>",
      "image/png": "[encoded data removed]"
     },
     "metadata": {},
     "output_type": "display_data"
    }
   ],
   "source": [
    "plt.plot(counts_sig_ref[0][1:], contrast[1:], 'o--')\n",
    "plt.title('Ramsey')\n"
   ],
   "metadata": {
    "collapsed": false,
    "pycharm": {
     "name": "#%%\n"
    }
   }
  },
  {
   "cell_type": "code",
   "execution_count": 9,
   "outputs": [],
   "source": [
    "# np.savetxt('ramsey.txt', scheduler.result)"
   ],
   "metadata": {
    "collapsed": false,
    "pycharm": {
     "name": "#%%\n"
    }
   }
  },
  {
   "cell_type": "markdown",
   "metadata": {},
   "source": [
    "## Rabi oscillation"
   ]
  },
  {
   "cell_type": "markdown",
   "metadata": {
    "collapsed": false,
    "pycharm": {
     "name": "#%% md\n"
    }
   },
   "source": [
    "**1. Set measurement parameters**\n",
    "- number of readout operation $N$ per frequency measurement point\n",
    "- delay time range for scanning modes, i.e., `[t_start, t_end, t_step]`, unit: \"ns\"\n",
    "- laser initilization time $t_{init}$, singal readout pulse time $t_{sig}$, etc.\n",
    "- MW power $p$, MW frequency $f$\n",
    "- time bin $t$ per readout operation will be calculated dynamically when running the scheduler on scanning-time mode"
   ]
  },
  {
   "cell_type": "code",
   "execution_count": 39,
   "metadata": {},
   "outputs": [],
   "source": [
    "\n",
    "t_start = 20\n",
    "t_end = 3000\n",
    "t_step = 35\n",
    "\n",
    "t_init = 3e3\n",
    "inter_init_mw = 3000\n",
    "inter_mw_read = 200\n",
    "\n",
    "t_read_sig = 800\n",
    "pre_read = 50\n",
    "\n",
    "N = int(1e6 / 4)\n",
    "\n",
    "p = 12\n",
    "f = 2.852 * C.giga"
   ]
  },
  {
   "cell_type": "markdown",
   "metadata": {
    "pycharm": {
     "name": "#%% md\n"
    }
   },
   "source": [
    "**2. Construct a Rabi measurement Scheduler and run**"
   ]
  },
  {
   "cell_type": "code",
   "execution_count": 40,
   "metadata": {
    "collapsed": false,
    "pycharm": {
     "name": "#%%\n"
    }
   },
   "outputs": [
    {
     "name": "stdout",
     "output_type": "stream",
     "text": [
      "--- USE ASGDLL_x64.dll ---\n",
      "Current Tagger input channels: {'apd': 1, 'asg': 2}\n"
     ]
    }
   ],
   "source": [
    "scheduler = RabiScheduler(mw_ttl=0, with_ref=True, epoch_omit=5)\n",
    "scheduler.configure_mw_paras(power=p, freq=f)\n",
    "scheduler.configure_odmr_seq(t_init, t_read_sig, pre_read=pre_read, inter_init_mw=inter_init_mw,\n",
    "                             inter_mw_read=inter_mw_read, N=N)\n",
    "scheduler.set_delay_times(t_start, t_end, t_step)\n",
    "scheduler.configure_tagger_counting(reader='cbm')\n",
    "\n",
    "# scheduler.asg_dwell"
   ]
  },
  {
   "cell_type": "code",
   "execution_count": 41,
   "outputs": [
    {
     "name": "stdout",
     "output_type": "stream",
     "text": [
      "Begin to run Rabi Scheduler. Time intervals: 20.000 - 2995.000 ns.\n",
      "N: 250000, n_times: 86\n",
      "Estimated total running time: 32.41 s\n",
      "MW on/off status: True\n",
      "scanning freq 20.000 ns (trivial)\n",
      "scanning freq 20.000 ns (trivial)\n",
      "scanning freq 20.000 ns (trivial)\n",
      "scanning freq 20.000 ns (trivial)\n",
      "scanning freq 20.000 ns (trivial)\n",
      "scanning freq 20.000 ns\n",
      "scanning freq 55.000 ns\n",
      "scanning freq 90.000 ns\n",
      "scanning freq 125.000 ns\n",
      "scanning freq 160.000 ns\n",
      "scanning freq 195.000 ns\n",
      "scanning freq 230.000 ns\n",
      "scanning freq 265.000 ns\n",
      "scanning freq 300.000 ns\n",
      "scanning freq 335.000 ns\n",
      "scanning freq 370.000 ns\n",
      "scanning freq 405.000 ns\n",
      "scanning freq 440.000 ns\n",
      "scanning freq 475.000 ns\n",
      "scanning freq 510.000 ns\n",
      "scanning freq 545.000 ns\n",
      "scanning freq 580.000 ns\n",
      "scanning freq 615.000 ns\n",
      "scanning freq 650.000 ns\n",
      "scanning freq 685.000 ns\n",
      "scanning freq 720.000 ns\n",
      "scanning freq 755.000 ns\n",
      "scanning freq 790.000 ns\n",
      "scanning freq 825.000 ns\n",
      "scanning freq 860.000 ns\n",
      "scanning freq 895.000 ns\n",
      "scanning freq 930.000 ns\n",
      "scanning freq 965.000 ns\n",
      "scanning freq 1000.000 ns\n",
      "scanning freq 1035.000 ns\n",
      "scanning freq 1070.000 ns\n",
      "scanning freq 1105.000 ns\n",
      "scanning freq 1140.000 ns\n",
      "scanning freq 1175.000 ns\n",
      "scanning freq 1210.000 ns\n",
      "scanning freq 1245.000 ns\n",
      "scanning freq 1280.000 ns\n",
      "scanning freq 1315.000 ns\n",
      "scanning freq 1350.000 ns\n",
      "scanning freq 1385.000 ns\n",
      "scanning freq 1420.000 ns\n",
      "scanning freq 1455.000 ns\n",
      "scanning freq 1490.000 ns\n",
      "scanning freq 1525.000 ns\n",
      "scanning freq 1560.000 ns\n",
      "scanning freq 1595.000 ns\n",
      "scanning freq 1630.000 ns\n",
      "scanning freq 1665.000 ns\n",
      "scanning freq 1700.000 ns\n",
      "scanning freq 1735.000 ns\n",
      "scanning freq 1770.000 ns\n",
      "scanning freq 1805.000 ns\n",
      "scanning freq 1840.000 ns\n",
      "scanning freq 1875.000 ns\n",
      "scanning freq 1910.000 ns\n",
      "scanning freq 1945.000 ns\n",
      "scanning freq 1980.000 ns\n",
      "scanning freq 2015.000 ns\n",
      "scanning freq 2050.000 ns\n",
      "scanning freq 2085.000 ns\n",
      "scanning freq 2120.000 ns\n",
      "scanning freq 2155.000 ns\n",
      "scanning freq 2190.000 ns\n",
      "scanning freq 2225.000 ns\n",
      "scanning freq 2260.000 ns\n",
      "scanning freq 2295.000 ns\n",
      "scanning freq 2330.000 ns\n",
      "scanning freq 2365.000 ns\n",
      "scanning freq 2400.000 ns\n",
      "scanning freq 2435.000 ns\n",
      "scanning freq 2470.000 ns\n",
      "scanning freq 2505.000 ns\n",
      "scanning freq 2540.000 ns\n",
      "scanning freq 2575.000 ns\n",
      "scanning freq 2610.000 ns\n",
      "scanning freq 2645.000 ns\n",
      "scanning freq 2680.000 ns\n",
      "scanning freq 2715.000 ns\n",
      "scanning freq 2750.000 ns\n",
      "scanning freq 2785.000 ns\n",
      "scanning freq 2820.000 ns\n",
      "scanning freq 2855.000 ns\n",
      "scanning freq 2890.000 ns\n",
      "scanning freq 2925.000 ns\n",
      "scanning freq 2960.000 ns\n",
      "scanning freq 2995.000 ns\n",
      "finished data acquisition\n",
      "two pulses: False\n",
      "Detailed data result has been saved into ../output/Rabi-counts-with-ref-2022-02-17-62e17fbd-904e-11ec-b845-046c59258eff.json\n",
      "Stopped: Scheduling process has stopped\n",
      "Closed: All instrument resources has been released\n"
     ]
    }
   ],
   "source": [
    "scheduler.run_scanning()\n",
    "\n",
    "scheduler.close()"
   ],
   "metadata": {
    "collapsed": false,
    "pycharm": {
     "name": "#%%\n"
    }
   }
  },
  {
   "cell_type": "code",
   "execution_count": 42,
   "outputs": [
    {
     "data": {
      "text/plain": "<Figure size 1008x432 with 1 Axes>",
      "image/png": "[encoded data removed]"
     },
     "metadata": {},
     "output_type": "display_data"
    }
   ],
   "source": [
    "scheduler._gene_pseudo_detect_seq()\n",
    "fig = scheduler.sequences_figure"
   ],
   "metadata": {
    "collapsed": false,
    "pycharm": {
     "name": "#%%\n"
    }
   }
  },
  {
   "cell_type": "markdown",
   "metadata": {
    "pycharm": {
     "name": "#%% md\n"
    }
   },
   "source": [
    "**3. Calculate contrast and plot figures**"
   ]
  },
  {
   "cell_type": "code",
   "execution_count": 43,
   "metadata": {
    "collapsed": false,
    "pycharm": {
     "name": "#%%\n"
    }
   },
   "outputs": [],
   "source": [
    "## count & contrast\n",
    "counts_sig_ref = scheduler.result  # [times, counts, counts_ref]\n",
    "contrast = [sig / ref for sig, ref in zip(counts_sig_ref[1], counts_sig_ref[2])]"
   ]
  },
  {
   "cell_type": "code",
   "execution_count": 44,
   "metadata": {
    "collapsed": false,
    "pycharm": {
     "name": "#%%\n"
    }
   },
   "outputs": [
    {
     "data": {
      "text/plain": "Text(0, 0.5, 'counts')"
     },
     "execution_count": 44,
     "metadata": {},
     "output_type": "execute_result"
    },
    {
     "data": {
      "text/plain": "<Figure size 576x396 with 1 Axes>",
      "image/png": "[encoded data removed]"
     },
     "metadata": {},
     "output_type": "display_data"
    }
   ],
   "source": [
    "# plot_rabi(counts_sig_ref[0], counts_sig_ref[1])\n",
    "plt.style.use('seaborn')\n",
    "#plt.vlines(210, 13.6,14)\n",
    "plt.plot(counts_sig_ref[0], counts_sig_ref[1], 'o--', label='signal')\n",
    "plt.plot(counts_sig_ref[0], counts_sig_ref[2], 'o-', label='referengce')\n",
    "plt.legend()\n",
    "plt.title('Rabi Oscillation')\n",
    "plt.xlabel('MW time (ns)')\n",
    "plt.ylabel('counts')"
   ]
  },
  {
   "cell_type": "code",
   "execution_count": 45,
   "outputs": [
    {
     "data": {
      "text/plain": "[<matplotlib.lines.Line2D at 0x28eddd5bb80>]"
     },
     "execution_count": 45,
     "metadata": {},
     "output_type": "execute_result"
    },
    {
     "data": {
      "text/plain": "<Figure size 576x396 with 1 Axes>",
      "image/png": "[encoded data removed]"
     },
     "metadata": {},
     "output_type": "display_data"
    }
   ],
   "source": [
    "plt.plot(counts_sig_ref[0], contrast, 'o-')"
   ],
   "metadata": {
    "collapsed": false,
    "pycharm": {
     "name": "#%%\n"
    }
   }
  },
  {
   "cell_type": "code",
   "execution_count": 46,
   "outputs": [
    {
     "data": {
      "text/plain": "<Figure size 1008x432 with 1 Axes>",
      "image/png": "[encoded data removed]"
     },
     "metadata": {},
     "output_type": "display_data"
    }
   ],
   "source": [
    "np.savetxt('rabi.txt', scheduler.result)\n"
   ],
   "metadata": {
    "collapsed": false,
    "pycharm": {
     "name": "#%%\n"
    }
   }
  },
  {
   "cell_type": "markdown",
   "metadata": {},
   "source": [
    "## T1 relaxometry"
   ]
  },
  {
   "cell_type": "markdown",
   "metadata": {},
   "source": [
    "**1. Set measurement parameters**\n",
    "- number of readout operation $N$ per frequency measurement point\n",
    "- delay time range for scanning modes, i.e., `[t_start, t_end, t_step]`, unit: \"ns\"\n",
    "- laser initialization time $t_{init}$, signal readout pulse time $t_{sig}$, etc.\n",
    "- calibrated MW $\\pi$ pulse parameters, i.e., frequency (unit: Hz), power (unit: dBm) and time (unit: s)\n",
    "- optional parameters: MW power $p$, if designed, the time of built-in MW $\\pi$ pulse will be regulated correspondingly\n",
    "- time bin $t$ per readout operation will be calculated dynamically when running the scheduler on scanning-time mode"
   ]
  },
  {
   "cell_type": "code",
   "execution_count": 17,
   "outputs": [
    {
     "data": {
      "text/plain": "660.0"
     },
     "execution_count": 17,
     "metadata": {},
     "output_type": "execute_result"
    }
   ],
   "source": [],
   "metadata": {
    "collapsed": false,
    "pycharm": {
     "name": "#%%\n"
    }
   }
  },
  {
   "cell_type": "code",
   "execution_count": 2,
   "metadata": {},
   "outputs": [],
   "source": [
    "\n",
    "t_start = int(1e4)\n",
    "t_end = int(1e6)\n",
    "t_step = int(1e4)\n",
    "\n",
    "pi_power = 10\n",
    "pi_freq = 2.852 * C.giga\n",
    "pi_time = 210 * C.nano\n",
    "\n",
    "t_init = 3e3\n",
    "inter_init_mw = 1e3\n",
    "t_read_sig = 800\n",
    "t_read_ref = t_read_sig\n",
    "\n",
    "N = int(1e6 / 4)\n",
    "\n",
    "times = np.round(10 ** np.linspace(1, 5, 50)) * 10\n",
    "\n"
   ]
  },
  {
   "cell_type": "markdown",
   "metadata": {},
   "source": [
    "**Construct a T1 measurement scheduler and run**"
   ]
  },
  {
   "cell_type": "code",
   "execution_count": 3,
   "metadata": {},
   "outputs": [
    {
     "name": "stdout",
     "output_type": "stream",
     "text": [
      "--- USE ASGDLL_x64.dll ---\n",
      "Current Tagger input channels: {'apd': 1, 'asg': 2}\n"
     ]
    },
    {
     "data": {
      "text/plain": "0"
     },
     "execution_count": 3,
     "metadata": {},
     "output_type": "execute_result"
    }
   ],
   "source": [
    "scheduler = RelaxationScheduler(mw_ttl=0, ms=0)\n",
    "scheduler.pi_pulse['freq'], scheduler.pi_pulse['power'], scheduler.pi_pulse['time'] = pi_freq, pi_power, pi_time\n",
    "scheduler.configure_odmr_seq(t_init, t_read_sig, inter_init_mw=inter_init_mw, N=N)\n",
    "scheduler.set_delay_times(t_start, t_end, t_step)\n",
    "scheduler.set_delay_times(times=times)\n",
    "scheduler.configure_tagger_counting(reader='cbm')\n",
    "\n",
    "scheduler.ms"
   ]
  },
  {
   "cell_type": "code",
   "execution_count": 4,
   "outputs": [
    {
     "name": "stdout",
     "output_type": "stream",
     "text": [
      "Begin to run T1 Relaxation Scheduler. Time intervals: 100.000 - 1000000.000 ns.\n",
      "N: 250000, n_times: 50\n",
      "Estimated total running time: 1458.83 s\n",
      "MW on/off status: True\n",
      "ms == 0\n",
      "no two-pulse read\n",
      "scanning freq 100.000 ns\n",
      "ms == 0\n",
      "no two-pulse read\n",
      "scanning freq 120.000 ns\n",
      "ms == 0\n",
      "no two-pulse read\n",
      "scanning freq 150.000 ns\n",
      "ms == 0\n",
      "no two-pulse read\n",
      "scanning freq 180.000 ns\n",
      "ms == 0\n",
      "no two-pulse read\n",
      "scanning freq 210.000 ns\n",
      "ms == 0\n",
      "no two-pulse read\n",
      "scanning freq 260.000 ns\n",
      "ms == 0\n",
      "no two-pulse read\n",
      "scanning freq 310.000 ns\n",
      "ms == 0\n",
      "no two-pulse read\n",
      "scanning freq 370.000 ns\n",
      "ms == 0\n",
      "no two-pulse read\n",
      "scanning freq 450.000 ns\n",
      "ms == 0\n",
      "no two-pulse read\n",
      "scanning freq 540.000 ns\n",
      "ms == 0\n",
      "no two-pulse read\n",
      "scanning freq 660.000 ns\n",
      "ms == 0\n",
      "no two-pulse read\n",
      "scanning freq 790.000 ns\n",
      "ms == 0\n",
      "no two-pulse read\n",
      "scanning freq 950.000 ns\n",
      "ms == 0\n",
      "no two-pulse read\n",
      "scanning freq 1150.000 ns\n",
      "ms == 0\n",
      "no two-pulse read\n",
      "scanning freq 1390.000 ns\n",
      "ms == 0\n",
      "no two-pulse read\n",
      "scanning freq 1680.000 ns\n",
      "ms == 0\n",
      "no two-pulse read\n",
      "scanning freq 2020.000 ns\n",
      "ms == 0\n",
      "no two-pulse read\n",
      "scanning freq 2440.000 ns\n",
      "ms == 0\n",
      "no two-pulse read\n",
      "scanning freq 2950.000 ns\n",
      "ms == 0\n",
      "no two-pulse read\n",
      "scanning freq 3560.000 ns\n",
      "ms == 0\n",
      "no two-pulse read\n",
      "scanning freq 4290.000 ns\n",
      "ms == 0\n",
      "no two-pulse read\n",
      "scanning freq 5180.000 ns\n",
      "ms == 0\n",
      "no two-pulse read\n",
      "scanning freq 6250.000 ns\n",
      "ms == 0\n",
      "no two-pulse read\n",
      "scanning freq 7540.000 ns\n",
      "ms == 0\n",
      "no two-pulse read\n",
      "scanning freq 9100.000 ns\n",
      "ms == 0\n",
      "no two-pulse read\n",
      "scanning freq 10990.000 ns\n",
      "ms == 0\n",
      "no two-pulse read\n",
      "scanning freq 13260.000 ns\n",
      "ms == 0\n",
      "no two-pulse read\n",
      "scanning freq 16000.000 ns\n",
      "ms == 0\n",
      "no two-pulse read\n",
      "scanning freq 19310.000 ns\n",
      "ms == 0\n",
      "no two-pulse read\n",
      "scanning freq 23300.000 ns\n",
      "ms == 0\n",
      "no two-pulse read\n",
      "scanning freq 28120.000 ns\n",
      "ms == 0\n",
      "no two-pulse read\n",
      "scanning freq 33930.000 ns\n",
      "ms == 0\n",
      "no two-pulse read\n",
      "scanning freq 40950.000 ns\n",
      "ms == 0\n",
      "no two-pulse read\n",
      "scanning freq 49420.000 ns\n",
      "ms == 0\n",
      "no two-pulse read\n",
      "scanning freq 59640.000 ns\n",
      "ms == 0\n",
      "no two-pulse read\n",
      "scanning freq 71970.000 ns\n",
      "ms == 0\n",
      "no two-pulse read\n",
      "scanning freq 86850.000 ns\n",
      "ms == 0\n",
      "no two-pulse read\n",
      "scanning freq 104810.000 ns\n",
      "ms == 0\n",
      "no two-pulse read\n",
      "scanning freq 126490.000 ns\n",
      "ms == 0\n",
      "no two-pulse read\n",
      "scanning freq 152640.000 ns\n",
      "ms == 0\n",
      "no two-pulse read\n",
      "scanning freq 184210.000 ns\n",
      "ms == 0\n",
      "no two-pulse read\n",
      "scanning freq 222300.000 ns\n",
      "ms == 0\n",
      "no two-pulse read\n",
      "scanning freq 268270.000 ns\n",
      "ms == 0\n",
      "no two-pulse read\n",
      "scanning freq 323750.000 ns\n",
      "ms == 0\n",
      "no two-pulse read\n",
      "scanning freq 390690.000 ns\n",
      "ms == 0\n",
      "no two-pulse read\n",
      "scanning freq 471490.000 ns\n",
      "ms == 0\n",
      "no two-pulse read\n",
      "scanning freq 568990.000 ns\n",
      "ms == 0\n",
      "no two-pulse read\n",
      "scanning freq 686650.000 ns\n",
      "ms == 0\n",
      "no two-pulse read\n",
      "scanning freq 828640.000 ns\n",
      "ms == 0\n",
      "no two-pulse read\n",
      "scanning freq 1000000.000 ns\n",
      "finished data acquisition\n",
      "two pulses: False\n",
      "------------------------------------------------------------------\n"
     ]
    },
    {
     "ename": "TypeError",
     "evalue": "Object of type ndarray is not JSON serializable",
     "output_type": "error",
     "traceback": [
      "\u001B[1;31m---------------------------------------------------------------------------\u001B[0m",
      "\u001B[1;31mTypeError\u001B[0m                                 Traceback (most recent call last)",
      "\u001B[1;32m~\\AppData\\Local\\Temp/ipykernel_2348/3944735443.py\u001B[0m in \u001B[0;36m<module>\u001B[1;34m\u001B[0m\n\u001B[1;32m----> 1\u001B[1;33m \u001B[0mscheduler\u001B[0m\u001B[1;33m.\u001B[0m\u001B[0mrun_scanning\u001B[0m\u001B[1;33m(\u001B[0m\u001B[1;33m)\u001B[0m\u001B[1;33m\u001B[0m\u001B[1;33m\u001B[0m\u001B[0m\n\u001B[0m\u001B[0;32m      2\u001B[0m \u001B[0mscheduler\u001B[0m\u001B[1;33m.\u001B[0m\u001B[0mclose\u001B[0m\u001B[1;33m(\u001B[0m\u001B[1;33m)\u001B[0m\u001B[1;33m\u001B[0m\u001B[1;33m\u001B[0m\u001B[0m\n\u001B[0;32m      3\u001B[0m \u001B[1;33m\u001B[0m\u001B[0m\n\u001B[0;32m      4\u001B[0m \u001B[1;33m\u001B[0m\u001B[0m\n",
      "\u001B[1;32mD:\\Git-Project\\odmactor\\odmactor\\scheduler\\base.py\u001B[0m in \u001B[0;36mrun_scanning\u001B[1;34m(self)\u001B[0m\n\u001B[0;32m    660\u001B[0m \u001B[1;33m\u001B[0m\u001B[0m\n\u001B[0;32m    661\u001B[0m         \u001B[0mself\u001B[0m\u001B[1;33m.\u001B[0m\u001B[0m_start_device\u001B[0m\u001B[1;33m(\u001B[0m\u001B[1;33m)\u001B[0m\u001B[1;33m\u001B[0m\u001B[1;33m\u001B[0m\u001B[0m\n\u001B[1;32m--> 662\u001B[1;33m         \u001B[0mself\u001B[0m\u001B[1;33m.\u001B[0m\u001B[0m_acquire_data\u001B[0m\u001B[1;33m(\u001B[0m\u001B[1;33m)\u001B[0m  \u001B[1;31m# scanning time intervals in this loop\u001B[0m\u001B[1;33m\u001B[0m\u001B[1;33m\u001B[0m\u001B[0m\n\u001B[0m\u001B[0;32m    663\u001B[0m         \u001B[0mself\u001B[0m\u001B[1;33m.\u001B[0m\u001B[0mstop\u001B[0m\u001B[1;33m(\u001B[0m\u001B[1;33m)\u001B[0m\u001B[1;33m\u001B[0m\u001B[1;33m\u001B[0m\u001B[0m\n\u001B[0;32m    664\u001B[0m \u001B[1;33m\u001B[0m\u001B[0m\n",
      "\u001B[1;32mD:\\Git-Project\\odmactor\\odmactor\\scheduler\\base.py\u001B[0m in \u001B[0;36m_acquire_data\u001B[1;34m(self, *args, **kwargs)\u001B[0m\n\u001B[0;32m    647\u001B[0m \u001B[1;33m\u001B[0m\u001B[0m\n\u001B[0;32m    648\u001B[0m         \u001B[1;31m# 3. save result\u001B[0m\u001B[1;33m\u001B[0m\u001B[1;33m\u001B[0m\u001B[1;33m\u001B[0m\u001B[0m\n\u001B[1;32m--> 649\u001B[1;33m         \u001B[0mself\u001B[0m\u001B[1;33m.\u001B[0m\u001B[0msave_result\u001B[0m\u001B[1;33m(\u001B[0m\u001B[0mself\u001B[0m\u001B[1;33m.\u001B[0m\u001B[0m_gene_data_result_fname\u001B[0m\u001B[1;33m(\u001B[0m\u001B[1;33m)\u001B[0m\u001B[1;33m)\u001B[0m\u001B[1;33m\u001B[0m\u001B[1;33m\u001B[0m\u001B[0m\n\u001B[0m\u001B[0;32m    650\u001B[0m \u001B[1;33m\u001B[0m\u001B[0m\n\u001B[0;32m    651\u001B[0m     \u001B[1;32mdef\u001B[0m \u001B[0mrun_scanning\u001B[0m\u001B[1;33m(\u001B[0m\u001B[0mself\u001B[0m\u001B[1;33m)\u001B[0m\u001B[1;33m:\u001B[0m\u001B[1;33m\u001B[0m\u001B[1;33m\u001B[0m\u001B[0m\n",
      "\u001B[1;32mD:\\Git-Project\\odmactor\\odmactor\\scheduler\\base.py\u001B[0m in \u001B[0;36msave_result\u001B[1;34m(self, fname)\u001B[0m\n\u001B[0;32m    368\u001B[0m                                  '{}-result-{}-{}'.format(self.name, str(datetime.date.today()), uuid.uuid1()))\n\u001B[0;32m    369\u001B[0m         \u001B[1;32mwith\u001B[0m \u001B[0mopen\u001B[0m\u001B[1;33m(\u001B[0m\u001B[0mfname\u001B[0m \u001B[1;33m+\u001B[0m \u001B[1;34m'.json'\u001B[0m\u001B[1;33m,\u001B[0m \u001B[1;34m'w'\u001B[0m\u001B[1;33m)\u001B[0m \u001B[1;32mas\u001B[0m \u001B[0mf\u001B[0m\u001B[1;33m:\u001B[0m\u001B[1;33m\u001B[0m\u001B[1;33m\u001B[0m\u001B[0m\n\u001B[1;32m--> 370\u001B[1;33m             \u001B[0mjson\u001B[0m\u001B[1;33m.\u001B[0m\u001B[0mdump\u001B[0m\u001B[1;33m(\u001B[0m\u001B[0mself\u001B[0m\u001B[1;33m.\u001B[0m\u001B[0m_result_detail\u001B[0m\u001B[1;33m,\u001B[0m \u001B[0mf\u001B[0m\u001B[1;33m)\u001B[0m\u001B[1;33m\u001B[0m\u001B[1;33m\u001B[0m\u001B[0m\n\u001B[0m\u001B[0;32m    371\u001B[0m         \u001B[0mprint\u001B[0m\u001B[1;33m(\u001B[0m\u001B[1;34m'Detailed data result has been saved into {}'\u001B[0m\u001B[1;33m.\u001B[0m\u001B[0mformat\u001B[0m\u001B[1;33m(\u001B[0m\u001B[0mfname\u001B[0m \u001B[1;33m+\u001B[0m \u001B[1;34m'.json'\u001B[0m\u001B[1;33m)\u001B[0m\u001B[1;33m)\u001B[0m\u001B[1;33m\u001B[0m\u001B[1;33m\u001B[0m\u001B[0m\n\u001B[0;32m    372\u001B[0m \u001B[1;33m\u001B[0m\u001B[0m\n",
      "\u001B[1;32m~\\miniconda3\\lib\\json\\__init__.py\u001B[0m in \u001B[0;36mdump\u001B[1;34m(obj, fp, skipkeys, ensure_ascii, check_circular, allow_nan, cls, indent, separators, default, sort_keys, **kw)\u001B[0m\n\u001B[0;32m    177\u001B[0m     \u001B[1;31m# could accelerate with writelines in some versions of Python, at\u001B[0m\u001B[1;33m\u001B[0m\u001B[1;33m\u001B[0m\u001B[1;33m\u001B[0m\u001B[0m\n\u001B[0;32m    178\u001B[0m     \u001B[1;31m# a debuggability cost\u001B[0m\u001B[1;33m\u001B[0m\u001B[1;33m\u001B[0m\u001B[1;33m\u001B[0m\u001B[0m\n\u001B[1;32m--> 179\u001B[1;33m     \u001B[1;32mfor\u001B[0m \u001B[0mchunk\u001B[0m \u001B[1;32min\u001B[0m \u001B[0miterable\u001B[0m\u001B[1;33m:\u001B[0m\u001B[1;33m\u001B[0m\u001B[1;33m\u001B[0m\u001B[0m\n\u001B[0m\u001B[0;32m    180\u001B[0m         \u001B[0mfp\u001B[0m\u001B[1;33m.\u001B[0m\u001B[0mwrite\u001B[0m\u001B[1;33m(\u001B[0m\u001B[0mchunk\u001B[0m\u001B[1;33m)\u001B[0m\u001B[1;33m\u001B[0m\u001B[1;33m\u001B[0m\u001B[0m\n\u001B[0;32m    181\u001B[0m \u001B[1;33m\u001B[0m\u001B[0m\n",
      "\u001B[1;32m~\\miniconda3\\lib\\json\\encoder.py\u001B[0m in \u001B[0;36m_iterencode\u001B[1;34m(o, _current_indent_level)\u001B[0m\n\u001B[0;32m    429\u001B[0m             \u001B[1;32myield\u001B[0m \u001B[1;32mfrom\u001B[0m \u001B[0m_iterencode_list\u001B[0m\u001B[1;33m(\u001B[0m\u001B[0mo\u001B[0m\u001B[1;33m,\u001B[0m \u001B[0m_current_indent_level\u001B[0m\u001B[1;33m)\u001B[0m\u001B[1;33m\u001B[0m\u001B[1;33m\u001B[0m\u001B[0m\n\u001B[0;32m    430\u001B[0m         \u001B[1;32melif\u001B[0m \u001B[0misinstance\u001B[0m\u001B[1;33m(\u001B[0m\u001B[0mo\u001B[0m\u001B[1;33m,\u001B[0m \u001B[0mdict\u001B[0m\u001B[1;33m)\u001B[0m\u001B[1;33m:\u001B[0m\u001B[1;33m\u001B[0m\u001B[1;33m\u001B[0m\u001B[0m\n\u001B[1;32m--> 431\u001B[1;33m             \u001B[1;32myield\u001B[0m \u001B[1;32mfrom\u001B[0m \u001B[0m_iterencode_dict\u001B[0m\u001B[1;33m(\u001B[0m\u001B[0mo\u001B[0m\u001B[1;33m,\u001B[0m \u001B[0m_current_indent_level\u001B[0m\u001B[1;33m)\u001B[0m\u001B[1;33m\u001B[0m\u001B[1;33m\u001B[0m\u001B[0m\n\u001B[0m\u001B[0;32m    432\u001B[0m         \u001B[1;32melse\u001B[0m\u001B[1;33m:\u001B[0m\u001B[1;33m\u001B[0m\u001B[1;33m\u001B[0m\u001B[0m\n\u001B[0;32m    433\u001B[0m             \u001B[1;32mif\u001B[0m \u001B[0mmarkers\u001B[0m \u001B[1;32mis\u001B[0m \u001B[1;32mnot\u001B[0m \u001B[1;32mNone\u001B[0m\u001B[1;33m:\u001B[0m\u001B[1;33m\u001B[0m\u001B[1;33m\u001B[0m\u001B[0m\n",
      "\u001B[1;32m~\\miniconda3\\lib\\json\\encoder.py\u001B[0m in \u001B[0;36m_iterencode_dict\u001B[1;34m(dct, _current_indent_level)\u001B[0m\n\u001B[0;32m    403\u001B[0m                 \u001B[1;32melse\u001B[0m\u001B[1;33m:\u001B[0m\u001B[1;33m\u001B[0m\u001B[1;33m\u001B[0m\u001B[0m\n\u001B[0;32m    404\u001B[0m                     \u001B[0mchunks\u001B[0m \u001B[1;33m=\u001B[0m \u001B[0m_iterencode\u001B[0m\u001B[1;33m(\u001B[0m\u001B[0mvalue\u001B[0m\u001B[1;33m,\u001B[0m \u001B[0m_current_indent_level\u001B[0m\u001B[1;33m)\u001B[0m\u001B[1;33m\u001B[0m\u001B[1;33m\u001B[0m\u001B[0m\n\u001B[1;32m--> 405\u001B[1;33m                 \u001B[1;32myield\u001B[0m \u001B[1;32mfrom\u001B[0m \u001B[0mchunks\u001B[0m\u001B[1;33m\u001B[0m\u001B[1;33m\u001B[0m\u001B[0m\n\u001B[0m\u001B[0;32m    406\u001B[0m         \u001B[1;32mif\u001B[0m \u001B[0mnewline_indent\u001B[0m \u001B[1;32mis\u001B[0m \u001B[1;32mnot\u001B[0m \u001B[1;32mNone\u001B[0m\u001B[1;33m:\u001B[0m\u001B[1;33m\u001B[0m\u001B[1;33m\u001B[0m\u001B[0m\n\u001B[0;32m    407\u001B[0m             \u001B[0m_current_indent_level\u001B[0m \u001B[1;33m-=\u001B[0m \u001B[1;36m1\u001B[0m\u001B[1;33m\u001B[0m\u001B[1;33m\u001B[0m\u001B[0m\n",
      "\u001B[1;32m~\\miniconda3\\lib\\json\\encoder.py\u001B[0m in \u001B[0;36m_iterencode\u001B[1;34m(o, _current_indent_level)\u001B[0m\n\u001B[0;32m    436\u001B[0m                     \u001B[1;32mraise\u001B[0m \u001B[0mValueError\u001B[0m\u001B[1;33m(\u001B[0m\u001B[1;34m\"Circular reference detected\"\u001B[0m\u001B[1;33m)\u001B[0m\u001B[1;33m\u001B[0m\u001B[1;33m\u001B[0m\u001B[0m\n\u001B[0;32m    437\u001B[0m                 \u001B[0mmarkers\u001B[0m\u001B[1;33m[\u001B[0m\u001B[0mmarkerid\u001B[0m\u001B[1;33m]\u001B[0m \u001B[1;33m=\u001B[0m \u001B[0mo\u001B[0m\u001B[1;33m\u001B[0m\u001B[1;33m\u001B[0m\u001B[0m\n\u001B[1;32m--> 438\u001B[1;33m             \u001B[0mo\u001B[0m \u001B[1;33m=\u001B[0m \u001B[0m_default\u001B[0m\u001B[1;33m(\u001B[0m\u001B[0mo\u001B[0m\u001B[1;33m)\u001B[0m\u001B[1;33m\u001B[0m\u001B[1;33m\u001B[0m\u001B[0m\n\u001B[0m\u001B[0;32m    439\u001B[0m             \u001B[1;32myield\u001B[0m \u001B[1;32mfrom\u001B[0m \u001B[0m_iterencode\u001B[0m\u001B[1;33m(\u001B[0m\u001B[0mo\u001B[0m\u001B[1;33m,\u001B[0m \u001B[0m_current_indent_level\u001B[0m\u001B[1;33m)\u001B[0m\u001B[1;33m\u001B[0m\u001B[1;33m\u001B[0m\u001B[0m\n\u001B[0;32m    440\u001B[0m             \u001B[1;32mif\u001B[0m \u001B[0mmarkers\u001B[0m \u001B[1;32mis\u001B[0m \u001B[1;32mnot\u001B[0m \u001B[1;32mNone\u001B[0m\u001B[1;33m:\u001B[0m\u001B[1;33m\u001B[0m\u001B[1;33m\u001B[0m\u001B[0m\n",
      "\u001B[1;32m~\\miniconda3\\lib\\json\\encoder.py\u001B[0m in \u001B[0;36mdefault\u001B[1;34m(self, o)\u001B[0m\n\u001B[0;32m    177\u001B[0m \u001B[1;33m\u001B[0m\u001B[0m\n\u001B[0;32m    178\u001B[0m         \"\"\"\n\u001B[1;32m--> 179\u001B[1;33m         raise TypeError(f'Object of type {o.__class__.__name__} '\n\u001B[0m\u001B[0;32m    180\u001B[0m                         f'is not JSON serializable')\n\u001B[0;32m    181\u001B[0m \u001B[1;33m\u001B[0m\u001B[0m\n",
      "\u001B[1;31mTypeError\u001B[0m: Object of type ndarray is not JSON serializable"
     ]
    }
   ],
   "source": [
    "scheduler.run_scanning()\n",
    "scheduler.close()\n"
   ],
   "metadata": {
    "collapsed": false,
    "pycharm": {
     "name": "#%%\n"
    }
   }
  },
  {
   "cell_type": "code",
   "execution_count": null,
   "metadata": {},
   "outputs": [],
   "source": [
    "# observe sequence figure\n",
    "fig = scheduler.sequences_figure"
   ]
  },
  {
   "cell_type": "markdown",
   "metadata": {},
   "source": [
    "**3. Calculate contrast and plot figures**"
   ]
  },
  {
   "cell_type": "code",
   "execution_count": 5,
   "metadata": {},
   "outputs": [
    {
     "ename": "IndexError",
     "evalue": "list index out of range",
     "output_type": "error",
     "traceback": [
      "\u001B[1;31m---------------------------------------------------------------------------\u001B[0m",
      "\u001B[1;31mIndexError\u001B[0m                                Traceback (most recent call last)",
      "\u001B[1;32m~\\AppData\\Local\\Temp/ipykernel_2348/1828699904.py\u001B[0m in \u001B[0;36m<module>\u001B[1;34m\u001B[0m\n\u001B[0;32m      1\u001B[0m \u001B[1;31m## count & contrast\u001B[0m\u001B[1;33m\u001B[0m\u001B[1;33m\u001B[0m\u001B[1;33m\u001B[0m\u001B[0m\n\u001B[0;32m      2\u001B[0m \u001B[0mcounts_sig_ref\u001B[0m \u001B[1;33m=\u001B[0m \u001B[0mscheduler\u001B[0m\u001B[1;33m.\u001B[0m\u001B[0mresult\u001B[0m  \u001B[1;31m# [times, counts, counts_ref]\u001B[0m\u001B[1;33m\u001B[0m\u001B[1;33m\u001B[0m\u001B[0m\n\u001B[1;32m----> 3\u001B[1;33m \u001B[0mcontrast\u001B[0m \u001B[1;33m=\u001B[0m \u001B[1;33m[\u001B[0m\u001B[0msig\u001B[0m\u001B[1;33m/\u001B[0m\u001B[0mref\u001B[0m \u001B[1;32mfor\u001B[0m \u001B[0msig\u001B[0m\u001B[1;33m,\u001B[0m \u001B[0mref\u001B[0m \u001B[1;32min\u001B[0m \u001B[0mzip\u001B[0m\u001B[1;33m(\u001B[0m\u001B[0mcounts_sig_ref\u001B[0m\u001B[1;33m[\u001B[0m\u001B[1;36m1\u001B[0m\u001B[1;33m]\u001B[0m\u001B[1;33m,\u001B[0m \u001B[0mcounts_sig_ref\u001B[0m\u001B[1;33m[\u001B[0m\u001B[1;36m2\u001B[0m\u001B[1;33m]\u001B[0m\u001B[1;33m)\u001B[0m\u001B[1;33m]\u001B[0m\u001B[1;33m\u001B[0m\u001B[1;33m\u001B[0m\u001B[0m\n\u001B[0m\u001B[0;32m      4\u001B[0m \u001B[1;33m\u001B[0m\u001B[0m\n",
      "\u001B[1;31mIndexError\u001B[0m: list index out of range"
     ]
    }
   ],
   "source": [
    "## count & contrast\n",
    "counts_sig_ref = scheduler.result  # [times, counts, counts_ref]\n",
    "contrast = [sig / ref for sig, ref in zip(counts_sig_ref[1], counts_sig_ref[2])]"
   ]
  },
  {
   "cell_type": "code",
   "execution_count": 6,
   "metadata": {},
   "outputs": [
    {
     "ename": "NameError",
     "evalue": "name 'contrast' is not defined",
     "output_type": "error",
     "traceback": [
      "\u001B[1;31m---------------------------------------------------------------------------\u001B[0m",
      "\u001B[1;31mNameError\u001B[0m                                 Traceback (most recent call last)",
      "\u001B[1;32m~\\AppData\\Local\\Temp/ipykernel_2348/1737635237.py\u001B[0m in \u001B[0;36m<module>\u001B[1;34m\u001B[0m\n\u001B[1;32m----> 1\u001B[1;33m \u001B[0mplot_t1\u001B[0m\u001B[1;33m(\u001B[0m\u001B[0mcounts_sig_ref\u001B[0m\u001B[1;33m[\u001B[0m\u001B[1;36m0\u001B[0m\u001B[1;33m]\u001B[0m\u001B[1;33m,\u001B[0m \u001B[0mcontrast\u001B[0m\u001B[1;33m)\u001B[0m\u001B[1;33m\u001B[0m\u001B[1;33m\u001B[0m\u001B[0m\n\u001B[0m\u001B[0;32m      2\u001B[0m \u001B[1;33m\u001B[0m\u001B[0m\n",
      "\u001B[1;31mNameError\u001B[0m: name 'contrast' is not defined"
     ]
    }
   ],
   "source": [
    "plot_t1(counts_sig_ref[0], contrast)"
   ]
  },
  {
   "cell_type": "code",
   "execution_count": null,
   "metadata": {},
   "outputs": [],
   "source": []
  },
  {
   "cell_type": "code",
   "execution_count": null,
   "metadata": {},
   "outputs": [],
   "source": []
  }
 ],
 "metadata": {
  "kernelspec": {
   "display_name": "Python 3",
   "language": "python",
   "name": "python3"
  },
  "language_info": {
   "codemirror_mode": {
    "name": "ipython",
    "version": 3
   },
   "file_extension": ".py",
   "mimetype": "text/x-python",
   "name": "python",
   "nbconvert_exporter": "python",
   "pygments_lexer": "ipython3",
   "version": "3.8.11"
  }
 },
 "nbformat": 4,
 "nbformat_minor": 0
}