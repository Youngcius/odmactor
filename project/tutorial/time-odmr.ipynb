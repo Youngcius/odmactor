{
 "cells": [
  {
   "cell_type": "markdown",
   "metadata": {
    "collapsed": true
   },
   "source": [
    "# Time-domain ODMR measurement"
   ]
  },
  {
   "cell_type": "markdown",
   "metadata": {},
   "source": [
    "![frequency-shceduling](./figure/time-scheduling.jpg)\n"
   ]
  },
  {
   "cell_type": "markdown",
   "metadata": {},
   "source": [
    "Import necessary modules and functions firstly"
   ]
  },
  {
   "cell_type": "code",
   "execution_count": 1,
   "metadata": {},
   "outputs": [],
   "source": [
    "import matplotlib.pyplot as plt\n",
    "from odmactor.scheduler import RamseyScheduler, RabiScheduler, RelaxationScheduler\n",
    "from odmactor.utils.plotting import plot_ramsey, plot_rabi, plot_t1\n",
    "import scipy.constants as C\n",
    "import numpy as np\n"
   ]
  },
  {
   "cell_type": "markdown",
   "metadata": {},
   "source": [
    "## Ramsey detection"
   ]
  },
  {
   "cell_type": "markdown",
   "metadata": {},
   "source": [
    "**1. Set measurement parameters**\n",
    "- number of readout operation $N$ per frequency measurement point\n",
    "- delay time range for scanning modes, i.e., `[t_start, t_end, t_step]`, unit: \"ns\"\n",
    "- calibrated MW $\\pi$ pulse parameters, i.e., frequency (unit: Hz), power (unit: dBm) and time (unit: s)\n",
    "- laser initialization time $t_{init}$, signal readout pulse time $t_{sig}$, etc.\n",
    "- optional parameters: MW power $p$, if designed, the time of built-in MW $\\pi$ pulse will be regulated correspondingly\n",
    "- time bin $t$ per readout operation will be calculated dynamically when running the scheduler on scanning-time mode"
   ]
  },
  {
   "cell_type": "code",
   "execution_count": 13,
   "metadata": {},
   "outputs": [],
   "source": [
    "\n",
    "t_start = 40\n",
    "t_end = 2000\n",
    "t_step = 20\n",
    "\n",
    "pi_power = 10\n",
    "pi_freq = 2.852 * C.giga\n",
    "pi_time = 210 * C.nano\n",
    "\n",
    "t_init = 5e3\n",
    "inter_init_mw = 0\n",
    "t_read_sig = 800\n",
    "t_read_ref = t_read_sig\n",
    "\n",
    "N = int(1e6 / 2)"
   ]
  },
  {
   "cell_type": "markdown",
   "metadata": {},
   "source": [
    "**2. Construct a Ramsey Scheduler and run**\n",
    "\n",
    "Especially, the calibrated MW $\\pi$ pulse should be configured\n"
   ]
  },
  {
   "cell_type": "code",
   "execution_count": 18,
   "metadata": {},
   "outputs": [
    {
     "name": "stdout",
     "output_type": "stream",
     "text": [
      "--- USE ASGDLL_x64.dll ---\n",
      "Current Tagger input channels: {'apd': 1, 'asg': 2}\n"
     ]
    }
   ],
   "source": [
    "scheduler = RamseyScheduler(mw_ttl=0)\n",
    "scheduler.pi_pulse['freq'], scheduler.pi_pulse['power'], scheduler.pi_pulse['time'] = pi_freq, pi_power, pi_time\n",
    "scheduler.configure_odmr_seq(t_init, t_read_sig, inter_init_mw=inter_init_mw, N=N)\n",
    "scheduler.set_delay_times(t_start, t_end, t_step)\n",
    "scheduler.configure_tagger_counting(reader='cbm')"
   ]
  },
  {
   "cell_type": "code",
   "execution_count": 19,
   "outputs": [
    {
     "name": "stdout",
     "output_type": "stream",
     "text": [
      "Begin to run Ramsey Scheduler. Time intervals: 40.000 - 2000.000 ns.\n",
      "N: 250000, n_times: 99\n",
      "Estimated total running time: 25.25 s\n",
      "MW on/off status: True\n",
      "True ------------------\n",
      "scanning freq 40.000 ns\n",
      "True ------------------\n",
      "scanning freq 60.000 ns\n",
      "True ------------------\n",
      "scanning freq 80.000 ns\n",
      "True ------------------\n",
      "scanning freq 100.000 ns\n",
      "True ------------------\n",
      "scanning freq 120.000 ns\n",
      "True ------------------\n",
      "scanning freq 140.000 ns\n",
      "True ------------------\n",
      "scanning freq 160.000 ns\n",
      "True ------------------\n",
      "scanning freq 180.000 ns\n",
      "True ------------------\n",
      "scanning freq 200.000 ns\n",
      "True ------------------\n",
      "scanning freq 220.000 ns\n",
      "True ------------------\n",
      "scanning freq 240.000 ns\n",
      "True ------------------\n",
      "scanning freq 260.000 ns\n",
      "True ------------------\n",
      "scanning freq 280.000 ns\n",
      "True ------------------\n",
      "scanning freq 300.000 ns\n",
      "True ------------------\n",
      "scanning freq 320.000 ns\n",
      "True ------------------\n",
      "scanning freq 340.000 ns\n",
      "True ------------------\n",
      "scanning freq 360.000 ns\n",
      "True ------------------\n",
      "scanning freq 380.000 ns\n",
      "True ------------------\n",
      "scanning freq 400.000 ns\n",
      "True ------------------\n",
      "scanning freq 420.000 ns\n",
      "True ------------------\n",
      "scanning freq 440.000 ns\n",
      "True ------------------\n",
      "scanning freq 460.000 ns\n",
      "True ------------------\n",
      "scanning freq 480.000 ns\n",
      "True ------------------\n",
      "scanning freq 500.000 ns\n",
      "True ------------------\n",
      "scanning freq 520.000 ns\n",
      "True ------------------\n",
      "scanning freq 540.000 ns\n",
      "True ------------------\n",
      "scanning freq 560.000 ns\n",
      "True ------------------\n",
      "scanning freq 580.000 ns\n",
      "True ------------------\n",
      "scanning freq 600.000 ns\n",
      "True ------------------\n",
      "scanning freq 620.000 ns\n",
      "True ------------------\n",
      "scanning freq 640.000 ns\n",
      "True ------------------\n",
      "scanning freq 660.000 ns\n",
      "True ------------------\n",
      "scanning freq 680.000 ns\n",
      "True ------------------\n",
      "scanning freq 700.000 ns\n",
      "True ------------------\n",
      "scanning freq 720.000 ns\n",
      "True ------------------\n",
      "scanning freq 740.000 ns\n",
      "True ------------------\n",
      "scanning freq 760.000 ns\n",
      "True ------------------\n",
      "scanning freq 780.000 ns\n",
      "True ------------------\n",
      "scanning freq 800.000 ns\n",
      "True ------------------\n",
      "scanning freq 820.000 ns\n",
      "True ------------------\n",
      "scanning freq 840.000 ns\n",
      "True ------------------\n",
      "scanning freq 860.000 ns\n",
      "True ------------------\n",
      "scanning freq 880.000 ns\n",
      "True ------------------\n",
      "scanning freq 900.000 ns\n",
      "True ------------------\n",
      "scanning freq 920.000 ns\n",
      "True ------------------\n",
      "scanning freq 940.000 ns\n",
      "True ------------------\n",
      "scanning freq 960.000 ns\n",
      "True ------------------\n",
      "scanning freq 980.000 ns\n",
      "True ------------------\n",
      "scanning freq 1000.000 ns\n",
      "True ------------------\n",
      "scanning freq 1020.000 ns\n",
      "True ------------------\n",
      "scanning freq 1040.000 ns\n",
      "True ------------------\n",
      "scanning freq 1060.000 ns\n",
      "True ------------------\n",
      "scanning freq 1080.000 ns\n",
      "True ------------------\n",
      "scanning freq 1100.000 ns\n",
      "True ------------------\n",
      "scanning freq 1120.000 ns\n",
      "True ------------------\n",
      "scanning freq 1140.000 ns\n",
      "True ------------------\n",
      "scanning freq 1160.000 ns\n",
      "True ------------------\n",
      "scanning freq 1180.000 ns\n",
      "True ------------------\n",
      "scanning freq 1200.000 ns\n",
      "True ------------------\n",
      "scanning freq 1220.000 ns\n",
      "True ------------------\n",
      "scanning freq 1240.000 ns\n",
      "True ------------------\n",
      "scanning freq 1260.000 ns\n",
      "True ------------------\n",
      "scanning freq 1280.000 ns\n",
      "True ------------------\n",
      "scanning freq 1300.000 ns\n",
      "True ------------------\n",
      "scanning freq 1320.000 ns\n",
      "True ------------------\n",
      "scanning freq 1340.000 ns\n",
      "True ------------------\n",
      "scanning freq 1360.000 ns\n",
      "True ------------------\n",
      "scanning freq 1380.000 ns\n",
      "True ------------------\n",
      "scanning freq 1400.000 ns\n",
      "True ------------------\n",
      "scanning freq 1420.000 ns\n",
      "True ------------------\n",
      "scanning freq 1440.000 ns\n",
      "True ------------------\n",
      "scanning freq 1460.000 ns\n",
      "True ------------------\n",
      "scanning freq 1480.000 ns\n",
      "True ------------------\n",
      "scanning freq 1500.000 ns\n",
      "True ------------------\n",
      "scanning freq 1520.000 ns\n",
      "True ------------------\n",
      "scanning freq 1540.000 ns\n",
      "True ------------------\n",
      "scanning freq 1560.000 ns\n",
      "True ------------------\n",
      "scanning freq 1580.000 ns\n",
      "True ------------------\n",
      "scanning freq 1600.000 ns\n",
      "True ------------------\n",
      "scanning freq 1620.000 ns\n",
      "True ------------------\n",
      "scanning freq 1640.000 ns\n",
      "True ------------------\n",
      "scanning freq 1660.000 ns\n",
      "True ------------------\n",
      "scanning freq 1680.000 ns\n",
      "True ------------------\n",
      "scanning freq 1700.000 ns\n",
      "True ------------------\n",
      "scanning freq 1720.000 ns\n",
      "True ------------------\n",
      "scanning freq 1740.000 ns\n",
      "True ------------------\n",
      "scanning freq 1760.000 ns\n",
      "True ------------------\n",
      "scanning freq 1780.000 ns\n",
      "True ------------------\n",
      "scanning freq 1800.000 ns\n",
      "True ------------------\n",
      "scanning freq 1820.000 ns\n",
      "True ------------------\n",
      "scanning freq 1840.000 ns\n",
      "True ------------------\n",
      "scanning freq 1860.000 ns\n",
      "True ------------------\n",
      "scanning freq 1880.000 ns\n",
      "True ------------------\n",
      "scanning freq 1900.000 ns\n",
      "True ------------------\n",
      "scanning freq 1920.000 ns\n",
      "True ------------------\n",
      "scanning freq 1940.000 ns\n",
      "True ------------------\n",
      "scanning freq 1960.000 ns\n",
      "True ------------------\n",
      "scanning freq 1980.000 ns\n",
      "True ------------------\n",
      "scanning freq 2000.000 ns\n",
      "finished data acquisition\n",
      "------------------------------------------------------------------\n",
      "Detailed data result has been saved into ../output/Ramsey-counts-2022-02-14-dfd265ce-8dee-11ec-98ad-046c59258eff.json\n",
      "Stopped: Scheduling process has stopped\n",
      "Closed: All instrument resources has been released\n"
     ]
    }
   ],
   "source": [
    "scheduler.run_scanning()\n",
    "scheduler.close()"
   ],
   "metadata": {
    "collapsed": false,
    "pycharm": {
     "name": "#%%\n"
    }
   }
  },
  {
   "cell_type": "code",
   "execution_count": 20,
   "metadata": {},
   "outputs": [
    {
     "data": {
      "text/plain": "<Figure size 1008x432 with 1 Axes>",
      "image/png": "[encoded data removed]"
     },
     "metadata": {},
     "output_type": "display_data"
    }
   ],
   "source": [
    "# observe detection sequence\n",
    "fig = scheduler.sequences_figure"
   ]
  },
  {
   "cell_type": "markdown",
   "metadata": {},
   "source": [
    "**3. Calculate contrast and plot figures**"
   ]
  },
  {
   "cell_type": "code",
   "execution_count": 23,
   "metadata": {},
   "outputs": [],
   "source": [
    "## count & contrast\n",
    "counts_sig_ref = scheduler.result  # [times, counts, counts_ref]\n",
    "# contrast = [sig/ref for sig, ref in zip(counts_sig_ref[1], counts_sig_ref[2])]\n"
   ]
  },
  {
   "cell_type": "code",
   "execution_count": 24,
   "metadata": {},
   "outputs": [
    {
     "data": {
      "text/plain": "Text(0, 0.5, 'Count')"
     },
     "execution_count": 24,
     "metadata": {},
     "output_type": "execute_result"
    },
    {
     "data": {
      "text/plain": "<Figure size 576x396 with 1 Axes>",
      "image/png": "[encoded data removed]"
     },
     "metadata": {},
     "output_type": "display_data"
    }
   ],
   "source": [
    "# plot_ramsey(counts_sig_ref[0], contrast)\n",
    "\n",
    "plt.style.use('seaborn')\n",
    "plt.plot(counts_sig_ref[0], counts_sig_ref[1],'o-')\n",
    "plt.title('Ramsey')\n",
    "plt.xlabel('Duration time (ns)')\n",
    "plt.ylabel('Count')\n"
   ]
  },
  {
   "cell_type": "markdown",
   "metadata": {},
   "source": [
    "## Rabi oscillation"
   ]
  },
  {
   "cell_type": "markdown",
   "metadata": {
    "collapsed": false,
    "pycharm": {
     "name": "#%% md\n"
    }
   },
   "source": [
    "**1. Set measurement parameters**\n",
    "- number of readout operation $N$ per frequency measurement point\n",
    "- delay time range for scanning modes, i.e., `[t_start, t_end, t_step]`, unit: \"ns\"\n",
    "- laser initilization time $t_{init}$, singal readout pulse time $t_{sig}$, etc.\n",
    "- MW power $p$, MW frequency $f$\n",
    "- time bin $t$ per readout operation will be calculated dynamically when running the scheduler on scanning-time mode"
   ]
  },
  {
   "cell_type": "code",
   "execution_count": 12,
   "metadata": {},
   "outputs": [],
   "source": [
    "\n",
    "t_start = 20\n",
    "t_end = 2000\n",
    "t_step = 20\n",
    "\n",
    "t_init = 3e3\n",
    "inter_init_mw = 3000\n",
    "inter_mw_read = 100\n",
    "\n",
    "t_read_sig  = 800\n",
    "\n",
    "\n",
    "N = int(1e6/1.5)\n",
    "\n",
    "p = 10\n",
    "f = 2.852 * C.giga"
   ]
  },
  {
   "cell_type": "markdown",
   "metadata": {
    "pycharm": {
     "name": "#%% md\n"
    }
   },
   "source": [
    "**2. Construct a Rabi measurement Scheduler and run**"
   ]
  },
  {
   "cell_type": "code",
   "execution_count": 13,
   "metadata": {
    "collapsed": false,
    "pycharm": {
     "name": "#%%\n"
    }
   },
   "outputs": [
    {
     "name": "stdout",
     "output_type": "stream",
     "text": [
      "--- USE ASGDLL_x64.dll ---\n",
      "Current Tagger input channels: {'apd': 1, 'asg': 2}\n"
     ]
    }
   ],
   "source": [
    "scheduler = RabiScheduler(mw_ttl=0)\n",
    "scheduler.configure_mw_paras(power=p, freq=f)\n",
    "scheduler.configure_odmr_seq(t_init,  t_read_sig, inter_init_mw=inter_init_mw,inter_mw_read =inter_mw_read , N=N)\n",
    "scheduler.set_delay_times(t_start, t_end, t_step)\n",
    "scheduler.configure_tagger_counting(reader='cbm')\n",
    "\n",
    "\n",
    "\n",
    "# scheduler.asg_dwell\n"
   ]
  },
  {
   "cell_type": "code",
   "execution_count": 14,
   "outputs": [
    {
     "name": "stdout",
     "output_type": "stream",
     "text": [
      "Begin to run Rabi Scheduler. Time intervals: 20.000 - 2000.000 ns.\n",
      "N: 666666, n_times: 100\n",
      "Estimated total running time: 67.33 s\n",
      "MW on/off status: True\n",
      "scanning freq 20.000 ns\n",
      "scanning freq 40.000 ns\n",
      "scanning freq 60.000 ns\n",
      "scanning freq 80.000 ns\n",
      "scanning freq 100.000 ns\n",
      "scanning freq 120.000 ns\n",
      "scanning freq 140.000 ns\n",
      "scanning freq 160.000 ns\n",
      "scanning freq 180.000 ns\n",
      "scanning freq 200.000 ns\n",
      "scanning freq 220.000 ns\n",
      "scanning freq 240.000 ns\n",
      "scanning freq 260.000 ns\n",
      "scanning freq 280.000 ns\n",
      "scanning freq 300.000 ns\n",
      "scanning freq 320.000 ns\n",
      "scanning freq 340.000 ns\n",
      "scanning freq 360.000 ns\n",
      "scanning freq 380.000 ns\n",
      "scanning freq 400.000 ns\n",
      "scanning freq 420.000 ns\n",
      "scanning freq 440.000 ns\n",
      "scanning freq 460.000 ns\n",
      "scanning freq 480.000 ns\n",
      "scanning freq 500.000 ns\n",
      "scanning freq 520.000 ns\n",
      "scanning freq 540.000 ns\n",
      "scanning freq 560.000 ns\n",
      "scanning freq 580.000 ns\n",
      "scanning freq 600.000 ns\n",
      "scanning freq 620.000 ns\n",
      "scanning freq 640.000 ns\n",
      "scanning freq 660.000 ns\n",
      "scanning freq 680.000 ns\n",
      "scanning freq 700.000 ns\n",
      "scanning freq 720.000 ns\n",
      "scanning freq 740.000 ns\n",
      "scanning freq 760.000 ns\n",
      "scanning freq 780.000 ns\n",
      "scanning freq 800.000 ns\n",
      "scanning freq 820.000 ns\n",
      "scanning freq 840.000 ns\n",
      "scanning freq 860.000 ns\n",
      "scanning freq 880.000 ns\n",
      "scanning freq 900.000 ns\n",
      "scanning freq 920.000 ns\n",
      "scanning freq 940.000 ns\n",
      "scanning freq 960.000 ns\n",
      "scanning freq 980.000 ns\n",
      "scanning freq 1000.000 ns\n",
      "scanning freq 1020.000 ns\n",
      "scanning freq 1040.000 ns\n",
      "scanning freq 1060.000 ns\n",
      "scanning freq 1080.000 ns\n",
      "scanning freq 1100.000 ns\n",
      "scanning freq 1120.000 ns\n",
      "scanning freq 1140.000 ns\n",
      "scanning freq 1160.000 ns\n",
      "scanning freq 1180.000 ns\n",
      "scanning freq 1200.000 ns\n",
      "scanning freq 1220.000 ns\n",
      "scanning freq 1240.000 ns\n",
      "scanning freq 1260.000 ns\n",
      "scanning freq 1280.000 ns\n",
      "scanning freq 1300.000 ns\n",
      "scanning freq 1320.000 ns\n",
      "scanning freq 1340.000 ns\n",
      "scanning freq 1360.000 ns\n",
      "scanning freq 1380.000 ns\n",
      "scanning freq 1400.000 ns\n",
      "scanning freq 1420.000 ns\n",
      "scanning freq 1440.000 ns\n",
      "scanning freq 1460.000 ns\n",
      "scanning freq 1480.000 ns\n",
      "scanning freq 1500.000 ns\n",
      "scanning freq 1520.000 ns\n",
      "scanning freq 1540.000 ns\n",
      "scanning freq 1560.000 ns\n",
      "scanning freq 1580.000 ns\n",
      "scanning freq 1600.000 ns\n",
      "scanning freq 1620.000 ns\n",
      "scanning freq 1640.000 ns\n",
      "scanning freq 1660.000 ns\n",
      "scanning freq 1680.000 ns\n",
      "scanning freq 1700.000 ns\n",
      "scanning freq 1720.000 ns\n",
      "scanning freq 1740.000 ns\n",
      "scanning freq 1760.000 ns\n",
      "scanning freq 1780.000 ns\n",
      "scanning freq 1800.000 ns\n",
      "scanning freq 1820.000 ns\n",
      "scanning freq 1840.000 ns\n",
      "scanning freq 1860.000 ns\n",
      "scanning freq 1880.000 ns\n",
      "scanning freq 1900.000 ns\n",
      "scanning freq 1920.000 ns\n",
      "scanning freq 1940.000 ns\n",
      "scanning freq 1960.000 ns\n",
      "scanning freq 1980.000 ns\n",
      "scanning freq 2000.000 ns\n",
      "finished data acquisition\n",
      "Detailed data result has been saved into ../output/Rabi-counts-2022-02-14-c45994c6-8de8-11ec-8032-046c59258eff.json\n",
      "Stopped: Scheduling process has stopped\n",
      "Closed: All instrument resources has been released\n"
     ]
    }
   ],
   "source": [
    "scheduler.run_scanning()\n",
    "\n",
    "scheduler.close()\n",
    "\n"
   ],
   "metadata": {
    "collapsed": false,
    "pycharm": {
     "name": "#%%\n"
    }
   }
  },
  {
   "cell_type": "code",
   "execution_count": 5,
   "outputs": [
    {
     "data": {
      "text/plain": "<Figure size 1008x432 with 1 Axes>",
      "image/png": "[encoded data removed]"
     },
     "metadata": {
      "needs_background": "light"
     },
     "output_type": "display_data"
    }
   ],
   "source": [
    "#fig = scheduler.sequences_figure\n"
   ],
   "metadata": {
    "collapsed": false,
    "pycharm": {
     "name": "#%%\n"
    }
   }
  },
  {
   "cell_type": "markdown",
   "metadata": {
    "pycharm": {
     "name": "#%% md\n"
    }
   },
   "source": [
    "**3. Calculate contrast and plot figures**"
   ]
  },
  {
   "cell_type": "code",
   "execution_count": 15,
   "metadata": {
    "collapsed": false,
    "pycharm": {
     "name": "#%%\n"
    }
   },
   "outputs": [],
   "source": [
    "## count & contrast\n",
    "counts_sig_ref = scheduler.result  # [times, counts, counts_ref]\n",
    "# contrast = [sig/ref for sig, ref in zip(counts_sig_ref[1], counts_sig_ref[2])]"
   ]
  },
  {
   "cell_type": "code",
   "execution_count": 22,
   "metadata": {
    "collapsed": false,
    "pycharm": {
     "name": "#%%\n"
    }
   },
   "outputs": [
    {
     "data": {
      "text/plain": "Text(0, 0.5, 'counts')"
     },
     "execution_count": 22,
     "metadata": {},
     "output_type": "execute_result"
    },
    {
     "data": {
      "text/plain": "<Figure size 576x396 with 1 Axes>",
      "image/png": "[encoded data removed]"
     },
     "metadata": {},
     "output_type": "display_data"
    }
   ],
   "source": [
    "# plot_rabi(counts_sig_ref[0], counts_sig_ref[1])\n",
    "plt.style.use('seaborn')\n",
    "plt.vlines(210, 13.6,14)\n",
    "plt.plot(counts_sig_ref[0][1:], counts_sig_ref[1][1:], 'o--')\n",
    "plt.title('Rabi Oscillation')\n",
    "plt.xlabel('MW time (ns)')\n",
    "plt.ylabel('counts')\n",
    "\n"
   ]
  },
  {
   "cell_type": "markdown",
   "metadata": {},
   "source": [
    "## T1 relaxometry"
   ]
  },
  {
   "cell_type": "markdown",
   "metadata": {},
   "source": [
    "**1. Set measurement parameters**\n",
    "- number of readout operation $N$ per frequency measurement point\n",
    "- delay time range for scanning modes, i.e., `[t_start, t_end, t_step]`, unit: \"ns\"\n",
    "- laser initialization time $t_{init}$, signal readout pulse time $t_{sig}$, etc.\n",
    "- calibrated MW $\\pi$ pulse parameters, i.e., frequency (unit: Hz), power (unit: dBm) and time (unit: s)\n",
    "- optional parameters: MW power $p$, if designed, the time of built-in MW $\\pi$ pulse will be regulated correspondingly\n",
    "- time bin $t$ per readout operation will be calculated dynamically when running the scheduler on scanning-time mode"
   ]
  },
  {
   "cell_type": "code",
   "execution_count": 17,
   "outputs": [
    {
     "data": {
      "text/plain": "660.0"
     },
     "execution_count": 17,
     "metadata": {},
     "output_type": "execute_result"
    }
   ],
   "source": [],
   "metadata": {
    "collapsed": false,
    "pycharm": {
     "name": "#%%\n"
    }
   }
  },
  {
   "cell_type": "code",
   "execution_count": 2,
   "metadata": {},
   "outputs": [],
   "source": [
    "\n",
    "t_start = int(1e4)\n",
    "t_end = int(1e6) \n",
    "t_step = int(1e4)\n",
    "\n",
    "pi_power = 10\n",
    "pi_freq = 2.852 * C.giga\n",
    "pi_time = 210 * C.nano\n",
    "\n",
    "t_init = 3e3\n",
    "inter_init_mw = 1e3\n",
    "t_read_sig = 800\n",
    "t_read_ref = t_read_sig\n",
    "\n",
    "N = int(1e6 / 4)\n",
    "\n",
    "\n",
    "times = np.round(10**np.linspace(1,5,50))*10\n",
    "\n"
   ]
  },
  {
   "cell_type": "markdown",
   "metadata": {},
   "source": [
    "**Construct a T1 measurement scheduler and run**"
   ]
  },
  {
   "cell_type": "code",
   "execution_count": 3,
   "metadata": {},
   "outputs": [
    {
     "name": "stdout",
     "output_type": "stream",
     "text": [
      "--- USE ASGDLL_x64.dll ---\n",
      "Current Tagger input channels: {'apd': 1, 'asg': 2}\n"
     ]
    },
    {
     "data": {
      "text/plain": "0"
     },
     "execution_count": 3,
     "metadata": {},
     "output_type": "execute_result"
    }
   ],
   "source": [
    "scheduler = RelaxationScheduler(mw_ttl=0,  ms=0)\n",
    "scheduler.pi_pulse['freq'], scheduler.pi_pulse['power'], scheduler.pi_pulse['time'] = pi_freq, pi_power, pi_time\n",
    "scheduler.configure_odmr_seq(t_init, t_read_sig, inter_init_mw=inter_init_mw, N=N)\n",
    "scheduler.set_delay_times(t_start, t_end, t_step)\n",
    "scheduler.set_delay_times(times=times)\n",
    "scheduler.configure_tagger_counting(reader='cbm')\n",
    "\n",
    "\n",
    "scheduler.ms"
   ]
  },
  {
   "cell_type": "code",
   "execution_count": 4,
   "outputs": [
    {
     "name": "stdout",
     "output_type": "stream",
     "text": [
      "Begin to run T1 Relaxation Scheduler. Time intervals: 100.000 - 1000000.000 ns.\n",
      "N: 250000, n_times: 50\n",
      "Estimated total running time: 1458.83 s\n",
      "MW on/off status: True\n",
      "ms == 0\n",
      "no two-pulse read\n",
      "scanning freq 100.000 ns\n",
      "ms == 0\n",
      "no two-pulse read\n",
      "scanning freq 120.000 ns\n",
      "ms == 0\n",
      "no two-pulse read\n",
      "scanning freq 150.000 ns\n",
      "ms == 0\n",
      "no two-pulse read\n",
      "scanning freq 180.000 ns\n",
      "ms == 0\n",
      "no two-pulse read\n",
      "scanning freq 210.000 ns\n",
      "ms == 0\n",
      "no two-pulse read\n",
      "scanning freq 260.000 ns\n",
      "ms == 0\n",
      "no two-pulse read\n",
      "scanning freq 310.000 ns\n",
      "ms == 0\n",
      "no two-pulse read\n",
      "scanning freq 370.000 ns\n",
      "ms == 0\n",
      "no two-pulse read\n",
      "scanning freq 450.000 ns\n",
      "ms == 0\n",
      "no two-pulse read\n",
      "scanning freq 540.000 ns\n",
      "ms == 0\n",
      "no two-pulse read\n",
      "scanning freq 660.000 ns\n",
      "ms == 0\n",
      "no two-pulse read\n",
      "scanning freq 790.000 ns\n",
      "ms == 0\n",
      "no two-pulse read\n",
      "scanning freq 950.000 ns\n",
      "ms == 0\n",
      "no two-pulse read\n",
      "scanning freq 1150.000 ns\n",
      "ms == 0\n",
      "no two-pulse read\n",
      "scanning freq 1390.000 ns\n",
      "ms == 0\n",
      "no two-pulse read\n",
      "scanning freq 1680.000 ns\n",
      "ms == 0\n",
      "no two-pulse read\n",
      "scanning freq 2020.000 ns\n",
      "ms == 0\n",
      "no two-pulse read\n",
      "scanning freq 2440.000 ns\n",
      "ms == 0\n",
      "no two-pulse read\n",
      "scanning freq 2950.000 ns\n",
      "ms == 0\n",
      "no two-pulse read\n",
      "scanning freq 3560.000 ns\n",
      "ms == 0\n",
      "no two-pulse read\n",
      "scanning freq 4290.000 ns\n",
      "ms == 0\n",
      "no two-pulse read\n",
      "scanning freq 5180.000 ns\n",
      "ms == 0\n",
      "no two-pulse read\n",
      "scanning freq 6250.000 ns\n",
      "ms == 0\n",
      "no two-pulse read\n",
      "scanning freq 7540.000 ns\n",
      "ms == 0\n",
      "no two-pulse read\n",
      "scanning freq 9100.000 ns\n",
      "ms == 0\n",
      "no two-pulse read\n",
      "scanning freq 10990.000 ns\n",
      "ms == 0\n",
      "no two-pulse read\n",
      "scanning freq 13260.000 ns\n",
      "ms == 0\n",
      "no two-pulse read\n",
      "scanning freq 16000.000 ns\n",
      "ms == 0\n",
      "no two-pulse read\n",
      "scanning freq 19310.000 ns\n",
      "ms == 0\n",
      "no two-pulse read\n",
      "scanning freq 23300.000 ns\n",
      "ms == 0\n",
      "no two-pulse read\n",
      "scanning freq 28120.000 ns\n",
      "ms == 0\n",
      "no two-pulse read\n",
      "scanning freq 33930.000 ns\n",
      "ms == 0\n",
      "no two-pulse read\n",
      "scanning freq 40950.000 ns\n",
      "ms == 0\n",
      "no two-pulse read\n",
      "scanning freq 49420.000 ns\n",
      "ms == 0\n",
      "no two-pulse read\n",
      "scanning freq 59640.000 ns\n",
      "ms == 0\n",
      "no two-pulse read\n",
      "scanning freq 71970.000 ns\n",
      "ms == 0\n",
      "no two-pulse read\n",
      "scanning freq 86850.000 ns\n",
      "ms == 0\n",
      "no two-pulse read\n",
      "scanning freq 104810.000 ns\n",
      "ms == 0\n",
      "no two-pulse read\n",
      "scanning freq 126490.000 ns\n",
      "ms == 0\n",
      "no two-pulse read\n",
      "scanning freq 152640.000 ns\n",
      "ms == 0\n",
      "no two-pulse read\n",
      "scanning freq 184210.000 ns\n",
      "ms == 0\n",
      "no two-pulse read\n",
      "scanning freq 222300.000 ns\n",
      "ms == 0\n",
      "no two-pulse read\n",
      "scanning freq 268270.000 ns\n",
      "ms == 0\n",
      "no two-pulse read\n",
      "scanning freq 323750.000 ns\n",
      "ms == 0\n",
      "no two-pulse read\n",
      "scanning freq 390690.000 ns\n",
      "ms == 0\n",
      "no two-pulse read\n",
      "scanning freq 471490.000 ns\n",
      "ms == 0\n",
      "no two-pulse read\n",
      "scanning freq 568990.000 ns\n",
      "ms == 0\n",
      "no two-pulse read\n",
      "scanning freq 686650.000 ns\n",
      "ms == 0\n",
      "no two-pulse read\n",
      "scanning freq 828640.000 ns\n",
      "ms == 0\n",
      "no two-pulse read\n",
      "scanning freq 1000000.000 ns\n",
      "finished data acquisition\n",
      "two pulses: False\n",
      "------------------------------------------------------------------\n"
     ]
    },
    {
     "ename": "TypeError",
     "evalue": "Object of type ndarray is not JSON serializable",
     "output_type": "error",
     "traceback": [
      "\u001B[1;31m---------------------------------------------------------------------------\u001B[0m",
      "\u001B[1;31mTypeError\u001B[0m                                 Traceback (most recent call last)",
      "\u001B[1;32m~\\AppData\\Local\\Temp/ipykernel_2348/3944735443.py\u001B[0m in \u001B[0;36m<module>\u001B[1;34m\u001B[0m\n\u001B[1;32m----> 1\u001B[1;33m \u001B[0mscheduler\u001B[0m\u001B[1;33m.\u001B[0m\u001B[0mrun_scanning\u001B[0m\u001B[1;33m(\u001B[0m\u001B[1;33m)\u001B[0m\u001B[1;33m\u001B[0m\u001B[1;33m\u001B[0m\u001B[0m\n\u001B[0m\u001B[0;32m      2\u001B[0m \u001B[0mscheduler\u001B[0m\u001B[1;33m.\u001B[0m\u001B[0mclose\u001B[0m\u001B[1;33m(\u001B[0m\u001B[1;33m)\u001B[0m\u001B[1;33m\u001B[0m\u001B[1;33m\u001B[0m\u001B[0m\n\u001B[0;32m      3\u001B[0m \u001B[1;33m\u001B[0m\u001B[0m\n\u001B[0;32m      4\u001B[0m \u001B[1;33m\u001B[0m\u001B[0m\n",
      "\u001B[1;32mD:\\Git-Project\\odmactor\\odmactor\\scheduler\\base.py\u001B[0m in \u001B[0;36mrun_scanning\u001B[1;34m(self)\u001B[0m\n\u001B[0;32m    660\u001B[0m \u001B[1;33m\u001B[0m\u001B[0m\n\u001B[0;32m    661\u001B[0m         \u001B[0mself\u001B[0m\u001B[1;33m.\u001B[0m\u001B[0m_start_device\u001B[0m\u001B[1;33m(\u001B[0m\u001B[1;33m)\u001B[0m\u001B[1;33m\u001B[0m\u001B[1;33m\u001B[0m\u001B[0m\n\u001B[1;32m--> 662\u001B[1;33m         \u001B[0mself\u001B[0m\u001B[1;33m.\u001B[0m\u001B[0m_acquire_data\u001B[0m\u001B[1;33m(\u001B[0m\u001B[1;33m)\u001B[0m  \u001B[1;31m# scanning time intervals in this loop\u001B[0m\u001B[1;33m\u001B[0m\u001B[1;33m\u001B[0m\u001B[0m\n\u001B[0m\u001B[0;32m    663\u001B[0m         \u001B[0mself\u001B[0m\u001B[1;33m.\u001B[0m\u001B[0mstop\u001B[0m\u001B[1;33m(\u001B[0m\u001B[1;33m)\u001B[0m\u001B[1;33m\u001B[0m\u001B[1;33m\u001B[0m\u001B[0m\n\u001B[0;32m    664\u001B[0m \u001B[1;33m\u001B[0m\u001B[0m\n",
      "\u001B[1;32mD:\\Git-Project\\odmactor\\odmactor\\scheduler\\base.py\u001B[0m in \u001B[0;36m_acquire_data\u001B[1;34m(self, *args, **kwargs)\u001B[0m\n\u001B[0;32m    647\u001B[0m \u001B[1;33m\u001B[0m\u001B[0m\n\u001B[0;32m    648\u001B[0m         \u001B[1;31m# 3. save result\u001B[0m\u001B[1;33m\u001B[0m\u001B[1;33m\u001B[0m\u001B[1;33m\u001B[0m\u001B[0m\n\u001B[1;32m--> 649\u001B[1;33m         \u001B[0mself\u001B[0m\u001B[1;33m.\u001B[0m\u001B[0msave_result\u001B[0m\u001B[1;33m(\u001B[0m\u001B[0mself\u001B[0m\u001B[1;33m.\u001B[0m\u001B[0m_gene_data_result_fname\u001B[0m\u001B[1;33m(\u001B[0m\u001B[1;33m)\u001B[0m\u001B[1;33m)\u001B[0m\u001B[1;33m\u001B[0m\u001B[1;33m\u001B[0m\u001B[0m\n\u001B[0m\u001B[0;32m    650\u001B[0m \u001B[1;33m\u001B[0m\u001B[0m\n\u001B[0;32m    651\u001B[0m     \u001B[1;32mdef\u001B[0m \u001B[0mrun_scanning\u001B[0m\u001B[1;33m(\u001B[0m\u001B[0mself\u001B[0m\u001B[1;33m)\u001B[0m\u001B[1;33m:\u001B[0m\u001B[1;33m\u001B[0m\u001B[1;33m\u001B[0m\u001B[0m\n",
      "\u001B[1;32mD:\\Git-Project\\odmactor\\odmactor\\scheduler\\base.py\u001B[0m in \u001B[0;36msave_result\u001B[1;34m(self, fname)\u001B[0m\n\u001B[0;32m    368\u001B[0m                                  '{}-result-{}-{}'.format(self.name, str(datetime.date.today()), uuid.uuid1()))\n\u001B[0;32m    369\u001B[0m         \u001B[1;32mwith\u001B[0m \u001B[0mopen\u001B[0m\u001B[1;33m(\u001B[0m\u001B[0mfname\u001B[0m \u001B[1;33m+\u001B[0m \u001B[1;34m'.json'\u001B[0m\u001B[1;33m,\u001B[0m \u001B[1;34m'w'\u001B[0m\u001B[1;33m)\u001B[0m \u001B[1;32mas\u001B[0m \u001B[0mf\u001B[0m\u001B[1;33m:\u001B[0m\u001B[1;33m\u001B[0m\u001B[1;33m\u001B[0m\u001B[0m\n\u001B[1;32m--> 370\u001B[1;33m             \u001B[0mjson\u001B[0m\u001B[1;33m.\u001B[0m\u001B[0mdump\u001B[0m\u001B[1;33m(\u001B[0m\u001B[0mself\u001B[0m\u001B[1;33m.\u001B[0m\u001B[0m_result_detail\u001B[0m\u001B[1;33m,\u001B[0m \u001B[0mf\u001B[0m\u001B[1;33m)\u001B[0m\u001B[1;33m\u001B[0m\u001B[1;33m\u001B[0m\u001B[0m\n\u001B[0m\u001B[0;32m    371\u001B[0m         \u001B[0mprint\u001B[0m\u001B[1;33m(\u001B[0m\u001B[1;34m'Detailed data result has been saved into {}'\u001B[0m\u001B[1;33m.\u001B[0m\u001B[0mformat\u001B[0m\u001B[1;33m(\u001B[0m\u001B[0mfname\u001B[0m \u001B[1;33m+\u001B[0m \u001B[1;34m'.json'\u001B[0m\u001B[1;33m)\u001B[0m\u001B[1;33m)\u001B[0m\u001B[1;33m\u001B[0m\u001B[1;33m\u001B[0m\u001B[0m\n\u001B[0;32m    372\u001B[0m \u001B[1;33m\u001B[0m\u001B[0m\n",
      "\u001B[1;32m~\\miniconda3\\lib\\json\\__init__.py\u001B[0m in \u001B[0;36mdump\u001B[1;34m(obj, fp, skipkeys, ensure_ascii, check_circular, allow_nan, cls, indent, separators, default, sort_keys, **kw)\u001B[0m\n\u001B[0;32m    177\u001B[0m     \u001B[1;31m# could accelerate with writelines in some versions of Python, at\u001B[0m\u001B[1;33m\u001B[0m\u001B[1;33m\u001B[0m\u001B[1;33m\u001B[0m\u001B[0m\n\u001B[0;32m    178\u001B[0m     \u001B[1;31m# a debuggability cost\u001B[0m\u001B[1;33m\u001B[0m\u001B[1;33m\u001B[0m\u001B[1;33m\u001B[0m\u001B[0m\n\u001B[1;32m--> 179\u001B[1;33m     \u001B[1;32mfor\u001B[0m \u001B[0mchunk\u001B[0m \u001B[1;32min\u001B[0m \u001B[0miterable\u001B[0m\u001B[1;33m:\u001B[0m\u001B[1;33m\u001B[0m\u001B[1;33m\u001B[0m\u001B[0m\n\u001B[0m\u001B[0;32m    180\u001B[0m         \u001B[0mfp\u001B[0m\u001B[1;33m.\u001B[0m\u001B[0mwrite\u001B[0m\u001B[1;33m(\u001B[0m\u001B[0mchunk\u001B[0m\u001B[1;33m)\u001B[0m\u001B[1;33m\u001B[0m\u001B[1;33m\u001B[0m\u001B[0m\n\u001B[0;32m    181\u001B[0m \u001B[1;33m\u001B[0m\u001B[0m\n",
      "\u001B[1;32m~\\miniconda3\\lib\\json\\encoder.py\u001B[0m in \u001B[0;36m_iterencode\u001B[1;34m(o, _current_indent_level)\u001B[0m\n\u001B[0;32m    429\u001B[0m             \u001B[1;32myield\u001B[0m \u001B[1;32mfrom\u001B[0m \u001B[0m_iterencode_list\u001B[0m\u001B[1;33m(\u001B[0m\u001B[0mo\u001B[0m\u001B[1;33m,\u001B[0m \u001B[0m_current_indent_level\u001B[0m\u001B[1;33m)\u001B[0m\u001B[1;33m\u001B[0m\u001B[1;33m\u001B[0m\u001B[0m\n\u001B[0;32m    430\u001B[0m         \u001B[1;32melif\u001B[0m \u001B[0misinstance\u001B[0m\u001B[1;33m(\u001B[0m\u001B[0mo\u001B[0m\u001B[1;33m,\u001B[0m \u001B[0mdict\u001B[0m\u001B[1;33m)\u001B[0m\u001B[1;33m:\u001B[0m\u001B[1;33m\u001B[0m\u001B[1;33m\u001B[0m\u001B[0m\n\u001B[1;32m--> 431\u001B[1;33m             \u001B[1;32myield\u001B[0m \u001B[1;32mfrom\u001B[0m \u001B[0m_iterencode_dict\u001B[0m\u001B[1;33m(\u001B[0m\u001B[0mo\u001B[0m\u001B[1;33m,\u001B[0m \u001B[0m_current_indent_level\u001B[0m\u001B[1;33m)\u001B[0m\u001B[1;33m\u001B[0m\u001B[1;33m\u001B[0m\u001B[0m\n\u001B[0m\u001B[0;32m    432\u001B[0m         \u001B[1;32melse\u001B[0m\u001B[1;33m:\u001B[0m\u001B[1;33m\u001B[0m\u001B[1;33m\u001B[0m\u001B[0m\n\u001B[0;32m    433\u001B[0m             \u001B[1;32mif\u001B[0m \u001B[0mmarkers\u001B[0m \u001B[1;32mis\u001B[0m \u001B[1;32mnot\u001B[0m \u001B[1;32mNone\u001B[0m\u001B[1;33m:\u001B[0m\u001B[1;33m\u001B[0m\u001B[1;33m\u001B[0m\u001B[0m\n",
      "\u001B[1;32m~\\miniconda3\\lib\\json\\encoder.py\u001B[0m in \u001B[0;36m_iterencode_dict\u001B[1;34m(dct, _current_indent_level)\u001B[0m\n\u001B[0;32m    403\u001B[0m                 \u001B[1;32melse\u001B[0m\u001B[1;33m:\u001B[0m\u001B[1;33m\u001B[0m\u001B[1;33m\u001B[0m\u001B[0m\n\u001B[0;32m    404\u001B[0m                     \u001B[0mchunks\u001B[0m \u001B[1;33m=\u001B[0m \u001B[0m_iterencode\u001B[0m\u001B[1;33m(\u001B[0m\u001B[0mvalue\u001B[0m\u001B[1;33m,\u001B[0m \u001B[0m_current_indent_level\u001B[0m\u001B[1;33m)\u001B[0m\u001B[1;33m\u001B[0m\u001B[1;33m\u001B[0m\u001B[0m\n\u001B[1;32m--> 405\u001B[1;33m                 \u001B[1;32myield\u001B[0m \u001B[1;32mfrom\u001B[0m \u001B[0mchunks\u001B[0m\u001B[1;33m\u001B[0m\u001B[1;33m\u001B[0m\u001B[0m\n\u001B[0m\u001B[0;32m    406\u001B[0m         \u001B[1;32mif\u001B[0m \u001B[0mnewline_indent\u001B[0m \u001B[1;32mis\u001B[0m \u001B[1;32mnot\u001B[0m \u001B[1;32mNone\u001B[0m\u001B[1;33m:\u001B[0m\u001B[1;33m\u001B[0m\u001B[1;33m\u001B[0m\u001B[0m\n\u001B[0;32m    407\u001B[0m             \u001B[0m_current_indent_level\u001B[0m \u001B[1;33m-=\u001B[0m \u001B[1;36m1\u001B[0m\u001B[1;33m\u001B[0m\u001B[1;33m\u001B[0m\u001B[0m\n",
      "\u001B[1;32m~\\miniconda3\\lib\\json\\encoder.py\u001B[0m in \u001B[0;36m_iterencode\u001B[1;34m(o, _current_indent_level)\u001B[0m\n\u001B[0;32m    436\u001B[0m                     \u001B[1;32mraise\u001B[0m \u001B[0mValueError\u001B[0m\u001B[1;33m(\u001B[0m\u001B[1;34m\"Circular reference detected\"\u001B[0m\u001B[1;33m)\u001B[0m\u001B[1;33m\u001B[0m\u001B[1;33m\u001B[0m\u001B[0m\n\u001B[0;32m    437\u001B[0m                 \u001B[0mmarkers\u001B[0m\u001B[1;33m[\u001B[0m\u001B[0mmarkerid\u001B[0m\u001B[1;33m]\u001B[0m \u001B[1;33m=\u001B[0m \u001B[0mo\u001B[0m\u001B[1;33m\u001B[0m\u001B[1;33m\u001B[0m\u001B[0m\n\u001B[1;32m--> 438\u001B[1;33m             \u001B[0mo\u001B[0m \u001B[1;33m=\u001B[0m \u001B[0m_default\u001B[0m\u001B[1;33m(\u001B[0m\u001B[0mo\u001B[0m\u001B[1;33m)\u001B[0m\u001B[1;33m\u001B[0m\u001B[1;33m\u001B[0m\u001B[0m\n\u001B[0m\u001B[0;32m    439\u001B[0m             \u001B[1;32myield\u001B[0m \u001B[1;32mfrom\u001B[0m \u001B[0m_iterencode\u001B[0m\u001B[1;33m(\u001B[0m\u001B[0mo\u001B[0m\u001B[1;33m,\u001B[0m \u001B[0m_current_indent_level\u001B[0m\u001B[1;33m)\u001B[0m\u001B[1;33m\u001B[0m\u001B[1;33m\u001B[0m\u001B[0m\n\u001B[0;32m    440\u001B[0m             \u001B[1;32mif\u001B[0m \u001B[0mmarkers\u001B[0m \u001B[1;32mis\u001B[0m \u001B[1;32mnot\u001B[0m \u001B[1;32mNone\u001B[0m\u001B[1;33m:\u001B[0m\u001B[1;33m\u001B[0m\u001B[1;33m\u001B[0m\u001B[0m\n",
      "\u001B[1;32m~\\miniconda3\\lib\\json\\encoder.py\u001B[0m in \u001B[0;36mdefault\u001B[1;34m(self, o)\u001B[0m\n\u001B[0;32m    177\u001B[0m \u001B[1;33m\u001B[0m\u001B[0m\n\u001B[0;32m    178\u001B[0m         \"\"\"\n\u001B[1;32m--> 179\u001B[1;33m         raise TypeError(f'Object of type {o.__class__.__name__} '\n\u001B[0m\u001B[0;32m    180\u001B[0m                         f'is not JSON serializable')\n\u001B[0;32m    181\u001B[0m \u001B[1;33m\u001B[0m\u001B[0m\n",
      "\u001B[1;31mTypeError\u001B[0m: Object of type ndarray is not JSON serializable"
     ]
    }
   ],
   "source": [
    "scheduler.run_scanning()\n",
    "scheduler.close()\n"
   ],
   "metadata": {
    "collapsed": false,
    "pycharm": {
     "name": "#%%\n"
    }
   }
  },
  {
   "cell_type": "code",
   "execution_count": null,
   "metadata": {},
   "outputs": [],
   "source": [
    "# observe sequence figure\n",
    "fig = scheduler.sequences_figure"
   ]
  },
  {
   "cell_type": "markdown",
   "metadata": {},
   "source": [
    "**3. Calculate contrast and plot figures**"
   ]
  },
  {
   "cell_type": "code",
   "execution_count": 5,
   "metadata": {},
   "outputs": [
    {
     "ename": "IndexError",
     "evalue": "list index out of range",
     "output_type": "error",
     "traceback": [
      "\u001B[1;31m---------------------------------------------------------------------------\u001B[0m",
      "\u001B[1;31mIndexError\u001B[0m                                Traceback (most recent call last)",
      "\u001B[1;32m~\\AppData\\Local\\Temp/ipykernel_2348/1828699904.py\u001B[0m in \u001B[0;36m<module>\u001B[1;34m\u001B[0m\n\u001B[0;32m      1\u001B[0m \u001B[1;31m## count & contrast\u001B[0m\u001B[1;33m\u001B[0m\u001B[1;33m\u001B[0m\u001B[1;33m\u001B[0m\u001B[0m\n\u001B[0;32m      2\u001B[0m \u001B[0mcounts_sig_ref\u001B[0m \u001B[1;33m=\u001B[0m \u001B[0mscheduler\u001B[0m\u001B[1;33m.\u001B[0m\u001B[0mresult\u001B[0m  \u001B[1;31m# [times, counts, counts_ref]\u001B[0m\u001B[1;33m\u001B[0m\u001B[1;33m\u001B[0m\u001B[0m\n\u001B[1;32m----> 3\u001B[1;33m \u001B[0mcontrast\u001B[0m \u001B[1;33m=\u001B[0m \u001B[1;33m[\u001B[0m\u001B[0msig\u001B[0m\u001B[1;33m/\u001B[0m\u001B[0mref\u001B[0m \u001B[1;32mfor\u001B[0m \u001B[0msig\u001B[0m\u001B[1;33m,\u001B[0m \u001B[0mref\u001B[0m \u001B[1;32min\u001B[0m \u001B[0mzip\u001B[0m\u001B[1;33m(\u001B[0m\u001B[0mcounts_sig_ref\u001B[0m\u001B[1;33m[\u001B[0m\u001B[1;36m1\u001B[0m\u001B[1;33m]\u001B[0m\u001B[1;33m,\u001B[0m \u001B[0mcounts_sig_ref\u001B[0m\u001B[1;33m[\u001B[0m\u001B[1;36m2\u001B[0m\u001B[1;33m]\u001B[0m\u001B[1;33m)\u001B[0m\u001B[1;33m]\u001B[0m\u001B[1;33m\u001B[0m\u001B[1;33m\u001B[0m\u001B[0m\n\u001B[0m\u001B[0;32m      4\u001B[0m \u001B[1;33m\u001B[0m\u001B[0m\n",
      "\u001B[1;31mIndexError\u001B[0m: list index out of range"
     ]
    }
   ],
   "source": [
    "## count & contrast\n",
    "counts_sig_ref = scheduler.result  # [times, counts, counts_ref]\n",
    "contrast = [sig/ref for sig, ref in zip(counts_sig_ref[1], counts_sig_ref[2])]"
   ]
  },
  {
   "cell_type": "code",
   "execution_count": 6,
   "metadata": {},
   "outputs": [
    {
     "ename": "NameError",
     "evalue": "name 'contrast' is not defined",
     "output_type": "error",
     "traceback": [
      "\u001B[1;31m---------------------------------------------------------------------------\u001B[0m",
      "\u001B[1;31mNameError\u001B[0m                                 Traceback (most recent call last)",
      "\u001B[1;32m~\\AppData\\Local\\Temp/ipykernel_2348/1737635237.py\u001B[0m in \u001B[0;36m<module>\u001B[1;34m\u001B[0m\n\u001B[1;32m----> 1\u001B[1;33m \u001B[0mplot_t1\u001B[0m\u001B[1;33m(\u001B[0m\u001B[0mcounts_sig_ref\u001B[0m\u001B[1;33m[\u001B[0m\u001B[1;36m0\u001B[0m\u001B[1;33m]\u001B[0m\u001B[1;33m,\u001B[0m \u001B[0mcontrast\u001B[0m\u001B[1;33m)\u001B[0m\u001B[1;33m\u001B[0m\u001B[1;33m\u001B[0m\u001B[0m\n\u001B[0m\u001B[0;32m      2\u001B[0m \u001B[1;33m\u001B[0m\u001B[0m\n",
      "\u001B[1;31mNameError\u001B[0m: name 'contrast' is not defined"
     ]
    }
   ],
   "source": [
    "plot_t1(counts_sig_ref[0], contrast)"
   ]
  },
  {
   "cell_type": "code",
   "execution_count": null,
   "metadata": {},
   "outputs": [],
   "source": []
  },
  {
   "cell_type": "code",
   "execution_count": null,
   "metadata": {},
   "outputs": [],
   "source": []
  }
 ],
 "metadata": {
  "kernelspec": {
   "display_name": "Python 3",
   "language": "python",
   "name": "python3"
  },
  "language_info": {
   "codemirror_mode": {
    "name": "ipython",
    "version": 3
   },
   "file_extension": ".py",
   "mimetype": "text/x-python",
   "name": "python",
   "nbconvert_exporter": "python",
   "pygments_lexer": "ipython3",
   "version": "3.8.11"
  }
 },
 "nbformat": 4,
 "nbformat_minor": 0
}