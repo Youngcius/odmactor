{
 "cells": [
  {
   "cell_type": "markdown",
   "metadata": {},
   "source": [
    "# Customized ODMR Detecting Mode"
   ]
  },
  {
   "cell_type": "code",
   "execution_count": 2,
   "metadata": {},
   "outputs": [],
   "source": [
    "import matplotlib.pyplot as plt\n",
    "import scipy.constants as C\n",
    "import numpy as np\n",
    "import time\n",
    "from odmactor.utils import flip_sequence\n",
    "from odmactor.utils.sequence import seq_to_fig\n",
    "from odmactor.scheduler import CWScheduler, PulseScheduler\n"
   ]
  },
  {
   "cell_type": "markdown",
   "metadata": {},
   "source": [
    "## Customized Frequency-domain detecting\n",
    "\n",
    "![](./figure/frequency-shceduling.jpg)"
   ]
  },
  {
   "cell_type": "markdown",
   "metadata": {},
   "source": [
    "**1. Self-defined ODMR parameters (laser, MW, tagger, etc.)**\n",
    "- Basic instrument parameters (MW power, MW frequency, etc.)\n",
    "- ODMR sequences\n"
   ]
  },
  {
   "cell_type": "code",
   "execution_count": null,
   "metadata": {},
   "outputs": [],
   "source": [
    "mw_ttl = 0\n",
    "scheduler = PulseScheduler(mw_ttl=mw_ttl)\n"
   ]
  },
  {
   "cell_type": "code",
   "execution_count": null,
   "metadata": {},
   "outputs": [],
   "source": [
    "channel_dict = {\n",
    "    'laser': 1,\n",
    "    'mw': 2,\n",
    "    'apd': 3,\n",
    "    'tagger': 5\n",
    "}\n",
    "tagger_input = {'apd': 1, 'asg': 2}\n",
    "\n",
    "N = int(1e6)\n",
    "\n",
    "freq_start = 2.81 * C.giga\n",
    "freq_end = 2.93 * C.giga\n",
    "freq_step = 1 * C.mega\n",
    "\n",
    "t_init = 3e3\n",
    "t_mw = 800\n",
    "\n",
    "inter_init_mw = 3000\n",
    "inter_mw_read = 0\n",
    "\n",
    "inter_readout = 0\n",
    "t_read_sig = 800\n",
    "pre_read = 100\n",
    "\n",
    "p = 10 # MW power, unit: dBm\n",
    "\n"
   ]
  },
  {
   "cell_type": "markdown",
   "metadata": {},
   "source": []
  },
  {
   "cell_type": "code",
   "execution_count": null,
   "metadata": {},
   "outputs": [],
   "source": [
    "laser_seq = \n",
    "mw_seq = \n",
    "mw_seq = flip_sequence(mw_seq) if mw_ttl==0 else mw_seq\n",
    "tagger_seq = \n",
    "\n",
    "sequences = [[0,0] for i in range(8)]\n",
    "sequences[channel_dict['laser']-1] = laser_seq\n",
    "sequences[channel_dict['mw']-1] = mw_seq\n",
    "sequences[channel_dict['tagger']-1] = tagger_seq\n",
    "fig = seq_to_fig(sequences)"
   ]
  },
  {
   "cell_type": "code",
   "execution_count": null,
   "metadata": {},
   "outputs": [],
   "source": []
  },
  {
   "cell_type": "code",
   "execution_count": null,
   "metadata": {},
   "outputs": [],
   "source": [
    "\n",
    "scheduler.channel = channel_dict\n",
    "scheduler.configure_mw_paras(power=p)\n",
    "scheduler.download_asg_sequences(laser_seq, mw_seq, tagger_seq, N)\n",
    "scheduler.set_mw_freqs(freq_start, freq_end, freq_step)\n",
    "scheduler.configure_tagger_counting(reader='cbm') # CBM: Counter Between Markers"
   ]
  },
  {
   "cell_type": "code",
   "execution_count": null,
   "metadata": {},
   "outputs": [],
   "source": [
    "scheduler.run_scanning()"
   ]
  },
  {
   "cell_type": "code",
   "execution_count": null,
   "metadata": {},
   "outputs": [],
   "source": []
  },
  {
   "cell_type": "code",
   "execution_count": null,
   "metadata": {},
   "outputs": [],
   "source": []
  },
  {
   "cell_type": "code",
   "execution_count": null,
   "metadata": {},
   "outputs": [],
   "source": []
  },
  {
   "cell_type": "code",
   "execution_count": null,
   "metadata": {},
   "outputs": [],
   "source": []
  },
  {
   "cell_type": "markdown",
   "metadata": {},
   "source": [
    "## Customized Time-domain detecting"
   ]
  },
  {
   "cell_type": "code",
   "execution_count": null,
   "metadata": {},
   "outputs": [],
   "source": []
  },
  {
   "cell_type": "code",
   "execution_count": null,
   "metadata": {},
   "outputs": [],
   "source": []
  },
  {
   "cell_type": "code",
   "execution_count": null,
   "metadata": {},
   "outputs": [],
   "source": []
  },
  {
   "cell_type": "code",
   "execution_count": null,
   "metadata": {},
   "outputs": [],
   "source": []
  },
  {
   "cell_type": "code",
   "execution_count": null,
   "metadata": {},
   "outputs": [],
   "source": []
  }
 ],
 "metadata": {
  "interpreter": {
   "hash": "26d6d95e799f68a0680bea77b17a4e3218da601be7d02863e2950dbe63a5be85"
  },
  "kernelspec": {
   "display_name": "Python 3.8.12 ('base')",
   "language": "python",
   "name": "python3"
  },
  "language_info": {
   "codemirror_mode": {
    "name": "ipython",
    "version": 3
   },
   "file_extension": ".py",
   "mimetype": "text/x-python",
   "name": "python",
   "nbconvert_exporter": "python",
   "pygments_lexer": "ipython3",
   "version": "3.8.12"
  },
  "orig_nbformat": 4
 },
 "nbformat": 4,
 "nbformat_minor": 2
}
