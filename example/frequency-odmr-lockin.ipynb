{
 "cells": [
  {
   "cell_type": "markdown",
   "source": [
    "# Frequency-domain ODMR measurement (with APD & Time Tagger)"
   ],
   "metadata": {
    "collapsed": false,
    "pycharm": {
     "name": "#%% md\n"
    }
   }
  },
  {
   "cell_type": "markdown",
   "source": [
    "\n",
    "\n",
    "![frequency-shceduling](./figure/frequency-shceduling.jpg)\n"
   ],
   "metadata": {
    "collapsed": false,
    "pycharm": {
     "name": "#%% md\n"
    }
   }
  },
  {
   "cell_type": "markdown",
   "source": [
    "Import necessary modules and functions firstly"
   ],
   "metadata": {
    "collapsed": false,
    "pycharm": {
     "name": "#%% md\n"
    }
   }
  },
  {
   "cell_type": "code",
   "execution_count": null,
   "outputs": [],
   "source": [
    "import matplotlib.pyplot as plt\n",
    "from odmactor.scheduler import CWScheduler, PulseScheduler\n",
    "import scipy.constants as C\n",
    "import numpy as np\n",
    "import time\n",
    "from odmactor.instrument import *\n",
    "\n"
   ],
   "metadata": {
    "collapsed": false,
    "pycharm": {
     "name": "#%%\n"
    }
   }
  },
  {
   "cell_type": "markdown",
   "source": [
    "## CW ODMR"
   ],
   "metadata": {
    "collapsed": false,
    "pycharm": {
     "name": "#%% md\n"
    }
   }
  },
  {
   "cell_type": "markdown",
   "source": [
    "**1. Set measurement parameters**\n",
    "- Time bin $t$ per readout operation, number of readout operation $N$ per frequency measurement point\n",
    "- MW power $p$, MW frequencies for scanning modes, i.e., `[freq_start, freq_end, freq_step]`, unit: \"Hz\"\n"
   ],
   "metadata": {
    "collapsed": false,
    "pycharm": {
     "name": "#%% md\n"
    }
   }
  },
  {
   "cell_type": "code",
   "execution_count": null,
   "outputs": [],
   "source": [
    "f = 50  #unit: Hz\n",
    "period = 1 / f / C.nano\n",
    "N = int(1e3 / 5)\n",
    "\n",
    "freq_start = 0.04 * C.giga\n",
    "freq_end = 0.1 * C.giga\n",
    "freq_step = 2 * C.mega\n",
    "p = -15\n"
   ],
   "metadata": {
    "collapsed": false,
    "pycharm": {
     "name": "#%%\n"
    }
   }
  },
  {
   "cell_type": "markdown",
   "source": [
    "**2. Construct a Continous-wave Scheduler and run**\n"
   ],
   "metadata": {
    "collapsed": false,
    "pycharm": {
     "name": "#%% md\n"
    }
   }
  },
  {
   "cell_type": "code",
   "execution_count": null,
   "outputs": [],
   "source": [
    "cw_scheduler = CWScheduler(with_ref=False, use_lockin=True, epoch_omit=5)"
   ],
   "metadata": {
    "collapsed": false,
    "pycharm": {
     "name": "#%%\n"
    }
   }
  },
  {
   "cell_type": "code",
   "execution_count": null,
   "outputs": [],
   "source": [
    "cw_scheduler.reconnect()\n",
    "cw_scheduler.configure_mw_paras(p)\n",
    "cw_scheduler.configure_lockin_counting()\n",
    "cw_scheduler.configure_odmr_seq(period, N)\n",
    "cw_scheduler.set_mw_freqs(freq_start, freq_end, freq_step)\n",
    "\n",
    "cw_scheduler.run_scanning()\n",
    "cw_scheduler.close()"
   ],
   "metadata": {
    "collapsed": false,
    "pycharm": {
     "name": "#%%\n"
    }
   }
  },
  {
   "cell_type": "code",
   "execution_count": null,
   "outputs": [],
   "source": [
    "# visualize ASG sequences\n",
    "fig = cw_scheduler.sequences_figure\n"
   ],
   "metadata": {
    "collapsed": false,
    "pycharm": {
     "name": "#%%\n"
    }
   }
  },
  {
   "cell_type": "markdown",
   "source": [
    "**3. Calculate contrast and plot figures**"
   ],
   "metadata": {
    "collapsed": false,
    "pycharm": {
     "name": "#%% md\n"
    }
   }
  },
  {
   "cell_type": "code",
   "execution_count": null,
   "outputs": [],
   "source": [
    "## count & contrast\n",
    "cw_sig_ref = cw_scheduler.result  # [freqs, counts, counts_ref]\n",
    "if len(cw_sig_ref) == 3:\n",
    "    contrast_cw = [sig / ref for sig, ref in zip(cw_sig_ref[1], cw_sig_ref[1])]\n",
    "else:\n",
    "    contrast_cw = []"
   ],
   "metadata": {
    "collapsed": false,
    "pycharm": {
     "name": "#%%\n"
    }
   }
  },
  {
   "cell_type": "code",
   "execution_count": null,
   "outputs": [],
   "source": [
    "# count\n",
    "plt.plot(cw_sig_ref[0][0:], cw_sig_ref[1][0:], 'o-', label='MW on')\n",
    "if len(cw_sig_ref) == 3:\n",
    "    plt.plot(cw_sig_ref[0][0:], cw_sig_ref[2][0:], 'o-', label='MW off')\n",
    "plt.legend()\n",
    "plt.title('Counts')\n",
    "plt.show()"
   ],
   "metadata": {
    "collapsed": false,
    "pycharm": {
     "name": "#%%\n"
    }
   }
  },
  {
   "cell_type": "code",
   "execution_count": null,
   "outputs": [],
   "source": [
    "# contrast\n",
    "if contrast_cw:\n",
    "    plt.plot(cw_sig_ref[0][3:], contrast_cw[3:], 'o-')\n",
    "    plt.title('Contrast')\n",
    "    plt.show()"
   ],
   "metadata": {
    "collapsed": false,
    "pycharm": {
     "name": "#%%\n"
    }
   }
  },
  {
   "cell_type": "code",
   "execution_count": null,
   "outputs": [],
   "source": [],
   "metadata": {
    "collapsed": false,
    "pycharm": {
     "name": "#%%\n"
    }
   }
  },
  {
   "cell_type": "markdown",
   "source": [
    "**4. Save data result**"
   ],
   "metadata": {
    "collapsed": false,
    "pycharm": {
     "name": "#%% md\n"
    }
   }
  },
  {
   "cell_type": "code",
   "execution_count": null,
   "outputs": [],
   "source": [
    "np.savetxt('cw-counting--{}dBm_12.txt'.format(p), np.array(cw_sig_ref))\n",
    "np.savetxt('cw-contrast--{}dBm_12.txt'.format(p), np.vstack([cw_sig_ref[0], contrast_cw]).T)\n"
   ],
   "metadata": {
    "collapsed": false,
    "pycharm": {
     "name": "#%%\n"
    }
   }
  },
  {
   "cell_type": "markdown",
   "source": [
    "## Pulse ODMR\n"
   ],
   "metadata": {
    "collapsed": false,
    "pycharm": {
     "name": "#%% md\n"
    }
   }
  },
  {
   "cell_type": "markdown",
   "source": [
    "**1. Set measurement parameters**\n",
    "- number of readout operation $N$ per frequency measurement point\n",
    "- MW power $p$, MW frequencies for scanning modes, i.e., `[freq_start, freq_end, freq_step]`, unit: \"Hz\"\n",
    "- laser initilization time $t_{init}$, MW operation time $t_{mw}$, singal readout pulse time $t_{sig}$\n",
    "- optional default parameters: reference signals readout time $t_{ref}$ ($t_{ref} = t_{sig}$ actually), some time interval parameters\n",
    "- Time bin $t$ per readout operation is then calculated by the sequences parameters"
   ],
   "metadata": {
    "collapsed": false,
    "pycharm": {
     "name": "#%% md\n"
    }
   }
  },
  {
   "cell_type": "code",
   "execution_count": null,
   "outputs": [],
   "source": [
    "freq_start = 0.01 * C.giga\n",
    "freq_end = 0.2 * C.giga\n",
    "freq_step = 2 * C.mega\n",
    "\n",
    "t_init = 3e3\n",
    "t_mw = 1000\n",
    "\n",
    "inter_init_mw = 1000\n",
    "inter_mw_read = 1000\n",
    "\n",
    "inter_readout = 0\n",
    "t_read_sig = 700\n",
    "pre_read = 0\n",
    "\n",
    "N = int(1e6)\n",
    "\n",
    "p = -15\n"
   ],
   "metadata": {
    "collapsed": false,
    "pycharm": {
     "name": "#%%\n"
    }
   }
  },
  {
   "cell_type": "markdown",
   "source": [
    "**2. Construct a Pulse ODMR Scheduler and run**"
   ],
   "metadata": {
    "collapsed": false,
    "pycharm": {
     "name": "#%% md\n"
    }
   }
  },
  {
   "cell_type": "code",
   "execution_count": null,
   "outputs": [],
   "source": [
    "scheduler = PulseScheduler(mw_ttl=1, with_ref=False, use_lockin=True, epoch_omit=5)\n",
    "scheduler.configure_mw_paras(power=p)\n",
    "\n",
    "# single-signal readout\n",
    "scheduler.configure_lockin_counting()\n",
    "scheduler.configure_odmr_seq(t_init, t_mw, t_read_sig=t_read_sig, inter_init_mw=inter_init_mw,\n",
    "                             pre_read=pre_read, inter_mw_read=inter_mw_read, inter_readout=inter_readout, N=N)\n",
    "scheduler.set_mw_freqs(freq_start, freq_end, freq_step)"
   ],
   "metadata": {
    "collapsed": false,
    "pycharm": {
     "name": "#%%\n"
    }
   }
  },
  {
   "cell_type": "code",
   "execution_count": null,
   "outputs": [],
   "source": [
    "# visualize sequences\n",
    "fig = scheduler.sequences_figure\n"
   ],
   "metadata": {
    "collapsed": false,
    "pycharm": {
     "name": "#%%\n"
    }
   }
  },
  {
   "cell_type": "code",
   "execution_count": null,
   "outputs": [],
   "source": [
    "scheduler.run_scanning()\n",
    "\n",
    "scheduler.close()\n"
   ],
   "metadata": {
    "collapsed": false,
    "pycharm": {
     "name": "#%%\n"
    }
   }
  },
  {
   "cell_type": "markdown",
   "source": [
    "**3. Calculate contrast and plot figures**"
   ],
   "metadata": {
    "collapsed": false,
    "pycharm": {
     "name": "#%% md\n"
    }
   }
  },
  {
   "cell_type": "code",
   "execution_count": null,
   "outputs": [],
   "source": [
    "## count & contrast\n",
    "pulse_sig_ref = scheduler.result  # [freqs, counts, counts_ref]\n",
    "\n",
    "if len(pulse_sig_ref) == 3:\n",
    "    contrast_pulse = [sig / ref for sig, ref in zip(pulse_sig_ref[1], pulse_sig_ref[2])]\n",
    "else:\n",
    "    contrast_pulse = []"
   ],
   "metadata": {
    "collapsed": false,
    "pycharm": {
     "name": "#%%\n"
    }
   }
  },
  {
   "cell_type": "code",
   "execution_count": null,
   "outputs": [],
   "source": [
    "plt.plot(pulse_sig_ref[0][1:], pulse_sig_ref[1][1:], 'o--', label='Signal')\n",
    "if len(pulse_sig_ref) == 3:\n",
    "    plt.plot(pulse_sig_ref[0][1:], pulse_sig_ref[2][1:], 'o-', label='Reference')\n",
    "plt.legend()\n",
    "plt.title('Counts')\n",
    "plt.show()\n"
   ],
   "metadata": {
    "collapsed": false,
    "pycharm": {
     "name": "#%%\n"
    }
   }
  },
  {
   "cell_type": "code",
   "execution_count": null,
   "outputs": [],
   "source": [
    "if contrast_pulse:\n",
    "    plt.plot(pulse_sig_ref[0][1:], contrast_cw[1:], 'o-')\n",
    "    plt.title('Pulse ODMR Contrast')\n",
    "    plt.show()"
   ],
   "metadata": {
    "collapsed": false,
    "pycharm": {
     "name": "#%%\n"
    }
   }
  },
  {
   "cell_type": "markdown",
   "source": [
    "**4. Save results**"
   ],
   "metadata": {
    "collapsed": false,
    "pycharm": {
     "name": "#%% md\n"
    }
   }
  },
  {
   "cell_type": "code",
   "execution_count": null,
   "outputs": [],
   "source": [
    "np.savetxt('pulse_12.txt', scheduler.result)\n"
   ],
   "metadata": {
    "collapsed": false,
    "pycharm": {
     "name": "#%%\n"
    }
   }
  },
  {
   "cell_type": "code",
   "execution_count": null,
   "metadata": {
    "collapsed": false,
    "pycharm": {
     "name": "#%%\n"
    }
   },
   "outputs": [],
   "source": []
  }
 ],
 "metadata": {
  "kernelspec": {
   "display_name": "Python 3",
   "language": "python",
   "name": "python3"
  },
  "language_info": {
   "codemirror_mode": {
    "name": "ipython",
    "version": 3
   },
   "file_extension": ".py",
   "mimetype": "text/x-python",
   "name": "python",
   "nbconvert_exporter": "python",
   "pygments_lexer": "ipython3",
   "version": "3.8.11"
  }
 },
 "nbformat": 4,
 "nbformat_minor": 0
}